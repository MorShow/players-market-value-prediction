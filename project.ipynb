{
 "cells": [
  {
   "cell_type": "code",
   "id": "initial_id",
   "metadata": {
    "collapsed": true,
    "ExecuteTime": {
     "end_time": "2024-07-25T12:07:32.004820Z",
     "start_time": "2024-07-25T12:07:28.773152Z"
    }
   },
   "source": [
    "import pandas as pd\n",
    "import numpy\n",
    "import matplotlib.pyplot as plt\n",
    "import seaborn as sns\n",
    "import dill\n",
    "\n",
    "from python.mappings import FOOTBALL_LEAGUES_MAPPING, TEAMS_RANKING_MAPPING, EUROPEAN_TOURNAMENTS_MAPPING, PLAYERS_OUTSIDE_TOP5\n",
    "\n",
    "from scipy.stats import norm, skew\n",
    "from scipy.stats import probplot\n",
    "from scipy.stats import f_oneway, shapiro, levene, kruskal\n",
    "\n",
    "from scipy.special import boxcox1p\n",
    "from sklearn.preprocessing import LabelEncoder, OneHotEncoder, OrdinalEncoder\n",
    "from sklearn.preprocessing import StandardScaler, RobustScaler\n",
    "from sklearn.impute import SimpleImputer\n",
    "\n",
    "from sklearn.pipeline import make_pipeline\n",
    "from sklearn.compose import ColumnTransformer\n",
    "\n",
    "from sklearn.model_selection import train_test_split, ShuffleSplit, cross_validate, KFold, cross_val_score\n",
    "from sklearn.model_selection import GridSearchCV, RandomizedSearchCV\n",
    "from scipy.stats import randint as sp_randint\n",
    "\n",
    "from sklearn.tree import DecisionTreeRegressor, plot_tree\n",
    "from sklearn.ensemble import RandomForestRegressor, BaggingRegressor, AdaBoostRegressor, GradientBoostingRegressor, ExtraTreesRegressor\n",
    "from sklearn.ensemble import StackingRegressor\n",
    "from sklearn.linear_model import LinearRegression, SGDRegressor, Ridge, Lasso, ElasticNet, BayesianRidge\n",
    "from sklearn.kernel_ridge import KernelRidge\n",
    "from sklearn.svm import SVR, NuSVR\n",
    "from xgboost import XGBRegressor\n",
    "from lightgbm import LGBMRegressor\n",
    "\n",
    "from sklearn.base import BaseEstimator, TransformerMixin, RegressorMixin, clone\n",
    "\n",
    "from sklearn.metrics import root_mean_squared_error, root_mean_squared_log_error, r2_score, mean_absolute_percentage_error\n",
    "from sklearn.metrics import make_scorer\n",
    "\n",
    "%matplotlib inline"
   ],
   "outputs": [],
   "execution_count": 1
  },
  {
   "metadata": {
    "ExecuteTime": {
     "end_time": "2024-07-25T12:07:34.202025Z",
     "start_time": "2024-07-25T12:07:34.170771Z"
    }
   },
   "cell_type": "code",
   "source": [
    "# Constant variables\n",
    "TABLE_SIZE = 1546\n",
    "TRAIN_RATIO = 0.8"
   ],
   "id": "2818bb8829f00756",
   "outputs": [],
   "execution_count": 2
  },
  {
   "metadata": {
    "ExecuteTime": {
     "end_time": "2024-07-25T12:07:34.798389Z",
     "start_time": "2024-07-25T12:07:34.782771Z"
    }
   },
   "cell_type": "code",
   "source": [
    "# Joins train and test datasets together to simplify the process\n",
    "def concat_df(df1, df2):\n",
    "    return pd.concat([df1, df2], ignore_index=True)\n",
    "\n",
    "# Divides the overall dataset into train and test \n",
    "def divide_df(df):\n",
    "    train_size = int(TABLE_SIZE*TRAIN_RATIO)\n",
    "    \n",
    "    return df.loc[:train_size - 1], df.loc[train_size:] "
   ],
   "id": "41abdab83c09eeb1",
   "outputs": [],
   "execution_count": 3
  },
  {
   "metadata": {
    "ExecuteTime": {
     "end_time": "2024-07-25T12:07:35.410759Z",
     "start_time": "2024-07-25T12:07:35.318088Z"
    }
   },
   "cell_type": "code",
   "source": [
    "train_data = pd.read_csv('data/train_stats.csv')\n",
    "test_data = pd.read_csv('data/test_stats.csv')\n",
    "all_data = concat_df(train_data, test_data)\n",
    "df_train, df_test = divide_df(all_data)"
   ],
   "id": "2f025158010be507",
   "outputs": [],
   "execution_count": 4
  },
  {
   "metadata": {
    "ExecuteTime": {
     "end_time": "2024-07-25T12:07:35.824259Z",
     "start_time": "2024-07-25T12:07:35.777980Z"
    }
   },
   "cell_type": "code",
   "source": [
    "clean_sheets = pd.read_csv('data/footballers_clean_sheets.csv')\n",
    "popularity = pd.read_csv('data/footballers_popularity.csv')"
   ],
   "id": "e607777acf447bb5",
   "outputs": [],
   "execution_count": 5
  },
  {
   "metadata": {
    "ExecuteTime": {
     "end_time": "2024-07-25T12:07:36.274115Z",
     "start_time": "2024-07-25T12:07:36.244162Z"
    }
   },
   "cell_type": "code",
   "source": [
    "all_data = all_data.merge(right=clean_sheets, on=['Name'], how='left')\n",
    "all_data = all_data.merge(right=popularity, on=['Name'], how='left')"
   ],
   "id": "974e2453f5e0175a",
   "outputs": [],
   "execution_count": 6
  },
  {
   "metadata": {
    "ExecuteTime": {
     "end_time": "2024-07-25T12:07:36.685825Z",
     "start_time": "2024-07-25T12:07:36.670065Z"
    }
   },
   "cell_type": "code",
   "source": [
    "all_data['Clean Sheets %'].fillna(value=0, inplace=True)\n",
    "all_data['Popularity'].fillna(value=1, inplace=True)"
   ],
   "id": "8e8186ef663675e",
   "outputs": [],
   "execution_count": 7
  },
  {
   "metadata": {},
   "cell_type": "markdown",
   "source": "**1. PREPARATION STEP: Cleaning the data**",
   "id": "1af9a8029a956c85"
  },
  {
   "metadata": {
    "ExecuteTime": {
     "end_time": "2024-07-25T12:07:37.898580Z",
     "start_time": "2024-07-25T12:07:37.882951Z"
    }
   },
   "cell_type": "code",
   "source": "all_data.drop(['Player_URL', 'Team_URL'], axis=1, inplace=True)",
   "id": "b3a0af773bfea435",
   "outputs": [],
   "execution_count": 8
  },
  {
   "metadata": {
    "ExecuteTime": {
     "end_time": "2024-07-25T12:07:38.480659Z",
     "start_time": "2024-07-25T12:07:38.465652Z"
    }
   },
   "cell_type": "code",
   "source": [
    "# Cleans the columns containing commas \n",
    "def clean_comma(column):\n",
    "    column = column.strip()\n",
    "    column = column[:column.find(',')] + '' + column[column.find(',') + 1:]\n",
    "    return column\n",
    "\n",
    "# Cleans the columns containing '\\t' symbol\n",
    "def clean_tab(column):\n",
    "    return column.strip().replace('\\t', '')"
   ],
   "id": "e2ce9576f1801e26",
   "outputs": [],
   "execution_count": 9
  },
  {
   "metadata": {
    "ExecuteTime": {
     "end_time": "2024-07-25T12:07:38.931531Z",
     "start_time": "2024-07-25T12:07:38.900209Z"
    }
   },
   "cell_type": "code",
   "source": [
    "comma_columns = ['Team', 'Position']\n",
    "tab_columns = ['Goals', 'Assists', 'Yel', 'Red', 'SpG', 'AerialsWon', 'MotM', 'Tackles',\n",
    "               'Inter', 'Fouls', 'Offsides', 'Clear', 'Drb_x', 'Blocks', 'OwnG', 'KeyP',\n",
    "               'Drb_y', 'Fouled', 'Off', 'Disp', 'UnsTch', 'Crosses', 'LongB', 'ThrB']\n",
    "\n",
    "for column in comma_columns:\n",
    "    all_data[column] = all_data[column].apply(clean_comma)\n",
    "    \n",
    "for column in tab_columns:\n",
    "    all_data[column] = all_data[column].apply(clean_tab)"
   ],
   "id": "a9fe95d7fdef3339",
   "outputs": [],
   "execution_count": 10
  },
  {
   "metadata": {
    "ExecuteTime": {
     "end_time": "2024-07-25T12:07:39.413531Z",
     "start_time": "2024-07-25T12:07:39.398522Z"
    }
   },
   "cell_type": "code",
   "source": [
    "# Some columns with integer values contain symbol '-' instead of 0. The function fixes it\n",
    "def remove_dashes(column):\n",
    "    if column == '-':\n",
    "        return 0\n",
    "    return column"
   ],
   "id": "1b0a0d2a9cc68810",
   "outputs": [],
   "execution_count": 11
  },
  {
   "metadata": {
    "ExecuteTime": {
     "end_time": "2024-07-25T12:07:39.857232Z",
     "start_time": "2024-07-25T12:07:39.842209Z"
    }
   },
   "cell_type": "code",
   "source": [
    "dash_columns = ['Goals', 'Assists', 'Yel', 'Red', 'SpG', 'AerialsWon', 'MotM', 'Tackles',\n",
    "                'Inter', 'Fouls', 'Offsides', 'Clear', 'Drb_x', 'Drb_y', 'Blocks', 'OwnG', 'KeyP',\n",
    "                'Fouled', 'Off', 'Disp', 'UnsTch', 'Crosses', 'LongB', 'ThrB']\n",
    "\n",
    "for column in dash_columns:\n",
    "    all_data[column] = all_data[column].apply(remove_dashes)"
   ],
   "id": "8fdb80d5819a47c8",
   "outputs": [],
   "execution_count": 12
  },
  {
   "metadata": {
    "ExecuteTime": {
     "end_time": "2024-07-25T12:07:40.351932Z",
     "start_time": "2024-07-25T12:07:40.336200Z"
    }
   },
   "cell_type": "code",
   "source": [
    "# Now we have 'Value' variable containing market values in thousands or millions, but we want to get just an integer\n",
    "def value_scaling(value):\n",
    "    value = value.strip()\n",
    "    \n",
    "    if value.endswith('k'):\n",
    "        return int(float(value[value.find('€')+1:value.find('k')]) * 10**3)\n",
    "    elif value.endswith('m'):\n",
    "        return int(float(value[value.find('€')+1:value.find('m')]) * 10**6)"
   ],
   "id": "57fb37a3c75b3cd3",
   "outputs": [],
   "execution_count": 13
  },
  {
   "metadata": {
    "ExecuteTime": {
     "end_time": "2024-07-25T12:07:40.766045Z",
     "start_time": "2024-07-25T12:07:40.750752Z"
    }
   },
   "cell_type": "code",
   "source": "all_data['Value'] = all_data['Value'].apply(value_scaling)",
   "id": "64e1dcb14595efdc",
   "outputs": [],
   "execution_count": 14
  },
  {
   "metadata": {
    "ExecuteTime": {
     "end_time": "2024-07-25T12:07:41.233812Z",
     "start_time": "2024-07-25T12:07:41.218168Z"
    }
   },
   "cell_type": "code",
   "source": [
    "# We can divide 'Apps' variable because the number of appearances in starting squad is demonstrated in parentheses \n",
    "def appearances_division(apps):\n",
    "    return apps[:apps.find('(')], apps[apps.find('(')+1:apps.find(')')]"
   ],
   "id": "a5a85156ab2cbb55",
   "outputs": [],
   "execution_count": 15
  },
  {
   "metadata": {
    "ExecuteTime": {
     "end_time": "2024-07-25T12:07:41.674745Z",
     "start_time": "2024-07-25T12:07:41.658989Z"
    }
   },
   "cell_type": "code",
   "source": "all_data['Overall_Apps'], all_data['Start_Apps'] = zip(*all_data['Apps'].apply(appearances_division))",
   "id": "28939733a047976e",
   "outputs": [],
   "execution_count": 16
  },
  {
   "metadata": {
    "ExecuteTime": {
     "end_time": "2024-07-25T12:07:42.097441Z",
     "start_time": "2024-07-25T12:07:42.082434Z"
    }
   },
   "cell_type": "code",
   "source": "all_data.drop(['Apps'], axis=1, inplace=True)",
   "id": "550aa9989664a4d6",
   "outputs": [],
   "execution_count": 17
  },
  {
   "metadata": {
    "ExecuteTime": {
     "end_time": "2024-07-25T12:07:42.540392Z",
     "start_time": "2024-07-25T12:07:42.524760Z"
    }
   },
   "cell_type": "code",
   "source": [
    "# It would be better if we replace 'Forward', 'Midfielder' with their short forms (FW, M)\n",
    "\n",
    "#all_data['Position'].value_counts()\n",
    "\n",
    "def position_mapping(position):\n",
    "    position = position.strip()\n",
    "    \n",
    "    if position == 'Forward': \n",
    "        return 'FW'\n",
    "    elif position == 'Midfielder': \n",
    "        return 'M(C)'\n",
    "    return position\n",
    "\n",
    "all_data['Position'] = all_data['Position'].apply(position_mapping)"
   ],
   "id": "ecc867c0b9fc4c35",
   "outputs": [],
   "execution_count": 18
  },
  {
   "metadata": {
    "ExecuteTime": {
     "end_time": "2024-07-25T12:07:42.966120Z",
     "start_time": "2024-07-25T12:07:42.937847Z"
    }
   },
   "cell_type": "code",
   "source": [
    "# We can divide 'Position' column into two positions (if some player has only one position, he`ll get NaN value for the second one).#\n",
    "def position_division(position):\n",
    "    \n",
    "    # only two main positions, that`s enough\n",
    "    if position.count(',') >= 2:\n",
    "        while position.count(',') != 1:\n",
    "            position = position[:position.rfind(',')]\n",
    "          \n",
    "    if position.find(',') != -1:\n",
    "        return pd.Series([position[:position.find(',')].strip(), position[position.find(',')+1:]]).values\n",
    "    return pd.Series([position.strip(), numpy.nan]).values\n",
    "\n",
    "# Center (C), Right (R) or Left (L)? This information is contained in parentheses\n",
    "def position_side(position):\n",
    "    \n",
    "    # numpy.nan has 'float' type\n",
    "    if type(position) != float:\n",
    "        if position.find('(') != -1:\n",
    "            sides = tuple(position[position.find('(')+1:position.find(')')])\n",
    "            position = position[:position.find('(')].strip(),\n",
    "            \n",
    "            return position + sides + tuple([numpy.nan] * (3 - len(sides)))\n",
    "        else:\n",
    "            position = position.strip(),\n",
    "\n",
    "            return position + tuple([numpy.nan] * 3)\n",
    "    else:\n",
    "        return tuple([numpy.nan] * 4)"
   ],
   "id": "9eed717308b39305",
   "outputs": [],
   "execution_count": 19
  },
  {
   "metadata": {
    "ExecuteTime": {
     "end_time": "2024-07-25T12:07:43.426235Z",
     "start_time": "2024-07-25T12:07:43.341140Z"
    }
   },
   "cell_type": "code",
   "source": "all_data['Position_1'], all_data['Position_2'] = zip(*all_data['Position'].apply(position_division))",
   "id": "58b0e67a125d99b9",
   "outputs": [],
   "execution_count": 20
  },
  {
   "metadata": {
    "ExecuteTime": {
     "end_time": "2024-07-25T12:07:43.755695Z",
     "start_time": "2024-07-25T12:07:43.740047Z"
    }
   },
   "cell_type": "code",
   "source": [
    "all_data['Position_1'], all_data['Side_11'], all_data['Side_12'], all_data['Side_13'] = zip(*all_data['Position_1'].apply(position_side))\n",
    "all_data['Position_2'], all_data['Side_21'], all_data['Side_22'], all_data['Side_23'] = zip(*all_data['Position_2'].apply(position_side))"
   ],
   "id": "c3e20f6012e4fcbf",
   "outputs": [],
   "execution_count": 21
  },
  {
   "metadata": {
    "ExecuteTime": {
     "end_time": "2024-07-25T12:07:44.211884Z",
     "start_time": "2024-07-25T12:07:44.180537Z"
    }
   },
   "cell_type": "code",
   "source": "all_data.drop(['Position'], axis=1, inplace=True)",
   "id": "4081793d41f8c74d",
   "outputs": [],
   "execution_count": 22
  },
  {
   "metadata": {
    "ExecuteTime": {
     "end_time": "2024-07-25T12:07:46.655003Z",
     "start_time": "2024-07-25T12:07:46.608107Z"
    }
   },
   "cell_type": "code",
   "source": [
    "# Time to change column types\n",
    "float_type = ['SpG', 'AerialsWon', 'Tackles', 'Inter', 'Fouls', 'Offsides',\n",
    "              'Clear', 'Drb_x', 'Blocks', 'KeyP', 'Drb_y', 'Fouled', 'Off',\n",
    "              'Disp', 'UnsTch', 'Crosses', 'LongB', 'ThrB']\n",
    "int_type = ['Goals', 'Assists', 'Yel', 'Red', 'MotM', 'OwnG', 'Overall_Apps', 'Start_Apps']\n",
    "\n",
    "all_data[float_type] = all_data[float_type].astype('float')\n",
    "all_data[int_type] = all_data[int_type].astype('int64')"
   ],
   "id": "646799740da9446c",
   "outputs": [],
   "execution_count": 24
  },
  {
   "metadata": {
    "ExecuteTime": {
     "end_time": "2024-07-25T12:07:47.386707Z",
     "start_time": "2024-07-25T12:07:47.371003Z"
    }
   },
   "cell_type": "code",
   "source": [
    "# Insert 'Value' variable at the end of the dataset\n",
    "value_column = all_data.pop('Value')\n",
    "all_data['Value'] = value_column\n",
    "\n",
    "# Insert 'Position_2' variable before the variable 'Side_21'\n",
    "pos2_column = all_data.pop('Position_2')\n",
    "index = all_data.columns.get_loc('Side_21')\n",
    "all_data.insert(index, 'Position_2', pos2_column)"
   ],
   "id": "590a7339f2c0608a",
   "outputs": [],
   "execution_count": 25
  },
  {
   "metadata": {
    "ExecuteTime": {
     "end_time": "2024-07-25T12:07:48.208549Z",
     "start_time": "2024-07-25T12:07:48.177282Z"
    }
   },
   "cell_type": "code",
   "source": [
    "all_data = all_data[all_data['Value'] < 100000000]\n",
    "all_data = all_data[(all_data['Age'] < 32) | (all_data['Popularity'] < 3)]"
   ],
   "id": "44e07c1fb13d38b5",
   "outputs": [],
   "execution_count": 26
  },
  {
   "metadata": {
    "ExecuteTime": {
     "end_time": "2024-07-25T12:07:48.980384Z",
     "start_time": "2024-07-25T12:07:48.948569Z"
    }
   },
   "cell_type": "code",
   "source": "all_data[all_data['Name'] == 'Jacob Murphy']",
   "id": "8aa18fc596cda1c3",
   "outputs": [
    {
     "data": {
      "text/plain": [
       "              Name       Team  Age  Mins  Goals  Assists  Yel  Red  SpG    PS  \\\n",
       "1275  Jacob Murphy  Newcastle   29  1194      3        7    1    0  1.4  73.6   \n",
       "\n",
       "      ...  Start_Apps  Position_1  Side_11  Side_12  Side_13  Position_2  \\\n",
       "1275  ...           7           D        R      NaN      NaN           M   \n",
       "\n",
       "      Side_21  Side_22  Side_23     Value  \n",
       "1275        L        R      NaN  15000000  \n",
       "\n",
       "[1 rows x 44 columns]"
      ],
      "text/html": [
       "<div>\n",
       "<style scoped>\n",
       "    .dataframe tbody tr th:only-of-type {\n",
       "        vertical-align: middle;\n",
       "    }\n",
       "\n",
       "    .dataframe tbody tr th {\n",
       "        vertical-align: top;\n",
       "    }\n",
       "\n",
       "    .dataframe thead th {\n",
       "        text-align: right;\n",
       "    }\n",
       "</style>\n",
       "<table border=\"1\" class=\"dataframe\">\n",
       "  <thead>\n",
       "    <tr style=\"text-align: right;\">\n",
       "      <th></th>\n",
       "      <th>Name</th>\n",
       "      <th>Team</th>\n",
       "      <th>Age</th>\n",
       "      <th>Mins</th>\n",
       "      <th>Goals</th>\n",
       "      <th>Assists</th>\n",
       "      <th>Yel</th>\n",
       "      <th>Red</th>\n",
       "      <th>SpG</th>\n",
       "      <th>PS</th>\n",
       "      <th>...</th>\n",
       "      <th>Start_Apps</th>\n",
       "      <th>Position_1</th>\n",
       "      <th>Side_11</th>\n",
       "      <th>Side_12</th>\n",
       "      <th>Side_13</th>\n",
       "      <th>Position_2</th>\n",
       "      <th>Side_21</th>\n",
       "      <th>Side_22</th>\n",
       "      <th>Side_23</th>\n",
       "      <th>Value</th>\n",
       "    </tr>\n",
       "  </thead>\n",
       "  <tbody>\n",
       "    <tr>\n",
       "      <th>1275</th>\n",
       "      <td>Jacob Murphy</td>\n",
       "      <td>Newcastle</td>\n",
       "      <td>29</td>\n",
       "      <td>1194</td>\n",
       "      <td>3</td>\n",
       "      <td>7</td>\n",
       "      <td>1</td>\n",
       "      <td>0</td>\n",
       "      <td>1.4</td>\n",
       "      <td>73.6</td>\n",
       "      <td>...</td>\n",
       "      <td>7</td>\n",
       "      <td>D</td>\n",
       "      <td>R</td>\n",
       "      <td>NaN</td>\n",
       "      <td>NaN</td>\n",
       "      <td>M</td>\n",
       "      <td>L</td>\n",
       "      <td>R</td>\n",
       "      <td>NaN</td>\n",
       "      <td>15000000</td>\n",
       "    </tr>\n",
       "  </tbody>\n",
       "</table>\n",
       "<p>1 rows × 44 columns</p>\n",
       "</div>"
      ]
     },
     "execution_count": 27,
     "metadata": {},
     "output_type": "execute_result"
    }
   ],
   "execution_count": 27
  },
  {
   "metadata": {},
   "cell_type": "markdown",
   "source": "**2. EXPLORATORY DATA ANALYSIS AND FEATURE ENGINEERING**",
   "id": "8d816844253ea6fb"
  },
  {
   "metadata": {},
   "cell_type": "markdown",
   "source": [
    "**GLOSSARY. DESCRIPTION OF THE VARIABLES**\n",
    "\n",
    "- SpG - Shots per game\n",
    "- PS(%) - Percentage of successful passes\n",
    "- AerialsWon, Aerial - Header in a direct contest with an opponent\n",
    "- MotM - Man of the Match\n",
    "- Tackle - Dispossessing an opponent, whether the tackling player comes away with the ball or not\n",
    "- Interception (Inter) - Preventing an opponent's pass from reaching their teammates\n",
    "- Fouls - How often a player commits a foul\n",
    "  Fouled - How often a player gets fouled\n",
    "- Offsides - It`s referred to \"offside won\" - the last man to step up to catch an opponent in an offside position\n",
    "  Off - How often a player gets in offside position\n",
    "- Clearance (Clear) - Action by a defending player that temporarily removes the attacking threat on their goal/that effectively alleviate pressure on their goal\n",
    "- Drb_x - How often a player gets dribbled (being dribbled past by an opponent without winning a tackle)\n",
    "  Drb_y - Frequency of successful dribbles\n",
    "- Blocks - The number of blocked shots per game\n",
    "- OwnG - Own goal\n",
    "- KeyP - Key passes (the final pass leading to a shot at goal from a teammate)\n",
    "- Dispossessed (Disp) - How often a player gets tackled by an opponent without attempting to dribble past them\n",
    "- UnsTch - ???\n",
    "- Average Passes (AvgP) - Average number of passes attempted (short passes, long balls, through balls, crosses)\n",
    "- Cross - An attempted/accurate pass from a wide position to a central attacking area\n",
    "- Long Ball (LongB) - An attempted/accurate pass of 25 yards or more\n",
    "- Through Ball (ThrB) - An attempted/accurate pass between opposition players in their defensive line to find an onrushing teammate (running through on goal)\n",
    "- Apps - appearances on the football field"
   ],
   "id": "71ed0b73b6707994"
  },
  {
   "metadata": {},
   "cell_type": "code",
   "source": "df_train, df_test = divide_df(all_data)",
   "id": "3c73463e94efd21f",
   "outputs": [],
   "execution_count": null
  },
  {
   "metadata": {},
   "cell_type": "markdown",
   "source": [
    "Let`s start with categorical variables.\n",
    "\n",
    "We see that there are a lot of missing values for 'Side_2X' and 'Side_13' variables (>80%). It describes where a player is located on a football pinch (left, right or center). But it can be useful to create a variable that shows how much place some player \"occupies\", on how many sides he is able to play. If it isn`t shown (all three variables are NaN values), then we will set 1."
   ],
   "id": "77d98156930e0900"
  },
  {
   "metadata": {
    "ExecuteTime": {
     "end_time": "2024-07-25T12:07:52.219260Z",
     "start_time": "2024-07-25T12:07:52.203606Z"
    }
   },
   "cell_type": "code",
   "source": [
    "def position_sides(s1, s2, s3):\n",
    "    sides_list = [s1, s2, s3]\n",
    "    \n",
    "    while numpy.nan in sides_list:\n",
    "        sides_list.remove(numpy.nan)\n",
    "    \n",
    "    if len(sides_list) == 0:\n",
    "        return 1\n",
    "    return len(sides_list)"
   ],
   "id": "fd43cb7596ddf029",
   "outputs": [],
   "execution_count": 28
  },
  {
   "metadata": {
    "ExecuteTime": {
     "end_time": "2024-07-25T12:07:53.200693Z",
     "start_time": "2024-07-25T12:07:53.153811Z"
    }
   },
   "cell_type": "code",
   "source": [
    "all_data['Position_1_Sides'] = all_data.apply(lambda x: position_sides(x['Side_11'], x['Side_12'], x['Side_13']), axis=1)\n",
    "all_data['Position_2_Sides'] = all_data.apply(lambda x: position_sides(x['Side_21'], x['Side_22'], x['Side_23']), axis=1)"
   ],
   "id": "5acd90ae108608c2",
   "outputs": [],
   "execution_count": 29
  },
  {
   "metadata": {},
   "cell_type": "markdown",
   "source": "Other variables have no missing values so we can continue in our research",
   "id": "5d75691699c32e7f"
  },
  {
   "metadata": {},
   "cell_type": "markdown",
   "source": [
    "'Team' variable can be very useful: we can extract a league in which a football player competes, and it is somehow influences his market value. For instance, we expect that in Premier League players cost more because of higher level of this championship and some other aspects. For this task we will use our mapping.\n",
    "\n",
    "Also, we can divide our teams into three groups (A, B, C) based on their level ranking. Perhaps, players from \"big teams\" are more expensive "
   ],
   "id": "837ee8503b20709c"
  },
  {
   "metadata": {
    "ExecuteTime": {
     "end_time": "2024-07-25T12:07:56.084531Z",
     "start_time": "2024-07-25T12:07:56.068683Z"
    }
   },
   "cell_type": "code",
   "source": [
    "all_data['League'] = all_data['Team'].map(FOOTBALL_LEAGUES_MAPPING)\n",
    "all_data['Team_rank'] = all_data['Team'].map(TEAMS_RANKING_MAPPING)\n",
    "all_data['European tournament'] = all_data['Team'].map(EUROPEAN_TOURNAMENTS_MAPPING)\n",
    "all_data['Out of top5'] = all_data['Name'].isin(PLAYERS_OUTSIDE_TOP5)"
   ],
   "id": "41e12515b83de6ab",
   "outputs": [],
   "execution_count": 30
  },
  {
   "metadata": {},
   "cell_type": "markdown",
   "source": "Let`s check our presumptions by creating some plots!",
   "id": "2b8f122786b817c2"
  },
  {
   "metadata": {
    "ExecuteTime": {
     "end_time": "2024-07-25T12:07:57.116424Z",
     "start_time": "2024-07-25T12:07:57.100787Z"
    }
   },
   "cell_type": "code",
   "source": "order_rank = ['A-tier', 'B-tier', 'C-tier']",
   "id": "7c6a15a563255fb7",
   "outputs": [],
   "execution_count": 31
  },
  {
   "metadata": {},
   "cell_type": "code",
   "source": [
    "fig, ax = plt.subplots(1, 2, figsize=(20, 10), sharey=True)\n",
    "\n",
    "sns.boxplot(all_data,\n",
    "            x='League',\n",
    "            y='Value',\n",
    "            ax=ax[0])\n",
    "\n",
    "sns.boxplot(all_data,\n",
    "            x='Team_rank',\n",
    "            y='Value',\n",
    "            order=reversed(order_rank),\n",
    "            ax=ax[1])\n",
    "\n",
    "ax[0].set_title('The distribution of samples across the leagues')\n",
    "ax[0].set_yticks(ticks=[0, 0.25e8, 0.5e8, 0.75e8, 1e8, 1.25e8, 1.5e8, 1.75e8], \n",
    "                 labels=['0m', '25m', '50m', '75m', '100m', '125m', '150m', '175m'])\n",
    "ax[0].set_ylabel('Market value (in millions)')\n",
    "\n",
    "ax[1].set_title('The distribution of samples across the team rankings')\n",
    "ax[1].set_xlabel('Rank')\n",
    "ax[1].set_ylabel('')\n",
    "\n",
    "plt.show()"
   ],
   "id": "ec82dc62cfb399b",
   "outputs": [],
   "execution_count": null
  },
  {
   "metadata": {},
   "cell_type": "code",
   "source": [
    "fig, ax = plt.subplots(figsize=(12, 10))\n",
    "\n",
    "sns.kdeplot(all_data,\n",
    "            x='Value',\n",
    "            hue='League')\n",
    "\n",
    "ax.set_title('The distribution of market values across the leagues')\n",
    "ax.set_xlabel('Market value (in millions)')\n",
    "ax.set_xticks(ticks=[0, 0.5e8, 1e8, 1.5e8, 2e8], labels=['0', '50m', '100m', '150m', '200m'])\n",
    "\n",
    "plt.show()"
   ],
   "id": "9cd6045090354967",
   "outputs": [],
   "execution_count": null
  },
  {
   "metadata": {},
   "cell_type": "code",
   "source": [
    "fig, ax = plt.subplots(figsize=(12, 10))\n",
    "\n",
    "sns.kdeplot(all_data,\n",
    "            x='Value',\n",
    "            hue='Team_rank',\n",
    "            hue_order=order_rank)\n",
    "\n",
    "ax.set_title('The distribution of market values based on the team rank')\n",
    "ax.set_xlabel('Market value (in millions)')\n",
    "ax.set_xticks(ticks=[0, 0.5e8, 1e8, 1.5e8, 2e8], labels=['0', '50m', '100m', '150m', '200m'])\n",
    "\n",
    "plt.show()"
   ],
   "id": "78f641e04c059745",
   "outputs": [],
   "execution_count": null
  },
  {
   "metadata": {},
   "cell_type": "code",
   "source": [
    "fig, ax = plt.subplots(figsize=(20, 14))\n",
    "\n",
    "sns.swarmplot(all_data,\n",
    "              x='League',\n",
    "              y='Value',\n",
    "              size=4,\n",
    "              hue='Team_rank',\n",
    "              hue_order=order_rank,\n",
    "              ax=ax)\n",
    "\n",
    "ax.set_title('The distribution of samples across the leagues and team rankings', fontsize=20)\n",
    "ax.set_yticks(ticks=[0, 0.25e8, 0.5e8, 0.75e8, 1e8, 1.25e8, 1.5e8, 1.75e8], \n",
    "                 labels=['0m', '25m', '50m', '75m', '100m', '125m', '150m', '175m'])\n",
    "ax.set_ylabel('Market value (in millions)', fontsize=18)\n",
    "ax.xaxis.label.set_size(18)\n",
    "ax.tick_params(axis='both', which='major', labelsize=15)\n",
    "ax.legend(bbox_to_anchor=(1, 1), loc=2, fontsize=15)\n",
    "\n",
    "plt.show()"
   ],
   "id": "783dbce6f6da11f",
   "outputs": [],
   "execution_count": null
  },
  {
   "metadata": {},
   "cell_type": "markdown",
   "source": [
    "On the first graph we can see that the distributions are almost the same across the leagues, but the Premier league has a little bit different one with higher market values than for other leagues.\n",
    "\n",
    "From the second one we can notice that the distributions for A-ranked and B-ranked clubs are more heavy-tailed than for C-ranked teams, and in general, the majority of players in \"small clubs\" are located on the left part of the graph."
   ],
   "id": "ac8795abb7bd4ae2"
  },
  {
   "metadata": {},
   "cell_type": "code",
   "source": [
    "# Creates a table with different descriptive statistics for different groups of a categorical variable \n",
    "def descriptive_table(table, variable):\n",
    "    indices=table.groupby(variable)['Value'].mean().index\n",
    "    counts = table.groupby(variable)['Value'].count().values\n",
    "    means = table.groupby(variable)['Value'].mean().values\n",
    "    stds = table.groupby(variable)['Value'].std().values\n",
    "    medians = table.groupby(variable)['Value'].median().values\n",
    "    quantile_ninty = table.groupby(variable)['Value'].quantile(q=0.9).values\n",
    "    \n",
    "    table =  pd.DataFrame({'Sample size': counts,\n",
    "                           'Mean': means,\n",
    "                           'St. deviation': stds,\n",
    "                           'Median': medians,\n",
    "                           '90% quantile': quantile_ninty\n",
    "                           }, index=indices)\n",
    "    return table    "
   ],
   "id": "518e42cbf27da800",
   "outputs": [],
   "execution_count": null
  },
  {
   "metadata": {},
   "cell_type": "code",
   "source": [
    "for item in ['League', 'Team_rank']:\n",
    "    print(f\"Variable: {item}\")\n",
    "    display(descriptive_table(all_data, item))"
   ],
   "id": "259f10d3f93ce30c",
   "outputs": [],
   "execution_count": null
  },
  {
   "metadata": {},
   "cell_type": "markdown",
   "source": "**Idea**: We can create a variable that indicates whether some footballer plays in Premier League instead of 'League' column",
   "id": "8c2130a43dac48c3"
  },
  {
   "metadata": {
    "ExecuteTime": {
     "end_time": "2024-07-25T12:08:00.887390Z",
     "start_time": "2024-07-25T12:08:00.871738Z"
    }
   },
   "cell_type": "code",
   "source": "all_data['From EPL'] = all_data['League'] == 'Premier League'",
   "id": "65929bd35b014ed0",
   "outputs": [],
   "execution_count": 32
  },
  {
   "metadata": {
    "ExecuteTime": {
     "end_time": "2024-07-25T12:08:01.367188Z",
     "start_time": "2024-07-25T12:08:01.351611Z"
    }
   },
   "cell_type": "code",
   "source": "all_data['Champion'] = all_data['Team'].isin(['Inter', 'Real Madrid', 'Leverkusen', 'Man City', 'PSG'])",
   "id": "ae8676302bde4cee",
   "outputs": [],
   "execution_count": 33
  },
  {
   "metadata": {},
   "cell_type": "markdown",
   "source": "Now we will work with positions. It can be very useful to divide player`s positions into four groups (attack, midfield, defence and goalkeeper) because we can expect that the players in attack line cost more than goalkeepers. We will only operate with the main position and create 'Position' column.",
   "id": "d654667a908a2b65"
  },
  {
   "metadata": {
    "ExecuteTime": {
     "end_time": "2024-07-25T12:08:03.029565Z",
     "start_time": "2024-07-25T12:08:03.013948Z"
    }
   },
   "cell_type": "code",
   "source": [
    "position_mapping = {'FW': 'Attack',\n",
    "                    'AM': 'Midfield',\n",
    "                    'M': 'Midfield',\n",
    "                    'DMC': 'Midfield',\n",
    "                    'D': 'Defence',\n",
    "                    'GK': 'Goalkeeper'}\n",
    "\n",
    "all_data['Position'] = all_data['Position_1'].map(position_mapping)"
   ],
   "id": "f7ff343e2b7c951a",
   "outputs": [],
   "execution_count": 34
  },
  {
   "metadata": {},
   "cell_type": "code",
   "source": [
    "fig, ax = plt.subplots(1, 2, figsize=(20, 10), sharey=True)\n",
    "\n",
    "position_rank = ['Goalkeeper', 'Defence', 'Midfield', 'Attack']\n",
    "\n",
    "sns.boxplot(all_data,\n",
    "            x='Position',\n",
    "            y='Value',\n",
    "            order=position_rank,\n",
    "            ax=ax[0])\n",
    "\n",
    "sns.stripplot(all_data,\n",
    "              x='Position',\n",
    "              y='Value',\n",
    "              order=position_rank,\n",
    "              ax=ax[1])\n",
    "\n",
    "fig.suptitle('The distribution of samples depending on positions', fontsize=20)\n",
    "ax[0].set_yticks(ticks=[0, 0.25e8, 0.5e8, 0.75e8, 1e8, 1.25e8, 1.5e8, 1.75e8], \n",
    "                 labels=['0m', '25m', '50m', '75m', '100m', '125m', '150m', '175m'])\n",
    "ax[0].set_ylabel('Market value (in millions)')\n",
    "\n",
    "ax[1].set_ylabel('')\n",
    "\n",
    "plt.show()"
   ],
   "id": "dbcf34bb2ba4f5e4",
   "outputs": [],
   "execution_count": null
  },
  {
   "metadata": {},
   "cell_type": "code",
   "source": "display(descriptive_table(all_data, 'Position'))",
   "id": "27099fa1c7c406f0",
   "outputs": [],
   "execution_count": null
  },
  {
   "metadata": {},
   "cell_type": "code",
   "source": [
    "# Significance test for some categorical variable\n",
    "def significance_test(variable, transformation=False, test_type=None):\n",
    "    groups = []\n",
    "\n",
    "    for group in all_data[variable].unique():\n",
    "        sample = all_data.query(variable + '== @group')['Value'].values\n",
    "        \n",
    "        if transformation == 'log': \n",
    "            sample = numpy.log(sample + 1)\n",
    "        elif transformation == 'sqrt': \n",
    "            sample = numpy.sqrt(numpy.abs(sample))\n",
    "            \n",
    "        print(f'Shapiro-Wilk test: {shapiro(sample)}')\n",
    "        groups.append(sample)\n",
    "\n",
    "    print(f'Levene: {levene(*groups)}')\n",
    "    \n",
    "    if test_type == 'anova':\n",
    "        print(f'ANOVA test: {f_oneway(*groups)}')\n",
    "    elif test_type == 'kruskal':\n",
    "        for g in groups:\n",
    "            numpy.sort(g)\n",
    "            \n",
    "        print(f'Kruskal-Wallis test: {kruskal(*groups)}')"
   ],
   "id": "d901d2e44cd45811",
   "outputs": [],
   "execution_count": null
  },
  {
   "metadata": {},
   "cell_type": "code",
   "source": "significance_test('Position')",
   "id": "6e75b6117ba13571",
   "outputs": [],
   "execution_count": null
  },
  {
   "metadata": {},
   "cell_type": "markdown",
   "source": "The samples aren`t distributed normally and their variances differ significantly, but we can use transformations",
   "id": "a20ca6301792fd9a"
  },
  {
   "metadata": {},
   "cell_type": "code",
   "source": [
    "for tr in ['log', 'sqrt']:\n",
    "    significance_test('Position', transformation=tr)\n",
    "    print()\n",
    "    print('=' * 25)\n",
    "    print()"
   ],
   "id": "70a5255726921c40",
   "outputs": [],
   "execution_count": null
  },
  {
   "metadata": {},
   "cell_type": "markdown",
   "source": "The samples` distribution is still abnormal, but their variances are homogenous, so we can try to use Kruskal-Wallis test (we cannot use ANOVA test)",
   "id": "c571b153e000c673"
  },
  {
   "metadata": {},
   "cell_type": "code",
   "source": [
    "print('Without transformation: ')\n",
    "significance_test('Position', transformation=False, test_type='kruskal')"
   ],
   "id": "ae0542112fd9c24a",
   "outputs": [],
   "execution_count": null
  },
  {
   "metadata": {},
   "cell_type": "code",
   "source": [
    "print('With log transformation: ')\n",
    "significance_test('Position', transformation='log', test_type='kruskal')"
   ],
   "id": "66bb2b961ad4d6a2",
   "outputs": [],
   "execution_count": null
  },
  {
   "metadata": {},
   "cell_type": "markdown",
   "source": "Since Kruskal-Wallis test shows significant result, we can leave this variable",
   "id": "1111ac0af7130ce7"
  },
  {
   "metadata": {},
   "cell_type": "markdown",
   "source": "Let`s check 'Side_11' variable because it is footballer's main side (location where he usually plays)",
   "id": "6dafc3bbcb1fbb4c"
  },
  {
   "metadata": {},
   "cell_type": "code",
   "source": [
    "fig, ax = plt.subplots(figsize=(10, 6))\n",
    "\n",
    "side_rank = ['L', 'C', 'R']\n",
    "\n",
    "sns.boxplot(all_data,\n",
    "            x='Side_11',\n",
    "            y='Value',\n",
    "            order=side_rank,\n",
    "            ax=ax)\n",
    "\n",
    "fig.suptitle('The distribution of samples based on the side on the football pinch', fontsize=20)\n",
    "ax.set_yticks(ticks=[0, 0.25e8, 0.5e8, 0.75e8, 1e8, 1.25e8, 1.5e8, 1.75e8], \n",
    "                 labels=['0m', '25m', '50m', '75m', '100m', '125m', '150m', '175m'])\n",
    "ax.set_ylabel('Market value (in millions)')\n",
    "ax.set_xlabel('Side')\n",
    "\n",
    "plt.show()"
   ],
   "id": "86dd65df165a95cb",
   "outputs": [],
   "execution_count": null
  },
  {
   "metadata": {},
   "cell_type": "code",
   "source": "descriptive_table(all_data, 'Side_11')",
   "id": "5b00c9888568c231",
   "outputs": [],
   "execution_count": null
  },
  {
   "metadata": {
    "ExecuteTime": {
     "end_time": "2024-07-25T12:08:10.652413Z",
     "start_time": "2024-07-25T12:08:10.636792Z"
    }
   },
   "cell_type": "code",
   "source": "all_data['Side_11'].fillna(all_data['Side_11'].mode().values[0], inplace=True)",
   "id": "e439fecd3f40b470",
   "outputs": [],
   "execution_count": 35
  },
  {
   "metadata": {
    "ExecuteTime": {
     "end_time": "2024-07-25T12:08:11.316361Z",
     "start_time": "2024-07-25T12:08:11.300739Z"
    }
   },
   "cell_type": "code",
   "source": "all_data.rename(columns={'Side_11': 'Main side'}, inplace=True)",
   "id": "5b047a3ccc53bcd9",
   "outputs": [],
   "execution_count": 36
  },
  {
   "metadata": {},
   "cell_type": "markdown",
   "source": "This variable is not so useful as the previous ones. There are too little data for Left and Right sides, and we can expect that 'Side_12', 'Side_13', etc. are even less informative, so in the future we can drop them, leaving only 'Main_side' (it is the same as 'Side_11') variable.",
   "id": "ba724e9ae13043fd"
  },
  {
   "metadata": {},
   "cell_type": "markdown",
   "source": "Now we will work with 'Position_1_Sides' and 'Position_2_Sides' and create some interesting (at least we hope) plots",
   "id": "c6959d7d0988126c"
  },
  {
   "metadata": {},
   "cell_type": "code",
   "source": [
    "fig, ax = plt.subplots(figsize=(12, 10))\n",
    "\n",
    "sns.kdeplot(all_data,\n",
    "            x='Value',\n",
    "            hue='Position_1_Sides',\n",
    "            palette=['blue', 'green', 'orange'])\n",
    "\n",
    "ax.set_title('The distribution of market values depending on the number of positions a footballer occupies')\n",
    "ax.set_xlabel('Market value (in millions)')\n",
    "ax.set_xticks(ticks=[0, 0.5e8, 1e8, 1.5e8, 2e8], labels=['0', '50m', '100m', '150m', '200m'])\n",
    "\n",
    "plt.show()"
   ],
   "id": "17911d245f393998",
   "outputs": [],
   "execution_count": null
  },
  {
   "metadata": {},
   "cell_type": "markdown",
   "source": "Now let`s work with numerical variables  ",
   "id": "3aad0d95ce9de357"
  },
  {
   "metadata": {},
   "cell_type": "code",
   "source": "all_data.describe()",
   "id": "29bf9f79698fd65b",
   "outputs": [],
   "execution_count": null
  },
  {
   "metadata": {},
   "cell_type": "code",
   "source": "df_train, df_test = divide_df(all_data)",
   "id": "2b6f8b8d68da3f17",
   "outputs": [],
   "execution_count": null
  },
  {
   "metadata": {},
   "cell_type": "code",
   "source": [
    "fig, ax = plt.subplots(figsize=(12, 10))\n",
    "\n",
    "sns.histplot(df_train,\n",
    "            x='Age',\n",
    "            kde=True,\n",
    "            ax=ax,\n",
    "            label='train set')\n",
    "\n",
    "sns.histplot(df_test,\n",
    "            x='Age',\n",
    "            kde=True,\n",
    "            bins=18,\n",
    "            ax=ax,\n",
    "            label='test set')\n",
    "\n",
    "ax.set_title('The distribution of players by age')\n",
    "ax.set_xlabel('Age')\n",
    "ax.legend()\n",
    "\n",
    "plt.show()"
   ],
   "id": "4784519c118bc809",
   "outputs": [],
   "execution_count": null
  },
  {
   "metadata": {
    "ExecuteTime": {
     "end_time": "2024-07-25T12:08:15.925993Z",
     "start_time": "2024-07-25T12:08:15.894738Z"
    }
   },
   "cell_type": "code",
   "source": "all_data['Very old'] = all_data['Age'] >= 32",
   "id": "854db8519adacd0e",
   "outputs": [],
   "execution_count": 37
  },
  {
   "metadata": {},
   "cell_type": "code",
   "source": "df_train, df_test = divide_df(all_data)",
   "id": "51775efe6ee15537",
   "outputs": [],
   "execution_count": null
  },
  {
   "metadata": {},
   "cell_type": "code",
   "source": [
    "fig, ax = plt.subplots(figsize=(12, 10))\n",
    "\n",
    "sns.boxplot(df_train,\n",
    "            x='Age',\n",
    "            y='Value',\n",
    "            ax=ax)\n",
    "\n",
    "ax.set_title('The relation between age and value (train set)')\n",
    "ax.set_xlabel('Age')\n",
    "ax.set_yticks(ticks=[0, 0.25e8, 0.5e8, 0.75e8, 1e8, 1.25e8, 1.5e8, 1.75e8], \n",
    "                 labels=['0m', '25m', '50m', '75m', '100m', '125m', '150m', '175m'])\n",
    "ax.set_ylabel('Market value (in millions)')\n",
    "\n",
    "plt.show()"
   ],
   "id": "fd657f0f3b23db7f",
   "outputs": [],
   "execution_count": null
  },
  {
   "metadata": {},
   "cell_type": "code",
   "source": "descriptive_table(df_train, 'Age')",
   "id": "fc16ee11df194460",
   "outputs": [],
   "execution_count": null
  },
  {
   "metadata": {},
   "cell_type": "code",
   "source": [
    "fig, ax = plt.subplots(figsize=(12, 10))\n",
    "\n",
    "sns.histplot(df_train,\n",
    "            x='Mins',\n",
    "            kde=True,\n",
    "            ax=ax,\n",
    "            label='train set')\n",
    "\n",
    "sns.histplot(df_test,\n",
    "            x='Mins',\n",
    "            kde=True,\n",
    "            bins=16,\n",
    "            ax=ax,\n",
    "            label='test set')\n",
    "\n",
    "ax.set_title('The distribution of players by minutes played')\n",
    "ax.set_xlabel('Minutes')\n",
    "ax.legend()\n",
    "\n",
    "plt.show()"
   ],
   "id": "6fd1c1dd68f5c4bd",
   "outputs": [],
   "execution_count": null
  },
  {
   "metadata": {},
   "cell_type": "code",
   "source": [
    "sns.jointplot(df_train,\n",
    "              x='Mins',\n",
    "              y='Value',\n",
    "              kind=\"hex\", \n",
    "              height=8,\n",
    "              color=\"#FFF668\")\n",
    "\n",
    "plt.show()"
   ],
   "id": "6e385b7a1bd106e3",
   "outputs": [],
   "execution_count": null
  },
  {
   "metadata": {},
   "cell_type": "code",
   "source": [
    "#all_data['Minutes for MotM'] = all_data['Mins'] / all_data['MotM']\n",
    "#all_data['Minutes for Goal'] = all_data['Mins'] / all_data['Goals']\n",
    "#all_data['Minutes for Assist'] = all_data['Mins'] / all_data['Assists']\n",
    "#all_data['Minutes for KeyP'] = all_data['Mins'] / all_data['KeyP']"
   ],
   "id": "ee161d423896a9e6",
   "outputs": [],
   "execution_count": null
  },
  {
   "metadata": {},
   "cell_type": "code",
   "source": "df_train, df_test = divide_df(all_data)",
   "id": "99a371dd21567ec9",
   "outputs": [],
   "execution_count": null
  },
  {
   "metadata": {},
   "cell_type": "code",
   "source": [
    "fig, ax = plt.subplots(figsize=(12, 10))\n",
    "\n",
    "sns.boxplot(df_train,\n",
    "            x='Mins',\n",
    "            y='Value',\n",
    "            ax=ax)\n",
    "\n",
    "ax.set_title('The distribution of market values depending on how many minutes a footballer played')\n",
    "ax.set_xlabel('Mins')\n",
    "ax.set_yticks(ticks=[0, 0.25e8, 0.5e8, 0.75e8, 1e8, 1.25e8, 1.5e8, 1.75e8], \n",
    "                 labels=['0m', '25m', '50m', '75m', '100m', '125m', '150m', '175m'])\n",
    "ax.set_ylabel('Market value (in millions)')\n",
    "\n",
    "plt.show()"
   ],
   "id": "a0574efa3067eff5",
   "outputs": [],
   "execution_count": null
  },
  {
   "metadata": {},
   "cell_type": "code",
   "source": "descriptive_table(df_train, 'Mins')",
   "id": "a7b303381d87d8b0",
   "outputs": [],
   "execution_count": null
  },
  {
   "metadata": {
    "ExecuteTime": {
     "end_time": "2024-07-25T12:08:22.356691Z",
     "start_time": "2024-07-25T12:08:22.341054Z"
    }
   },
   "cell_type": "code",
   "source": [
    "all_data['Goals'] = pd.cut(all_data['Goals'], bins=4)\n",
    "all_data['Assists'] = pd.cut(all_data['Assists'], bins=4)"
   ],
   "id": "cf5ff3c3d4dbb9ed",
   "outputs": [],
   "execution_count": 38
  },
  {
   "metadata": {},
   "cell_type": "code",
   "source": [
    "fig, ax = plt.subplots(1, 2, figsize=(20, 10), sharey=True)\n",
    "\n",
    "sns.boxplot(all_data,\n",
    "            x='Goals',\n",
    "            y='Value',\n",
    "            ax=ax[0])\n",
    "\n",
    "sns.boxplot(all_data,\n",
    "            x='Assists',\n",
    "            y='Value',\n",
    "            ax=ax[1])\n",
    "\n",
    "ax[0].set_title('The distribution of the market values (goals)')\n",
    "ax[0].set_yticks(ticks=[0, 0.25e8, 0.5e8, 0.75e8, 1e8, 1.25e8, 1.5e8, 1.75e8], \n",
    "                 labels=['0m', '25m', '50m', '75m', '100m', '125m', '150m', '175m'])\n",
    "ax[0].set_ylabel('Market value (in millions)')\n",
    "\n",
    "ax[1].set_title('The distribution of the market values (assists)')\n",
    "ax[1].set_ylabel('')\n",
    "\n",
    "plt.show()"
   ],
   "id": "e62084bb4b0b38e9",
   "outputs": [],
   "execution_count": null
  },
  {
   "metadata": {},
   "cell_type": "code",
   "source": [
    "for item in ['Goals', 'Assists']:\n",
    "    print(f'Variable: {item}')\n",
    "    display(descriptive_table(all_data, item))"
   ],
   "id": "baeac8fd37af7876",
   "outputs": [],
   "execution_count": null
  },
  {
   "metadata": {},
   "cell_type": "markdown",
   "source": "Let`s drop redundant features or the features with missing values",
   "id": "f5586865edf10940"
  },
  {
   "metadata": {
    "ExecuteTime": {
     "end_time": "2024-07-25T12:08:24.088017Z",
     "start_time": "2024-07-25T12:08:24.072361Z"
    }
   },
   "cell_type": "code",
   "source": [
    "all_data.drop(['Side_12', 'Side_13', 'Side_21', 'Side_22', 'League', 'Team',\n",
    "               'Side_23', 'Position_1', 'Position_2', 'Position_2_Sides'], axis=1, inplace=True)\n",
    "\n",
    "all_data, all_names = all_data.drop('Name', axis=1), all_data['Name']\n",
    "\n",
    "train_names, test_names = divide_df(all_names) "
   ],
   "id": "4984b49c1fd41faa",
   "outputs": [],
   "execution_count": 39
  },
  {
   "metadata": {},
   "cell_type": "code",
   "source": "all_data.sample(10)",
   "id": "d297eb1a616fa167",
   "outputs": [],
   "execution_count": null
  },
  {
   "metadata": {},
   "cell_type": "code",
   "source": [
    "def pairplot_creator(table, index_start=0, index_end=40):\n",
    "    new_table = table.iloc[:, index_start:index_end]\n",
    "    new_table['Value'] = table['Value']\n",
    "    \n",
    "    sns.pairplot(new_table, height=2)\n",
    "    plt.show()"
   ],
   "id": "a133782d76558aa7",
   "outputs": [],
   "execution_count": null
  },
  {
   "metadata": {},
   "cell_type": "code",
   "source": "pairplot_creator(df_train, index_start=4, index_end=9)",
   "id": "73d220e40a566080",
   "outputs": [],
   "execution_count": null
  },
  {
   "metadata": {
    "ExecuteTime": {
     "end_time": "2024-07-25T12:08:27.144916Z",
     "start_time": "2024-07-25T12:08:27.129293Z"
    }
   },
   "cell_type": "code",
   "source": [
    "# Insert 'Value' variable at the end of the dataset\n",
    "value_column = all_data.pop('Value')\n",
    "all_data['Value'] = value_column"
   ],
   "id": "44f651cfb7faa871",
   "outputs": [],
   "execution_count": 41
  },
  {
   "metadata": {
    "ExecuteTime": {
     "end_time": "2024-07-25T12:08:27.840481Z",
     "start_time": "2024-07-25T12:08:27.824772Z"
    }
   },
   "cell_type": "code",
   "source": "df_train, df_test = divide_df(all_data)",
   "id": "b59f165b6c9cde30",
   "outputs": [],
   "execution_count": 42
  },
  {
   "metadata": {},
   "cell_type": "code",
   "source": [
    "corr_table = df_train.corr(numeric_only=True)\n",
    "\n",
    "fig, ax = plt.subplots(figsize=(20, 15))\n",
    "\n",
    "sns.heatmap(corr_table,\n",
    "            annot=True,\n",
    "            fmt='.2f',\n",
    "            ax=ax)\n",
    "\n",
    "ax.set_title('Pairwise correlation plot', fontsize=20)\n",
    "ax.tick_params(axis='both', which='major', labelsize=15)\n",
    "\n",
    "plt.show()f"
   ],
   "id": "b414ddb93765860e",
   "outputs": [],
   "execution_count": null
  },
  {
   "metadata": {},
   "cell_type": "markdown",
   "source": "Let's check the variance of some variables and use filter methods of feature selection (in the final version of the notebook we didn`t use it :( )",
   "id": "73e4e251f7a8399c"
  },
  {
   "metadata": {
    "ExecuteTime": {
     "end_time": "2024-07-25T12:08:29.484057Z",
     "start_time": "2024-07-25T12:08:29.452796Z"
    }
   },
   "cell_type": "code",
   "source": [
    "low_variance_correlation = []\n",
    "\n",
    "for item in all_data.columns:\n",
    "    if (all_data[item].dtype == 'int64' or all_data[item].dtype == 'float') and not item.startswith('Minutes'):\n",
    "        print(f'Variable: {item}')\n",
    "        variance = all_data[item].values.var()\n",
    "        correlation = numpy.corrcoef(all_data[item].values, all_data['Value'].values)[0][1]\n",
    "        print(f'Its variance: {variance}')\n",
    "        print(f'Its correlation with the target variable: {correlation}')\n",
    "        print('=' * 25)\n",
    "        \n",
    "        if variance < 0.2 and correlation < 0.1:\n",
    "            low_variance_correlation.append(item)"
   ],
   "id": "2fb27e7aca82cc4",
   "outputs": [
    {
     "name": "stdout",
     "output_type": "stream",
     "text": [
      "Variable: Age\n",
      "Its variance: 16.22992888152291\n",
      "Its correlation with the target variable: -0.32480813271727754\n",
      "=========================\n",
      "Variable: Mins\n",
      "Its variance: 499480.52425897727\n",
      "Its correlation with the target variable: 0.24684454725888857\n",
      "=========================\n",
      "Variable: Yel\n",
      "Its variance: 7.229348766378711\n",
      "Its correlation with the target variable: 0.09198648287442948\n",
      "=========================\n",
      "Variable: Red\n",
      "Its variance: 0.17075891222418454\n",
      "Its correlation with the target variable: -0.02522003841305955\n",
      "=========================\n",
      "Variable: SpG\n",
      "Its variance: 0.427846627675709\n",
      "Its correlation with the target variable: 0.351899663183083\n",
      "=========================\n",
      "Variable: PS\n",
      "Its variance: 62.57501502218596\n",
      "Its correlation with the target variable: 0.26199310700851086\n",
      "=========================\n",
      "Variable: AerialsWon\n",
      "Its variance: 0.7295054551684621\n",
      "Its correlation with the target variable: -0.02427373212302789\n",
      "=========================\n",
      "Variable: MotM\n",
      "Its variance: 1.843871352032245\n",
      "Its correlation with the target variable: 0.35050271825750795\n",
      "=========================\n",
      "Variable: Rating\n",
      "Its variance: 0.06410839240639485\n",
      "Its correlation with the target variable: 0.5768693761665808\n",
      "=========================\n",
      "Variable: Tackles\n",
      "Its variance: 0.4469298948380405\n",
      "Its correlation with the target variable: 0.08070513964482343\n",
      "=========================\n",
      "Variable: Inter\n",
      "Its variance: 0.18988371509821791\n",
      "Its correlation with the target variable: 0.020550973421549643\n",
      "=========================\n",
      "Variable: Fouls\n",
      "Its variance: 0.1794589705020104\n",
      "Its correlation with the target variable: 0.05497069317842561\n",
      "=========================\n",
      "Variable: Offsides\n",
      "Its variance: 0.04239730031189511\n",
      "Its correlation with the target variable: 0.0174598274922201\n",
      "=========================\n",
      "Variable: Clear\n",
      "Its variance: 1.4197432935005354\n",
      "Its correlation with the target variable: -0.06952565718395196\n",
      "=========================\n",
      "Variable: Drb_x\n",
      "Its variance: 0.12428146281337647\n",
      "Its correlation with the target variable: 0.06504151448779898\n",
      "=========================\n",
      "Variable: Blocks\n",
      "Its variance: 0.07257161448219508\n",
      "Its correlation with the target variable: -0.03149360670134835\n",
      "=========================\n",
      "Variable: OwnG\n",
      "Its variance: 0.07895691124859687\n",
      "Its correlation with the target variable: -0.009657758509122224\n",
      "=========================\n",
      "Variable: KeyP\n",
      "Its variance: 0.2592339905752372\n",
      "Its correlation with the target variable: 0.3200022115393244\n",
      "=========================\n",
      "Variable: Drb_y\n",
      "Its variance: 0.24458753458165353\n",
      "Its correlation with the target variable: 0.340243104878532\n",
      "=========================\n",
      "Variable: Fouled\n",
      "Its variance: 0.2327994972039515\n",
      "Its correlation with the target variable: 0.1934914526251356\n",
      "=========================\n",
      "Variable: Off\n",
      "Its variance: 0.02982709728047169\n",
      "Its correlation with the target variable: 0.14037881066026667\n",
      "=========================\n",
      "Variable: Disp\n",
      "Its variance: 0.2000253528515966\n",
      "Its correlation with the target variable: 0.26619874938160826\n",
      "=========================\n",
      "Variable: UnsTch\n",
      "Its variance: 0.4178740444411699\n",
      "Its correlation with the target variable: 0.21699459802919627\n",
      "=========================\n",
      "Variable: AvgP\n",
      "Its variance: 261.04567815105275\n",
      "Its correlation with the target variable: 0.27790090928631883\n",
      "=========================\n",
      "Variable: Crosses\n",
      "Its variance: 0.1719179707421346\n",
      "Its correlation with the target variable: 0.07344564493759988\n",
      "=========================\n",
      "Variable: LongB\n",
      "Its variance: 2.7413470300279497\n",
      "Its correlation with the target variable: -0.012816493363430144\n",
      "=========================\n",
      "Variable: ThrB\n",
      "Its variance: 0.004394032670202988\n",
      "Its correlation with the target variable: 0.34943426753361134\n",
      "=========================\n",
      "Variable: Clean Sheets %\n",
      "Its variance: 0.004596070457136948\n",
      "Its correlation with the target variable: -0.013393519230700767\n",
      "=========================\n",
      "Variable: Popularity\n",
      "Its variance: 0.28755250796604176\n",
      "Its correlation with the target variable: 0.5280531292025966\n",
      "=========================\n",
      "Variable: Overall_Apps\n",
      "Its variance: 90.93609279356735\n",
      "Its correlation with the target variable: 0.15966473872326578\n",
      "=========================\n",
      "Variable: Start_Apps\n",
      "Its variance: 30.71303474787628\n",
      "Its correlation with the target variable: -0.1759757958801768\n",
      "=========================\n",
      "Variable: Position_1_Sides\n",
      "Its variance: 0.5839393768577998\n",
      "Its correlation with the target variable: 0.09330263160543317\n",
      "=========================\n",
      "Variable: Value\n",
      "Its variance: 260661529426751.22\n",
      "Its correlation with the target variable: 1.0\n",
      "=========================\n"
     ]
    }
   ],
   "execution_count": 43
  },
  {
   "metadata": {},
   "cell_type": "code",
   "source": "all_data.sample(5)",
   "id": "13046e8c51791154",
   "outputs": [],
   "execution_count": null
  },
  {
   "metadata": {},
   "cell_type": "code",
   "source": "all_data.info()",
   "id": "f7612a2a775d5a3a",
   "outputs": [],
   "execution_count": null
  },
  {
   "metadata": {},
   "cell_type": "code",
   "source": "all_data.columns",
   "id": "1483d0c056f1f70b",
   "outputs": [],
   "execution_count": null
  },
  {
   "metadata": {
    "ExecuteTime": {
     "end_time": "2024-07-25T12:08:31.702884Z",
     "start_time": "2024-07-25T12:08:31.671475Z"
    }
   },
   "cell_type": "code",
   "source": "all_data = all_data[['Team_rank', 'Age', 'Popularity', 'Goals', 'Rating', 'From EPL', 'Mins', 'AvgP', 'PS', 'Assists', 'Value']]",
   "id": "20f58d89b27ce064",
   "outputs": [],
   "execution_count": 44
  },
  {
   "metadata": {},
   "cell_type": "markdown",
   "source": "**Feature transformation**",
   "id": "b8286e677fdd00cc"
  },
  {
   "metadata": {
    "ExecuteTime": {
     "end_time": "2024-07-25T12:08:42.082671Z",
     "start_time": "2024-07-25T12:08:42.067047Z"
    }
   },
   "cell_type": "code",
   "source": [
    "label_encoding = ['Goals', 'Assists', 'Team_rank']\n",
    "num_features = list(set(all_data.columns) - set(label_encoding) - set(['Value']))"
   ],
   "id": "4ebf020fe97dfeaa",
   "outputs": [],
   "execution_count": 45
  },
  {
   "metadata": {
    "ExecuteTime": {
     "end_time": "2024-07-25T12:08:42.603104Z",
     "start_time": "2024-07-25T12:08:42.571863Z"
    }
   },
   "cell_type": "code",
   "source": [
    "label_enc = LabelEncoder()\n",
    "\n",
    "for label in label_encoding:\n",
    "    all_data[label] = label_enc.fit_transform(all_data[label])"
   ],
   "id": "4fac52834a05ac39",
   "outputs": [],
   "execution_count": 46
  },
  {
   "metadata": {
    "ExecuteTime": {
     "end_time": "2024-07-25T12:08:43.139981Z",
     "start_time": "2024-07-25T12:08:43.124360Z"
    }
   },
   "cell_type": "code",
   "source": "df_train, df_test = divide_df(all_data)",
   "id": "b6cab4ab7bf092d",
   "outputs": [],
   "execution_count": 47
  },
  {
   "metadata": {},
   "cell_type": "markdown",
   "source": "**3. LEARNING A MODEL**",
   "id": "fc5435c3b9359295"
  },
  {
   "metadata": {},
   "cell_type": "markdown",
   "source": "This section will be divided into 3 parts. In the first part we will create the DecisionTree model to see how it makes decisions on the data and how well it performs. In the next part we will examine all the basic machine learning models in order to choose the best one. In the final part we will choose one of the algorithms and learn it via GridSearch with a larger hyperparameters grid ",
   "id": "1e93bd8de052afa3"
  },
  {
   "metadata": {
    "ExecuteTime": {
     "end_time": "2024-07-25T12:08:44.642037Z",
     "start_time": "2024-07-25T12:08:44.626480Z"
    }
   },
   "cell_type": "code",
   "source": [
    "df_train, df_test = divide_df(all_data)\n",
    "\n",
    "X_train, y_train = df_train.drop('Value', axis=1), df_train['Value']\n",
    "X_test, y_test = df_test.drop('Value', axis=1), df_test['Value']\n",
    "\n",
    "feature_names = X_train.columns\n",
    "\n",
    "n_folds = 5"
   ],
   "id": "3ba31b1e7c53b770",
   "outputs": [],
   "execution_count": 48
  },
  {
   "metadata": {},
   "cell_type": "code",
   "source": "X_train",
   "id": "eedf1e1ef1cdc70b",
   "outputs": [],
   "execution_count": null
  },
  {
   "metadata": {},
   "cell_type": "markdown",
   "source": [
    "*1. Decision Tree*\n",
    "\n",
    "In this part we will create a basic decision tree and then visualize it. This model is good at representativeness and interpretability so we must know how to deal with it"
   ],
   "id": "654d59572d85d51b"
  },
  {
   "metadata": {},
   "cell_type": "code",
   "source": [
    "# Train a basic model - without any hyperparameter fine-tuning\n",
    "basic_decision_tree = DecisionTreeRegressor()"
   ],
   "id": "b7d95c0cc665f3a8",
   "outputs": [],
   "execution_count": null
  },
  {
   "metadata": {},
   "cell_type": "code",
   "source": "basic_decision_tree.fit(X_train, y_train)",
   "id": "a6f5ed37361c1da9",
   "outputs": [],
   "execution_count": null
  },
  {
   "metadata": {
    "ExecuteTime": {
     "end_time": "2024-07-25T12:09:18.746022Z",
     "start_time": "2024-07-25T12:09:18.714691Z"
    }
   },
   "cell_type": "code",
   "source": [
    "def regression_metrics(prediction, reality):\n",
    "    maximum = max(reality)\n",
    "    minimum = min(reality)\n",
    "    \n",
    "    print(f'RMSE: {root_mean_squared_error(prediction, reality)}')\n",
    "    print(f'Normalized RMSE: {root_mean_squared_error(prediction, reality)/(maximum-minimum)}')\n",
    "    print(f'log RMSE: {root_mean_squared_log_error(numpy.abs(prediction), reality)}')\n",
    "    print(f'MAPE: {mean_absolute_percentage_error(prediction, reality)}')\n",
    "    print(f'R2 score: {r2_score(prediction, reality)}')\n",
    "    \n",
    "def show_predictions(model):\n",
    "    answers = pd.DataFrame([test_names.values, y_test.values, pd.Series(model.predict(X_test))]).T\n",
    "    answers.rename(columns={0: 'Name', 1: 'Test value', 2: 'Predicted value'}, inplace=True)\n",
    "    \n",
    "    return answers\n",
    "\n",
    "def show_importances(features, model):\n",
    "    feature_importances = pd.DataFrame(model.feature_importances_, index=features, columns=['Importance'])\n",
    "    feature_importances.sort_values(by='Importance', ascending=False, inplace=True)\n",
    "    \n",
    "    return feature_importances\n",
    "\n",
    "def rmse_cv(model):\n",
    "    kfolds = KFold(n_folds, shuffle=True, random_state=42).get_n_splits(X_train.values)\n",
    "    rmse = numpy.sqrt(-cross_val_score(model, X_train.values, y_train, cv=kfolds, scoring='neg_mean_squared_error'))\n",
    "    \n",
    "    return rmse"
   ],
   "id": "98d5764a1dfd4a87",
   "outputs": [],
   "execution_count": 55
  },
  {
   "metadata": {},
   "cell_type": "code",
   "source": "regression_metrics(basic_decision_tree.predict(X_train), y_train)",
   "id": "ac9a1c224ba0223e",
   "outputs": [],
   "execution_count": null
  },
  {
   "metadata": {},
   "cell_type": "code",
   "source": "regression_metrics(basic_decision_tree.predict(X_test), y_test)",
   "id": "c90f8d522d83d62",
   "outputs": [],
   "execution_count": null
  },
  {
   "metadata": {},
   "cell_type": "code",
   "source": "display(show_predictions(basic_decision_tree).sample(5))",
   "id": "76f729daf0e739a3",
   "outputs": [],
   "execution_count": null
  },
  {
   "metadata": {},
   "cell_type": "markdown",
   "source": "We see that this model expectedly overfits the data. Let`s somehow adjust our algorithm",
   "id": "1d707d2c604c3957"
  },
  {
   "metadata": {},
   "cell_type": "code",
   "source": "vis_decision_tree = DecisionTreeRegressor(max_depth=3)",
   "id": "e8d3bc07c9adc657",
   "outputs": [],
   "execution_count": null
  },
  {
   "metadata": {},
   "cell_type": "code",
   "source": "vis_decision_tree.fit(X_train, y_train)",
   "id": "13f0c104fdc8cb46",
   "outputs": [],
   "execution_count": null
  },
  {
   "metadata": {},
   "cell_type": "code",
   "source": [
    "fig, ax = plt.subplots(figsize=(20, 10))\n",
    "\n",
    "plot_tree(vis_decision_tree, feature_names=feature_names, filled=True, fontsize=8)\n",
    "\n",
    "plt.show()"
   ],
   "id": "d1b1bd88778d88df",
   "outputs": [],
   "execution_count": null
  },
  {
   "metadata": {},
   "cell_type": "code",
   "source": "display(show_importances(feature_names, vis_decision_tree).head(8))",
   "id": "bb9bb4ee71fe43dc",
   "outputs": [],
   "execution_count": null
  },
  {
   "metadata": {},
   "cell_type": "markdown",
   "source": "The basic decision tree with max_depth = 3 makes its decisions based mainly on the rating, rank of the team in which a footballer plays and his age. So our new feature 'Team_rank' is very important for this ML algorithm. Let`s check the same thing for the first tree",
   "id": "f4518235ba9d0892"
  },
  {
   "metadata": {},
   "cell_type": "code",
   "source": "regression_metrics(vis_decision_tree.predict(X_train), y_train)",
   "id": "adf77e034dddf5ee",
   "outputs": [],
   "execution_count": null
  },
  {
   "metadata": {},
   "cell_type": "code",
   "source": "regression_metrics(vis_decision_tree.predict(X_test), y_test)",
   "id": "1a31685b79bc8ce5",
   "outputs": [],
   "execution_count": null
  },
  {
   "metadata": {},
   "cell_type": "markdown",
   "source": "This model has problem with underfitting the data. So let`s use the RandomizedSearch algorithm in order to get the best possible tree. It will be faster than usual GridSearch and may give better performance.",
   "id": "b1266162622c10d0"
  },
  {
   "metadata": {},
   "cell_type": "code",
   "source": [
    "decision_tree_param_grid = {\n",
    "    'max_depth': [1, 3, 5, 7, 11, 13, 15],\n",
    "    'min_samples_split': sp_randint(2, 16),\n",
    "    'min_samples_leaf': sp_randint(2, 16)\n",
    "}"
   ],
   "id": "e8da278e4d8aae64",
   "outputs": [],
   "execution_count": null
  },
  {
   "metadata": {},
   "cell_type": "code",
   "source": [
    "tune_decision_tree = RandomizedSearchCV(DecisionTreeRegressor(), decision_tree_param_grid, n_iter=300, cv=5, random_state=42)\n",
    "tune_decision_tree.fit(X_train, y_train)"
   ],
   "id": "b863dad9bb969c",
   "outputs": [],
   "execution_count": null
  },
  {
   "metadata": {},
   "cell_type": "code",
   "source": "best_decision_tree = tune_decision_tree.best_estimator_",
   "id": "83a71cb6b1eec207",
   "outputs": [],
   "execution_count": null
  },
  {
   "metadata": {},
   "cell_type": "code",
   "source": "best_decision_tree.fit(X_train, y_train)",
   "id": "6798882b15580b7f",
   "outputs": [],
   "execution_count": null
  },
  {
   "metadata": {},
   "cell_type": "code",
   "source": "show_importances(feature_names, best_decision_tree)",
   "id": "e4f4047b384a3dfe",
   "outputs": [],
   "execution_count": null
  },
  {
   "metadata": {},
   "cell_type": "code",
   "source": "regression_metrics(best_decision_tree.predict(X_train), y_train)",
   "id": "55efe8656b6b19ee",
   "outputs": [],
   "execution_count": null
  },
  {
   "metadata": {},
   "cell_type": "code",
   "source": "regression_metrics(best_decision_tree.predict(X_test), y_test)",
   "id": "4a8790deecbf55e",
   "outputs": [],
   "execution_count": null
  },
  {
   "metadata": {},
   "cell_type": "code",
   "source": "display(show_predictions(best_decision_tree).sample(10))",
   "id": "bcc8f4890a7bc65a",
   "outputs": [],
   "execution_count": null
  },
  {
   "metadata": {},
   "cell_type": "markdown",
   "source": "This model performs better. But we see that it shows poor performance and doesn't use all the features we have. Let's check other ML algorithms and choose the best one",
   "id": "4aeb705e4ebe8289"
  },
  {
   "metadata": {},
   "cell_type": "markdown",
   "source": "*2. Choosing a model*",
   "id": "d3795b3fde1658ef"
  },
  {
   "metadata": {},
   "cell_type": "code",
   "source": [
    "all_models = [\n",
    "    DecisionTreeRegressor(),\n",
    "    RandomForestRegressor(),\n",
    "    BaggingRegressor(),\n",
    "    AdaBoostRegressor(),\n",
    "    GradientBoostingRegressor(),\n",
    "    XGBRegressor(),\n",
    "    ExtraTreesRegressor(),\n",
    "    \n",
    "    SVR(),\n",
    "    NuSVR(),\n",
    "    \n",
    "    LinearRegression(),\n",
    "    SGDRegressor(),\n",
    "    Ridge(), \n",
    "    Lasso(), \n",
    "    ElasticNet(), \n",
    "    BayesianRidge()\n",
    "]"
   ],
   "id": "eeda49019989be3c",
   "outputs": [],
   "execution_count": null
  },
  {
   "metadata": {},
   "cell_type": "code",
   "source": [
    "cv_splits = KFold(n_splits=5, shuffle=True)\n",
    "\n",
    "scores_table = pd.DataFrame(columns=['train RMSE', 'test RMSE', 'train RMSE 3std', 'test RMSE 3std'])\n",
    "predictions_table = pd.DataFrame(y_train, index=y_train.index)\n",
    "\n",
    "for alg in all_models:\n",
    "    alg_name = alg.__class__.__name__\n",
    "    \n",
    "    cv_results = cross_validate(alg, \n",
    "                                X_train, \n",
    "                                y_train,\n",
    "                                cv=cv_splits,\n",
    "                                scoring='neg_root_mean_squared_error',\n",
    "                                return_train_score=True)\n",
    "    \n",
    "    scores_table.loc[alg_name, 'train RMSE'] = -cv_results['train_score'].mean()\n",
    "    scores_table.loc[alg_name, 'test RMSE'] = -cv_results['test_score'].mean()\n",
    "    #scores_table.loc[alg_name, 'train R2'] = cv_results['train_score'].mean()\n",
    "    #scores_table.loc[alg_name, 'test R2'] = cv_results['test_score'].mean()\n",
    "    \n",
    "    scores_table.loc[alg_name, 'train RMSE 3std'] = cv_results['train_score'].std()*3\n",
    "    scores_table.loc[alg_name, 'test RMSE 3std'] = cv_results['test_score'].std()*3\n",
    "    #scores_table.loc[alg_name, 'train R2 3std'] = cv_results['train_score'].std()*3\n",
    "    #scores_table.loc[alg_name, 'test R2 3std'] = cv_results['test_score'].std()*3\n",
    "    \n",
    "    alg.fit(X_train, y_train)\n",
    "    \n",
    "    predictions_table.loc[:, alg_name] = alg.predict(X_train)\n",
    "    \n",
    "scores_table.sort_values(by='test RMSE', ascending=True, inplace=True)"
   ],
   "id": "f22619e0230f32de",
   "outputs": [],
   "execution_count": null
  },
  {
   "metadata": {},
   "cell_type": "code",
   "source": "display(scores_table)",
   "id": "d0b5e587cecc913e",
   "outputs": [],
   "execution_count": null
  },
  {
   "metadata": {},
   "cell_type": "markdown",
   "source": "We see that the best performance show ensemble and boosting methods like Gradient Boosting or Random Forest, but we also can notice that SVM algorithm obviously has an underfitting problem, so we can try to somehow fine-tune it (using kernels or adjusting the values of hyperparameters). But now we will try to use the RandomForestRegressor and find the best values of hyperparameters via GridSearchCV.",
   "id": "19aca5aa6d4d21e0"
  },
  {
   "metadata": {
    "ExecuteTime": {
     "end_time": "2024-07-25T12:08:53.331456Z",
     "start_time": "2024-07-25T12:08:53.300135Z"
    }
   },
   "cell_type": "code",
   "source": [
    "# GRID PARAMETERS\n",
    "\n",
    "# 1. Lasso regression\n",
    "lasso_grid_params = {\n",
    "    'alpha': [0.001, 0.01, 0.1, 1, 3, 5, 7, 10, 15, 20, 25, 30, 40, 50, 60, 70, 80, 90, 100, 125, 150, 175,\n",
    "              200, 250, 300, 400, 500, 600, 700, 800, 900, 1000, 1200, 1500, 1700, 2000, 2500, 3000,\n",
    "              3500, 4000, 5000, 6000, 7000, 8000, 9000, 10000, 12000, 14000, 16000, 18000, 20000,\n",
    "              25000, 30000, 35000, 40000, 50000, 60000, 70000, 80000, 81500, 81510, 81520, 81530],\n",
    "    'positive': [True, False]\n",
    "}\n",
    "\n",
    "# 2. Ridge regression\n",
    "ridge_grid_params = {\n",
    "    'alpha': [0.001, 0.01, 0.1, 1, 3, 5, 7, 10, 15, 17, 18, 18.2, 18.25, 18.26, 18.27, 18.28, 18.29, 18.3,\n",
    "              18.31, 18.32, 18.33, 18.34, 18.35, 18.4, 18.5, 18.6, 19, 20, 22, 24, 25, 30, 40, 50, 60,\n",
    "              70, 80, 90, 100, 125, 150, 175, 200, 250, 300, 400, 500, 600, 700, 800, 900, 1000, 1200,\n",
    "              1500, 1700, 2000, 2500, 3000, 3500, 4000, 5000, 6000, 7000, 8000, 9000, 10000],\n",
    "    'positive': [True, False]\n",
    "}\n",
    "\n",
    "# 3. ElasticNet\n",
    "elastic_grid_params = {\n",
    "    'alpha': [0.001, 0.01, 0.1, 1, 3, 5, 7, 10],\n",
    "    'l1_ratio': numpy.arange(0.6, 0.9, 0.01)\n",
    "}\n",
    "\n",
    "# 4. KernelRidge regression\n",
    "kernelridge_grid_params = {\n",
    "    'kernel': ['linear', 'polynomial', 'rbf', 'sigmoid'],\n",
    "    'gamma': [0.001, 0.01, 0.1, 1, 3, 5, 7, 10, 15, 20, 25, 30, 40, 50, 60, 70, 80, 90,\n",
    "              100, 125, 150, 175, 200, 250, 300, 400, 500, 600, 700, 800, 900, 1000],\n",
    "    'degree': [2, 3, 4, 5, 6, 7, 8, 9, 10],\n",
    "    'coef0': [0.01, 0.1, 0.3, 0.5, 1, 1.5, 2, 2.5, 3, 4, 5, 7, 10]\n",
    "}\n",
    "\n",
    "# 5. GradientBoosting (n_iters = 3000)\n",
    "gradient_grid_params = {\n",
    "    'loss': ['squared_error', 'huber'],\n",
    "    'n_estimators': [10, 30, 50, 70, 100, 300, 500, 1000],\n",
    "    'learning_rate': numpy.arange(0, 1, 0.05),\n",
    "    'max_depth': numpy.arange(1, 19, 2),\n",
    "    'max_features': [None, 'sqrt'],\n",
    "    'min_samples_split': numpy.arange(2, 21),\n",
    "    'min_samples_leaf': numpy.arange(1, 19)\n",
    "}\n",
    "\n",
    "# 6. XGBoost\n",
    "xgboost_grid_params = {\n",
    "    'n_estimators': [10, 30, 50, 70, 100, 300, 500, 1000],\n",
    "    'learning_rate': numpy.arange(0, 0.5, 0.025),\n",
    "    'max_depth': numpy.arange(1, 19, 2),\n",
    "    'gamma': [0.05, 0.07, 0.1, 0.15, 0.2, 0.25, 0.3, 0.4, 0.5, 1, 3, 5, 7, 10],\n",
    "    'min_child_weight': [0.5, 1, 1.05, 1.15, 1.35, 1.5, 1.7, 2, 2.5, 3, 5, 7, 10, 15, 30, 50, 100, 200, 300, 500],\n",
    "    'subsample': [0.5, 0.52, 0.54, 0.56, 0.58, 0.6, 0.63, 0.66, 0.69, 0.75, 0.8, 0.85, 0.9, 0.95, 1],\n",
    "    'colsample_bytree':numpy.arange(0, 1, 0.05),\n",
    "    'lambda': [0.001, 0.01, 0.1, 1, 3, 5, 7, 10, 15, 20, 25, 30, 40, 50, 60, 70, 80, 90,\n",
    "              100, 125, 150, 175, 200, 250, 300, 400, 500, 600, 700, 800, 900, 1000],\n",
    "    'alpha': [0.001, 0.01, 0.1, 1, 3, 5, 7, 10, 15, 20, 25, 30, 40, 50, 60, 70, 80, 90,\n",
    "              100, 125, 150, 175, 200, 250, 300, 400, 500, 600, 700, 800, 900, 1000],\n",
    "    'eval_metric': ['rmse']\n",
    "}\n",
    "\n",
    "# 7. LightGBM\n",
    "lightgbm_grid_params = {\n",
    "    'objective': ['regression', 'regression_l1', 'huber'],\n",
    "    'n_estimators': [10, 30, 50, 70, 100, 300, 500, 1000],\n",
    "    'learning_rate': numpy.arange(0, 0.5, 0.025),\n",
    "    'max_depth': numpy.arange(1, 19, 2),\n",
    "    'gamma': [0.05, 0.07, 0.1, 0.15, 0.2, 0.25, 0.3, 0.4, 0.5, 1, 3, 5, 7, 10],\n",
    "    'min_samples_leaf': numpy.arange(1, 19),\n",
    "    'min_child_weight': [0.5, 1, 1.05, 1.15, 1.35, 1.5, 1.7, 2, 2.5, 3, 5, 7, 10, 15, 30, 50, 100, 200, 300, 500],\n",
    "    'subsample': [0.5, 0.52, 0.54, 0.56, 0.58, 0.6, 0.63, 0.66, 0.69, 0.75, 0.8, 0.85, 0.9, 0.95, 1],\n",
    "    'subsample_freq': [0, 2, 3, 4, 5],\n",
    "    'colsample_bytree': numpy.arange(0, 1, 0.05),\n",
    "    'reg_lambda': [0.001, 0.01, 0.1, 1, 3, 5, 7, 10, 15, 20, 25, 30, 40, 50, 60, 70, 80, 90,\n",
    "              100, 125, 150, 175, 200, 250, 300, 400, 500, 600, 700, 800, 900, 1000],\n",
    "    'reg_alpha': [0.001, 0.01, 0.1, 1, 3, 5, 7, 10, 15, 20, 25, 30, 40, 50, 60, 70, 80, 90,\n",
    "              100, 125, 150, 175, 200, 250, 300, 400, 500, 600, 700, 800, 900, 1000],\n",
    "    'max_bin': [0.5, 1, 1.05, 1.15, 1.35, 1.5, 1.7, 2, 2.5, 3, 5, 7, 10, 15, 30, 50, 100, 200, 300, 500]\n",
    "}\n",
    "\n",
    "# 8. RandomForest\n",
    "random_grid_params = {\n",
    "    'max_depth': range(5, 14, 2),\n",
    "    'min_samples_split': range(2, 11, 2),\n",
    "    'min_samples_leaf': range(1, 11, 2),\n",
    "    'max_features': numpy.arange(0.6, 1.1, 1),\n",
    "    'n_estimators': [100]\n",
    "}"
   ],
   "id": "f1f350356a786235",
   "outputs": [],
   "execution_count": 49
  },
  {
   "metadata": {
    "ExecuteTime": {
     "end_time": "2024-07-25T12:08:55.175068Z",
     "start_time": "2024-07-25T12:08:55.144432Z"
    }
   },
   "cell_type": "code",
   "source": [
    "# Lasso. Best params: alpha=81500, positive=False\n",
    "lasso = make_pipeline(RobustScaler(), Lasso(alpha=81500,\n",
    "                                            positive=False))\n",
    "\n",
    "# Ridge. Best params: alpha=18.3, positive=False\n",
    "ridge = make_pipeline(RobustScaler(), Ridge(alpha=18.3,\n",
    "                                            positive=False))\n",
    "\n",
    "# ElasticNet. Best params: alpha=0.1, l1_ratio=0.8100000000000002\n",
    "elastic = make_pipeline(RobustScaler(), ElasticNet(alpha=0.1,\n",
    "                                                   l1_ratio=0.8100000000000002,\n",
    "                                                   positive=False))\n",
    "\n",
    "# KernelRidge. Best params: kernel='polynomial', gamma=0.001, degree=3, coef0=31\n",
    "kernelridge = KernelRidge(kernel='polynomial',\n",
    "                          gamma=0.001,\n",
    "                          degree=3,\n",
    "                          coef0=31)\n",
    "\n",
    "# GradientBoosting. Best params: loss='squared_error', n_estimators=600, learning_rate=0.05, min_samples_split=3, min_samples_leaf=3\n",
    "gradient = GradientBoostingRegressor(loss='squared_error',\n",
    "                                     n_estimators=600,\n",
    "                                     learning_rate=0.05,\n",
    "                                     min_samples_split=3,\n",
    "                                     min_samples_leaf=3,\n",
    "                                     max_depth=3,\n",
    "                                     max_features=None)\n",
    "\n",
    "# XGBoost. Best params: alpha=0, colsample_bytree=0.8, eval_metric='rmse', gamma=0.4, learning_rate=0.10000000000000002,\n",
    "# max_depth=3,min_child_weight=2, n_estimators=250, subsample=0.9\n",
    "xgboost = XGBRegressor(alpha=0,\n",
    "                       colsample_bytree=0.8,\n",
    "                       eval_metric='rmse',\n",
    "                       gamma=0.4,\n",
    "                       learning_rate=0.10000000000000002,\n",
    "                       max_depth=3,\n",
    "                       min_child_weight=2,\n",
    "                       n_estimators=250,\n",
    "                       subsample=0.9)\n",
    "\n",
    "# LightGBM. Best params: colsample_bytree=0.8, gamma=0.4, learning_rate=0.05, max_bin=1023, max_depth=9, min_child_weight=2,\n",
    "# min_samples_leaf=3, n_estimators=500, objective='regression', reg_alpha=0.001, subsample=0.8, subsample_freq=2\n",
    "lightgbm = LGBMRegressor(colsample_bytree=0.8,\n",
    "                         gamma=0.4,\n",
    "                         learning_rate=0.05,\n",
    "                         max_bin=1023,\n",
    "                         max_depth=9,\n",
    "                         min_child_weight=2,\n",
    "                         min_samples_leaf=3,\n",
    "                         n_estimators=500,\n",
    "                         objective='regression',\n",
    "                         reg_alpha=0.001,\n",
    "                         subsample=0.8,\n",
    "                         subsample_freq=2)\n",
    "\n",
    "# RandomForest\n",
    "random_forest = RandomForestRegressor(n_estimators=1000,\n",
    "                                      max_depth=13,\n",
    "                                      max_features=0.6,\n",
    "                                      min_samples_leaf=1,\n",
    "                                      min_samples_split=2)"
   ],
   "id": "a0fa426cee0192ab",
   "outputs": [],
   "execution_count": 50
  },
  {
   "metadata": {
    "ExecuteTime": {
     "end_time": "2024-07-25T12:09:01.670861Z",
     "start_time": "2024-07-25T12:08:56.268474Z"
    }
   },
   "cell_type": "code",
   "source": [
    "lasso.fit(X_train, y_train)\n",
    "ridge.fit(X_train, y_train)\n",
    "elastic.fit(X_train, y_train)\n",
    "kernelridge.fit(X_train, y_train)\n",
    "gradient.fit(X_train, y_train)\n",
    "xgboost.fit(X_train, y_train)\n",
    "lightgbm.fit(X_train, y_train)\n",
    "#random_forest.fit(X_train, y_train)"
   ],
   "id": "b48840c840123158",
   "outputs": [
    {
     "name": "stdout",
     "output_type": "stream",
     "text": [
      "[LightGBM] [Warning] Unknown parameter: gamma\n",
      "[LightGBM] [Warning] min_data_in_leaf is set with min_child_samples=20, will be overridden by min_samples_leaf=3. Current value: min_data_in_leaf=3\n",
      "[LightGBM] [Warning] Found whitespace in feature_names, replace with underlines\n",
      "[LightGBM] [Warning] Unknown parameter: gamma\n",
      "[LightGBM] [Warning] min_data_in_leaf is set with min_child_samples=20, will be overridden by min_samples_leaf=3. Current value: min_data_in_leaf=3\n",
      "[LightGBM] [Info] Auto-choosing row-wise multi-threading, the overhead of testing was 0.000638 seconds.\n",
      "You can set `force_row_wise=true` to remove the overhead.\n",
      "And if memory is not enough, you can set `force_col_wise=true`.\n",
      "[LightGBM] [Info] Total Bins 1043\n",
      "[LightGBM] [Info] Number of data points in the train set: 1204, number of used features: 10\n",
      "[LightGBM] [Info] Start training from score 14343563.122924\n",
      "[LightGBM] [Warning] No further splits with positive gain, best gain: -inf\n"
     ]
    },
    {
     "data": {
      "text/plain": [
       "LGBMRegressor(colsample_bytree=0.8, gamma=0.4, learning_rate=0.05, max_bin=1023,\n",
       "              max_depth=9, min_child_weight=2, min_samples_leaf=3,\n",
       "              n_estimators=500, objective='regression', reg_alpha=0.001,\n",
       "              subsample=0.8, subsample_freq=2)"
      ],
      "text/html": [
       "<style>#sk-container-id-1 {\n",
       "  /* Definition of color scheme common for light and dark mode */\n",
       "  --sklearn-color-text: black;\n",
       "  --sklearn-color-line: gray;\n",
       "  /* Definition of color scheme for unfitted estimators */\n",
       "  --sklearn-color-unfitted-level-0: #fff5e6;\n",
       "  --sklearn-color-unfitted-level-1: #f6e4d2;\n",
       "  --sklearn-color-unfitted-level-2: #ffe0b3;\n",
       "  --sklearn-color-unfitted-level-3: chocolate;\n",
       "  /* Definition of color scheme for fitted estimators */\n",
       "  --sklearn-color-fitted-level-0: #f0f8ff;\n",
       "  --sklearn-color-fitted-level-1: #d4ebff;\n",
       "  --sklearn-color-fitted-level-2: #b3dbfd;\n",
       "  --sklearn-color-fitted-level-3: cornflowerblue;\n",
       "\n",
       "  /* Specific color for light theme */\n",
       "  --sklearn-color-text-on-default-background: var(--sg-text-color, var(--theme-code-foreground, var(--jp-content-font-color1, black)));\n",
       "  --sklearn-color-background: var(--sg-background-color, var(--theme-background, var(--jp-layout-color0, white)));\n",
       "  --sklearn-color-border-box: var(--sg-text-color, var(--theme-code-foreground, var(--jp-content-font-color1, black)));\n",
       "  --sklearn-color-icon: #696969;\n",
       "\n",
       "  @media (prefers-color-scheme: dark) {\n",
       "    /* Redefinition of color scheme for dark theme */\n",
       "    --sklearn-color-text-on-default-background: var(--sg-text-color, var(--theme-code-foreground, var(--jp-content-font-color1, white)));\n",
       "    --sklearn-color-background: var(--sg-background-color, var(--theme-background, var(--jp-layout-color0, #111)));\n",
       "    --sklearn-color-border-box: var(--sg-text-color, var(--theme-code-foreground, var(--jp-content-font-color1, white)));\n",
       "    --sklearn-color-icon: #878787;\n",
       "  }\n",
       "}\n",
       "\n",
       "#sk-container-id-1 {\n",
       "  color: var(--sklearn-color-text);\n",
       "}\n",
       "\n",
       "#sk-container-id-1 pre {\n",
       "  padding: 0;\n",
       "}\n",
       "\n",
       "#sk-container-id-1 input.sk-hidden--visually {\n",
       "  border: 0;\n",
       "  clip: rect(1px 1px 1px 1px);\n",
       "  clip: rect(1px, 1px, 1px, 1px);\n",
       "  height: 1px;\n",
       "  margin: -1px;\n",
       "  overflow: hidden;\n",
       "  padding: 0;\n",
       "  position: absolute;\n",
       "  width: 1px;\n",
       "}\n",
       "\n",
       "#sk-container-id-1 div.sk-dashed-wrapped {\n",
       "  border: 1px dashed var(--sklearn-color-line);\n",
       "  margin: 0 0.4em 0.5em 0.4em;\n",
       "  box-sizing: border-box;\n",
       "  padding-bottom: 0.4em;\n",
       "  background-color: var(--sklearn-color-background);\n",
       "}\n",
       "\n",
       "#sk-container-id-1 div.sk-container {\n",
       "  /* jupyter's `normalize.less` sets `[hidden] { display: none; }`\n",
       "     but bootstrap.min.css set `[hidden] { display: none !important; }`\n",
       "     so we also need the `!important` here to be able to override the\n",
       "     default hidden behavior on the sphinx rendered scikit-learn.org.\n",
       "     See: https://github.com/scikit-learn/scikit-learn/issues/21755 */\n",
       "  display: inline-block !important;\n",
       "  position: relative;\n",
       "}\n",
       "\n",
       "#sk-container-id-1 div.sk-text-repr-fallback {\n",
       "  display: none;\n",
       "}\n",
       "\n",
       "div.sk-parallel-item,\n",
       "div.sk-serial,\n",
       "div.sk-item {\n",
       "  /* draw centered vertical line to link estimators */\n",
       "  background-image: linear-gradient(var(--sklearn-color-text-on-default-background), var(--sklearn-color-text-on-default-background));\n",
       "  background-size: 2px 100%;\n",
       "  background-repeat: no-repeat;\n",
       "  background-position: center center;\n",
       "}\n",
       "\n",
       "/* Parallel-specific style estimator block */\n",
       "\n",
       "#sk-container-id-1 div.sk-parallel-item::after {\n",
       "  content: \"\";\n",
       "  width: 100%;\n",
       "  border-bottom: 2px solid var(--sklearn-color-text-on-default-background);\n",
       "  flex-grow: 1;\n",
       "}\n",
       "\n",
       "#sk-container-id-1 div.sk-parallel {\n",
       "  display: flex;\n",
       "  align-items: stretch;\n",
       "  justify-content: center;\n",
       "  background-color: var(--sklearn-color-background);\n",
       "  position: relative;\n",
       "}\n",
       "\n",
       "#sk-container-id-1 div.sk-parallel-item {\n",
       "  display: flex;\n",
       "  flex-direction: column;\n",
       "}\n",
       "\n",
       "#sk-container-id-1 div.sk-parallel-item:first-child::after {\n",
       "  align-self: flex-end;\n",
       "  width: 50%;\n",
       "}\n",
       "\n",
       "#sk-container-id-1 div.sk-parallel-item:last-child::after {\n",
       "  align-self: flex-start;\n",
       "  width: 50%;\n",
       "}\n",
       "\n",
       "#sk-container-id-1 div.sk-parallel-item:only-child::after {\n",
       "  width: 0;\n",
       "}\n",
       "\n",
       "/* Serial-specific style estimator block */\n",
       "\n",
       "#sk-container-id-1 div.sk-serial {\n",
       "  display: flex;\n",
       "  flex-direction: column;\n",
       "  align-items: center;\n",
       "  background-color: var(--sklearn-color-background);\n",
       "  padding-right: 1em;\n",
       "  padding-left: 1em;\n",
       "}\n",
       "\n",
       "\n",
       "/* Toggleable style: style used for estimator/Pipeline/ColumnTransformer box that is\n",
       "clickable and can be expanded/collapsed.\n",
       "- Pipeline and ColumnTransformer use this feature and define the default style\n",
       "- Estimators will overwrite some part of the style using the `sk-estimator` class\n",
       "*/\n",
       "\n",
       "/* Pipeline and ColumnTransformer style (default) */\n",
       "\n",
       "#sk-container-id-1 div.sk-toggleable {\n",
       "  /* Default theme specific background. It is overwritten whether we have a\n",
       "  specific estimator or a Pipeline/ColumnTransformer */\n",
       "  background-color: var(--sklearn-color-background);\n",
       "}\n",
       "\n",
       "/* Toggleable label */\n",
       "#sk-container-id-1 label.sk-toggleable__label {\n",
       "  cursor: pointer;\n",
       "  display: block;\n",
       "  width: 100%;\n",
       "  margin-bottom: 0;\n",
       "  padding: 0.5em;\n",
       "  box-sizing: border-box;\n",
       "  text-align: center;\n",
       "}\n",
       "\n",
       "#sk-container-id-1 label.sk-toggleable__label-arrow:before {\n",
       "  /* Arrow on the left of the label */\n",
       "  content: \"▸\";\n",
       "  float: left;\n",
       "  margin-right: 0.25em;\n",
       "  color: var(--sklearn-color-icon);\n",
       "}\n",
       "\n",
       "#sk-container-id-1 label.sk-toggleable__label-arrow:hover:before {\n",
       "  color: var(--sklearn-color-text);\n",
       "}\n",
       "\n",
       "/* Toggleable content - dropdown */\n",
       "\n",
       "#sk-container-id-1 div.sk-toggleable__content {\n",
       "  max-height: 0;\n",
       "  max-width: 0;\n",
       "  overflow: hidden;\n",
       "  text-align: left;\n",
       "  /* unfitted */\n",
       "  background-color: var(--sklearn-color-unfitted-level-0);\n",
       "}\n",
       "\n",
       "#sk-container-id-1 div.sk-toggleable__content.fitted {\n",
       "  /* fitted */\n",
       "  background-color: var(--sklearn-color-fitted-level-0);\n",
       "}\n",
       "\n",
       "#sk-container-id-1 div.sk-toggleable__content pre {\n",
       "  margin: 0.2em;\n",
       "  border-radius: 0.25em;\n",
       "  color: var(--sklearn-color-text);\n",
       "  /* unfitted */\n",
       "  background-color: var(--sklearn-color-unfitted-level-0);\n",
       "}\n",
       "\n",
       "#sk-container-id-1 div.sk-toggleable__content.fitted pre {\n",
       "  /* unfitted */\n",
       "  background-color: var(--sklearn-color-fitted-level-0);\n",
       "}\n",
       "\n",
       "#sk-container-id-1 input.sk-toggleable__control:checked~div.sk-toggleable__content {\n",
       "  /* Expand drop-down */\n",
       "  max-height: 200px;\n",
       "  max-width: 100%;\n",
       "  overflow: auto;\n",
       "}\n",
       "\n",
       "#sk-container-id-1 input.sk-toggleable__control:checked~label.sk-toggleable__label-arrow:before {\n",
       "  content: \"▾\";\n",
       "}\n",
       "\n",
       "/* Pipeline/ColumnTransformer-specific style */\n",
       "\n",
       "#sk-container-id-1 div.sk-label input.sk-toggleable__control:checked~label.sk-toggleable__label {\n",
       "  color: var(--sklearn-color-text);\n",
       "  background-color: var(--sklearn-color-unfitted-level-2);\n",
       "}\n",
       "\n",
       "#sk-container-id-1 div.sk-label.fitted input.sk-toggleable__control:checked~label.sk-toggleable__label {\n",
       "  background-color: var(--sklearn-color-fitted-level-2);\n",
       "}\n",
       "\n",
       "/* Estimator-specific style */\n",
       "\n",
       "/* Colorize estimator box */\n",
       "#sk-container-id-1 div.sk-estimator input.sk-toggleable__control:checked~label.sk-toggleable__label {\n",
       "  /* unfitted */\n",
       "  background-color: var(--sklearn-color-unfitted-level-2);\n",
       "}\n",
       "\n",
       "#sk-container-id-1 div.sk-estimator.fitted input.sk-toggleable__control:checked~label.sk-toggleable__label {\n",
       "  /* fitted */\n",
       "  background-color: var(--sklearn-color-fitted-level-2);\n",
       "}\n",
       "\n",
       "#sk-container-id-1 div.sk-label label.sk-toggleable__label,\n",
       "#sk-container-id-1 div.sk-label label {\n",
       "  /* The background is the default theme color */\n",
       "  color: var(--sklearn-color-text-on-default-background);\n",
       "}\n",
       "\n",
       "/* On hover, darken the color of the background */\n",
       "#sk-container-id-1 div.sk-label:hover label.sk-toggleable__label {\n",
       "  color: var(--sklearn-color-text);\n",
       "  background-color: var(--sklearn-color-unfitted-level-2);\n",
       "}\n",
       "\n",
       "/* Label box, darken color on hover, fitted */\n",
       "#sk-container-id-1 div.sk-label.fitted:hover label.sk-toggleable__label.fitted {\n",
       "  color: var(--sklearn-color-text);\n",
       "  background-color: var(--sklearn-color-fitted-level-2);\n",
       "}\n",
       "\n",
       "/* Estimator label */\n",
       "\n",
       "#sk-container-id-1 div.sk-label label {\n",
       "  font-family: monospace;\n",
       "  font-weight: bold;\n",
       "  display: inline-block;\n",
       "  line-height: 1.2em;\n",
       "}\n",
       "\n",
       "#sk-container-id-1 div.sk-label-container {\n",
       "  text-align: center;\n",
       "}\n",
       "\n",
       "/* Estimator-specific */\n",
       "#sk-container-id-1 div.sk-estimator {\n",
       "  font-family: monospace;\n",
       "  border: 1px dotted var(--sklearn-color-border-box);\n",
       "  border-radius: 0.25em;\n",
       "  box-sizing: border-box;\n",
       "  margin-bottom: 0.5em;\n",
       "  /* unfitted */\n",
       "  background-color: var(--sklearn-color-unfitted-level-0);\n",
       "}\n",
       "\n",
       "#sk-container-id-1 div.sk-estimator.fitted {\n",
       "  /* fitted */\n",
       "  background-color: var(--sklearn-color-fitted-level-0);\n",
       "}\n",
       "\n",
       "/* on hover */\n",
       "#sk-container-id-1 div.sk-estimator:hover {\n",
       "  /* unfitted */\n",
       "  background-color: var(--sklearn-color-unfitted-level-2);\n",
       "}\n",
       "\n",
       "#sk-container-id-1 div.sk-estimator.fitted:hover {\n",
       "  /* fitted */\n",
       "  background-color: var(--sklearn-color-fitted-level-2);\n",
       "}\n",
       "\n",
       "/* Specification for estimator info (e.g. \"i\" and \"?\") */\n",
       "\n",
       "/* Common style for \"i\" and \"?\" */\n",
       "\n",
       ".sk-estimator-doc-link,\n",
       "a:link.sk-estimator-doc-link,\n",
       "a:visited.sk-estimator-doc-link {\n",
       "  float: right;\n",
       "  font-size: smaller;\n",
       "  line-height: 1em;\n",
       "  font-family: monospace;\n",
       "  background-color: var(--sklearn-color-background);\n",
       "  border-radius: 1em;\n",
       "  height: 1em;\n",
       "  width: 1em;\n",
       "  text-decoration: none !important;\n",
       "  margin-left: 1ex;\n",
       "  /* unfitted */\n",
       "  border: var(--sklearn-color-unfitted-level-1) 1pt solid;\n",
       "  color: var(--sklearn-color-unfitted-level-1);\n",
       "}\n",
       "\n",
       ".sk-estimator-doc-link.fitted,\n",
       "a:link.sk-estimator-doc-link.fitted,\n",
       "a:visited.sk-estimator-doc-link.fitted {\n",
       "  /* fitted */\n",
       "  border: var(--sklearn-color-fitted-level-1) 1pt solid;\n",
       "  color: var(--sklearn-color-fitted-level-1);\n",
       "}\n",
       "\n",
       "/* On hover */\n",
       "div.sk-estimator:hover .sk-estimator-doc-link:hover,\n",
       ".sk-estimator-doc-link:hover,\n",
       "div.sk-label-container:hover .sk-estimator-doc-link:hover,\n",
       ".sk-estimator-doc-link:hover {\n",
       "  /* unfitted */\n",
       "  background-color: var(--sklearn-color-unfitted-level-3);\n",
       "  color: var(--sklearn-color-background);\n",
       "  text-decoration: none;\n",
       "}\n",
       "\n",
       "div.sk-estimator.fitted:hover .sk-estimator-doc-link.fitted:hover,\n",
       ".sk-estimator-doc-link.fitted:hover,\n",
       "div.sk-label-container:hover .sk-estimator-doc-link.fitted:hover,\n",
       ".sk-estimator-doc-link.fitted:hover {\n",
       "  /* fitted */\n",
       "  background-color: var(--sklearn-color-fitted-level-3);\n",
       "  color: var(--sklearn-color-background);\n",
       "  text-decoration: none;\n",
       "}\n",
       "\n",
       "/* Span, style for the box shown on hovering the info icon */\n",
       ".sk-estimator-doc-link span {\n",
       "  display: none;\n",
       "  z-index: 9999;\n",
       "  position: relative;\n",
       "  font-weight: normal;\n",
       "  right: .2ex;\n",
       "  padding: .5ex;\n",
       "  margin: .5ex;\n",
       "  width: min-content;\n",
       "  min-width: 20ex;\n",
       "  max-width: 50ex;\n",
       "  color: var(--sklearn-color-text);\n",
       "  box-shadow: 2pt 2pt 4pt #999;\n",
       "  /* unfitted */\n",
       "  background: var(--sklearn-color-unfitted-level-0);\n",
       "  border: .5pt solid var(--sklearn-color-unfitted-level-3);\n",
       "}\n",
       "\n",
       ".sk-estimator-doc-link.fitted span {\n",
       "  /* fitted */\n",
       "  background: var(--sklearn-color-fitted-level-0);\n",
       "  border: var(--sklearn-color-fitted-level-3);\n",
       "}\n",
       "\n",
       ".sk-estimator-doc-link:hover span {\n",
       "  display: block;\n",
       "}\n",
       "\n",
       "/* \"?\"-specific style due to the `<a>` HTML tag */\n",
       "\n",
       "#sk-container-id-1 a.estimator_doc_link {\n",
       "  float: right;\n",
       "  font-size: 1rem;\n",
       "  line-height: 1em;\n",
       "  font-family: monospace;\n",
       "  background-color: var(--sklearn-color-background);\n",
       "  border-radius: 1rem;\n",
       "  height: 1rem;\n",
       "  width: 1rem;\n",
       "  text-decoration: none;\n",
       "  /* unfitted */\n",
       "  color: var(--sklearn-color-unfitted-level-1);\n",
       "  border: var(--sklearn-color-unfitted-level-1) 1pt solid;\n",
       "}\n",
       "\n",
       "#sk-container-id-1 a.estimator_doc_link.fitted {\n",
       "  /* fitted */\n",
       "  border: var(--sklearn-color-fitted-level-1) 1pt solid;\n",
       "  color: var(--sklearn-color-fitted-level-1);\n",
       "}\n",
       "\n",
       "/* On hover */\n",
       "#sk-container-id-1 a.estimator_doc_link:hover {\n",
       "  /* unfitted */\n",
       "  background-color: var(--sklearn-color-unfitted-level-3);\n",
       "  color: var(--sklearn-color-background);\n",
       "  text-decoration: none;\n",
       "}\n",
       "\n",
       "#sk-container-id-1 a.estimator_doc_link.fitted:hover {\n",
       "  /* fitted */\n",
       "  background-color: var(--sklearn-color-fitted-level-3);\n",
       "}\n",
       "</style><div id=\"sk-container-id-1\" class=\"sk-top-container\"><div class=\"sk-text-repr-fallback\"><pre>LGBMRegressor(colsample_bytree=0.8, gamma=0.4, learning_rate=0.05, max_bin=1023,\n",
       "              max_depth=9, min_child_weight=2, min_samples_leaf=3,\n",
       "              n_estimators=500, objective=&#x27;regression&#x27;, reg_alpha=0.001,\n",
       "              subsample=0.8, subsample_freq=2)</pre><b>In a Jupyter environment, please rerun this cell to show the HTML representation or trust the notebook. <br />On GitHub, the HTML representation is unable to render, please try loading this page with nbviewer.org.</b></div><div class=\"sk-container\" hidden><div class=\"sk-item\"><div class=\"sk-estimator fitted sk-toggleable\"><input class=\"sk-toggleable__control sk-hidden--visually\" id=\"sk-estimator-id-1\" type=\"checkbox\" checked><label for=\"sk-estimator-id-1\" class=\"sk-toggleable__label fitted sk-toggleable__label-arrow fitted\">&nbsp;LGBMRegressor<span class=\"sk-estimator-doc-link fitted\">i<span>Fitted</span></span></label><div class=\"sk-toggleable__content fitted\"><pre>LGBMRegressor(colsample_bytree=0.8, gamma=0.4, learning_rate=0.05, max_bin=1023,\n",
       "              max_depth=9, min_child_weight=2, min_samples_leaf=3,\n",
       "              n_estimators=500, objective=&#x27;regression&#x27;, reg_alpha=0.001,\n",
       "              subsample=0.8, subsample_freq=2)</pre></div> </div></div></div></div>"
      ]
     },
     "execution_count": 51,
     "metadata": {},
     "output_type": "execute_result"
    }
   ],
   "execution_count": 51
  },
  {
   "metadata": {},
   "cell_type": "code",
   "source": [
    "regression_metrics(lasso.predict(X_train), y_train)\n",
    "print('=' * 25)\n",
    "regression_metrics(lasso.predict(X_test), y_test)"
   ],
   "id": "aafa4672bed28c6c",
   "outputs": [],
   "execution_count": null
  },
  {
   "metadata": {},
   "cell_type": "code",
   "source": [
    "regression_metrics(ridge.predict(X_train), y_train)\n",
    "print('=' * 25)\n",
    "regression_metrics(ridge.predict(X_test), y_test)"
   ],
   "id": "e90f19ae76ab86fd",
   "outputs": [],
   "execution_count": null
  },
  {
   "metadata": {},
   "cell_type": "code",
   "source": [
    "regression_metrics(elastic.predict(X_train), y_train)\n",
    "print('=' * 25)\n",
    "regression_metrics(elastic.predict(X_test), y_test)"
   ],
   "id": "8044305f5b687aaa",
   "outputs": [],
   "execution_count": null
  },
  {
   "metadata": {},
   "cell_type": "code",
   "source": [
    "regression_metrics(kernelridge.predict(X_train), y_train)\n",
    "print('=' * 25)\n",
    "regression_metrics(kernelridge.predict(X_test), y_test)"
   ],
   "id": "5e445ac9ac8b71e6",
   "outputs": [],
   "execution_count": null
  },
  {
   "metadata": {},
   "cell_type": "code",
   "source": [
    "regression_metrics(gradient.predict(X_train), y_train)\n",
    "print('=' * 25)\n",
    "regression_metrics(gradient.predict(X_test), y_test)"
   ],
   "id": "c0ed10daafdf19bd",
   "outputs": [],
   "execution_count": null
  },
  {
   "metadata": {},
   "cell_type": "code",
   "source": [
    "regression_metrics(xgboost.predict(X_train), y_train)\n",
    "print('=' * 25)\n",
    "regression_metrics(xgboost.predict(X_test), y_test)"
   ],
   "id": "83feddfebef63124",
   "outputs": [],
   "execution_count": null
  },
  {
   "metadata": {},
   "cell_type": "code",
   "source": [
    "regression_metrics(lightgbm.predict(X_train), y_train)\n",
    "print('=' * 25)\n",
    "regression_metrics(lightgbm.predict(X_test), y_test)"
   ],
   "id": "8e4c2b4c67d4b1a",
   "outputs": [],
   "execution_count": null
  },
  {
   "metadata": {
    "ExecuteTime": {
     "end_time": "2024-07-25T12:09:04.083549Z",
     "start_time": "2024-07-25T12:09:04.073566Z"
    }
   },
   "cell_type": "code",
   "source": [
    "class AveragingModel(BaseEstimator, RegressorMixin, TransformerMixin):\n",
    "    def __init__(self, models):\n",
    "        self.models = models\n",
    "        \n",
    "    def fit(self, X, y):\n",
    "        self.models_ = [clone(model) for model in self.models]\n",
    "        \n",
    "        for model in self.models_:\n",
    "            model.fit(X, y)\n",
    "        \n",
    "        return self\n",
    "    \n",
    "    def predict(self, X):\n",
    "        predictions = numpy.column_stack([model.predict(X) for model in self.models_])\n",
    "        return numpy.mean(predictions, axis=1)"
   ],
   "id": "70090737363018ac",
   "outputs": [],
   "execution_count": 52
  },
  {
   "metadata": {
    "ExecuteTime": {
     "end_time": "2024-07-25T12:09:08.593645Z",
     "start_time": "2024-07-25T12:09:04.638667Z"
    }
   },
   "cell_type": "code",
   "source": [
    "av_model = AveragingModel([kernelridge, gradient, xgboost, lightgbm])\n",
    "av_model.fit(X_train, y_train)"
   ],
   "id": "66c9f324d9a9452e",
   "outputs": [
    {
     "name": "stdout",
     "output_type": "stream",
     "text": [
      "[LightGBM] [Warning] Unknown parameter: gamma\n",
      "[LightGBM] [Warning] min_data_in_leaf is set with min_child_samples=20, will be overridden by min_samples_leaf=3. Current value: min_data_in_leaf=3\n",
      "[LightGBM] [Warning] Found whitespace in feature_names, replace with underlines\n",
      "[LightGBM] [Warning] Unknown parameter: gamma\n",
      "[LightGBM] [Warning] min_data_in_leaf is set with min_child_samples=20, will be overridden by min_samples_leaf=3. Current value: min_data_in_leaf=3\n",
      "[LightGBM] [Info] Auto-choosing col-wise multi-threading, the overhead of testing was 0.000232 seconds.\n",
      "You can set `force_col_wise=true` to remove the overhead.\n",
      "[LightGBM] [Info] Total Bins 1043\n",
      "[LightGBM] [Info] Number of data points in the train set: 1204, number of used features: 10\n",
      "[LightGBM] [Info] Start training from score 14343563.122924\n",
      "[LightGBM] [Warning] No further splits with positive gain, best gain: -inf\n"
     ]
    },
    {
     "data": {
      "text/plain": [
       "AveragingModel(models=[KernelRidge(coef0=31, gamma=0.001, kernel='polynomial'),\n",
       "                       GradientBoostingRegressor(learning_rate=0.05,\n",
       "                                                 min_samples_leaf=3,\n",
       "                                                 min_samples_split=3,\n",
       "                                                 n_estimators=600),\n",
       "                       XGBRegressor(alpha=0, base_score=None, booster=None,\n",
       "                                    callbacks=None, colsample_bylevel=None,\n",
       "                                    colsample_bynode=None, colsample_bytree=0.8,\n",
       "                                    device=None, early_stopping_rounds=None,\n",
       "                                    e...\n",
       "                                    min_child_weight=2, missing=nan,\n",
       "                                    monotone_constraints=None,\n",
       "                                    multi_strategy=None, n_estimators=250,\n",
       "                                    n_jobs=None, num_parallel_tree=None, ...),\n",
       "                       LGBMRegressor(colsample_bytree=0.8, gamma=0.4,\n",
       "                                     learning_rate=0.05, max_bin=1023,\n",
       "                                     max_depth=9, min_child_weight=2,\n",
       "                                     min_samples_leaf=3, n_estimators=500,\n",
       "                                     objective='regression', reg_alpha=0.001,\n",
       "                                     subsample=0.8, subsample_freq=2)])"
      ],
      "text/html": [
       "<style>#sk-container-id-2 {\n",
       "  /* Definition of color scheme common for light and dark mode */\n",
       "  --sklearn-color-text: black;\n",
       "  --sklearn-color-line: gray;\n",
       "  /* Definition of color scheme for unfitted estimators */\n",
       "  --sklearn-color-unfitted-level-0: #fff5e6;\n",
       "  --sklearn-color-unfitted-level-1: #f6e4d2;\n",
       "  --sklearn-color-unfitted-level-2: #ffe0b3;\n",
       "  --sklearn-color-unfitted-level-3: chocolate;\n",
       "  /* Definition of color scheme for fitted estimators */\n",
       "  --sklearn-color-fitted-level-0: #f0f8ff;\n",
       "  --sklearn-color-fitted-level-1: #d4ebff;\n",
       "  --sklearn-color-fitted-level-2: #b3dbfd;\n",
       "  --sklearn-color-fitted-level-3: cornflowerblue;\n",
       "\n",
       "  /* Specific color for light theme */\n",
       "  --sklearn-color-text-on-default-background: var(--sg-text-color, var(--theme-code-foreground, var(--jp-content-font-color1, black)));\n",
       "  --sklearn-color-background: var(--sg-background-color, var(--theme-background, var(--jp-layout-color0, white)));\n",
       "  --sklearn-color-border-box: var(--sg-text-color, var(--theme-code-foreground, var(--jp-content-font-color1, black)));\n",
       "  --sklearn-color-icon: #696969;\n",
       "\n",
       "  @media (prefers-color-scheme: dark) {\n",
       "    /* Redefinition of color scheme for dark theme */\n",
       "    --sklearn-color-text-on-default-background: var(--sg-text-color, var(--theme-code-foreground, var(--jp-content-font-color1, white)));\n",
       "    --sklearn-color-background: var(--sg-background-color, var(--theme-background, var(--jp-layout-color0, #111)));\n",
       "    --sklearn-color-border-box: var(--sg-text-color, var(--theme-code-foreground, var(--jp-content-font-color1, white)));\n",
       "    --sklearn-color-icon: #878787;\n",
       "  }\n",
       "}\n",
       "\n",
       "#sk-container-id-2 {\n",
       "  color: var(--sklearn-color-text);\n",
       "}\n",
       "\n",
       "#sk-container-id-2 pre {\n",
       "  padding: 0;\n",
       "}\n",
       "\n",
       "#sk-container-id-2 input.sk-hidden--visually {\n",
       "  border: 0;\n",
       "  clip: rect(1px 1px 1px 1px);\n",
       "  clip: rect(1px, 1px, 1px, 1px);\n",
       "  height: 1px;\n",
       "  margin: -1px;\n",
       "  overflow: hidden;\n",
       "  padding: 0;\n",
       "  position: absolute;\n",
       "  width: 1px;\n",
       "}\n",
       "\n",
       "#sk-container-id-2 div.sk-dashed-wrapped {\n",
       "  border: 1px dashed var(--sklearn-color-line);\n",
       "  margin: 0 0.4em 0.5em 0.4em;\n",
       "  box-sizing: border-box;\n",
       "  padding-bottom: 0.4em;\n",
       "  background-color: var(--sklearn-color-background);\n",
       "}\n",
       "\n",
       "#sk-container-id-2 div.sk-container {\n",
       "  /* jupyter's `normalize.less` sets `[hidden] { display: none; }`\n",
       "     but bootstrap.min.css set `[hidden] { display: none !important; }`\n",
       "     so we also need the `!important` here to be able to override the\n",
       "     default hidden behavior on the sphinx rendered scikit-learn.org.\n",
       "     See: https://github.com/scikit-learn/scikit-learn/issues/21755 */\n",
       "  display: inline-block !important;\n",
       "  position: relative;\n",
       "}\n",
       "\n",
       "#sk-container-id-2 div.sk-text-repr-fallback {\n",
       "  display: none;\n",
       "}\n",
       "\n",
       "div.sk-parallel-item,\n",
       "div.sk-serial,\n",
       "div.sk-item {\n",
       "  /* draw centered vertical line to link estimators */\n",
       "  background-image: linear-gradient(var(--sklearn-color-text-on-default-background), var(--sklearn-color-text-on-default-background));\n",
       "  background-size: 2px 100%;\n",
       "  background-repeat: no-repeat;\n",
       "  background-position: center center;\n",
       "}\n",
       "\n",
       "/* Parallel-specific style estimator block */\n",
       "\n",
       "#sk-container-id-2 div.sk-parallel-item::after {\n",
       "  content: \"\";\n",
       "  width: 100%;\n",
       "  border-bottom: 2px solid var(--sklearn-color-text-on-default-background);\n",
       "  flex-grow: 1;\n",
       "}\n",
       "\n",
       "#sk-container-id-2 div.sk-parallel {\n",
       "  display: flex;\n",
       "  align-items: stretch;\n",
       "  justify-content: center;\n",
       "  background-color: var(--sklearn-color-background);\n",
       "  position: relative;\n",
       "}\n",
       "\n",
       "#sk-container-id-2 div.sk-parallel-item {\n",
       "  display: flex;\n",
       "  flex-direction: column;\n",
       "}\n",
       "\n",
       "#sk-container-id-2 div.sk-parallel-item:first-child::after {\n",
       "  align-self: flex-end;\n",
       "  width: 50%;\n",
       "}\n",
       "\n",
       "#sk-container-id-2 div.sk-parallel-item:last-child::after {\n",
       "  align-self: flex-start;\n",
       "  width: 50%;\n",
       "}\n",
       "\n",
       "#sk-container-id-2 div.sk-parallel-item:only-child::after {\n",
       "  width: 0;\n",
       "}\n",
       "\n",
       "/* Serial-specific style estimator block */\n",
       "\n",
       "#sk-container-id-2 div.sk-serial {\n",
       "  display: flex;\n",
       "  flex-direction: column;\n",
       "  align-items: center;\n",
       "  background-color: var(--sklearn-color-background);\n",
       "  padding-right: 1em;\n",
       "  padding-left: 1em;\n",
       "}\n",
       "\n",
       "\n",
       "/* Toggleable style: style used for estimator/Pipeline/ColumnTransformer box that is\n",
       "clickable and can be expanded/collapsed.\n",
       "- Pipeline and ColumnTransformer use this feature and define the default style\n",
       "- Estimators will overwrite some part of the style using the `sk-estimator` class\n",
       "*/\n",
       "\n",
       "/* Pipeline and ColumnTransformer style (default) */\n",
       "\n",
       "#sk-container-id-2 div.sk-toggleable {\n",
       "  /* Default theme specific background. It is overwritten whether we have a\n",
       "  specific estimator or a Pipeline/ColumnTransformer */\n",
       "  background-color: var(--sklearn-color-background);\n",
       "}\n",
       "\n",
       "/* Toggleable label */\n",
       "#sk-container-id-2 label.sk-toggleable__label {\n",
       "  cursor: pointer;\n",
       "  display: block;\n",
       "  width: 100%;\n",
       "  margin-bottom: 0;\n",
       "  padding: 0.5em;\n",
       "  box-sizing: border-box;\n",
       "  text-align: center;\n",
       "}\n",
       "\n",
       "#sk-container-id-2 label.sk-toggleable__label-arrow:before {\n",
       "  /* Arrow on the left of the label */\n",
       "  content: \"▸\";\n",
       "  float: left;\n",
       "  margin-right: 0.25em;\n",
       "  color: var(--sklearn-color-icon);\n",
       "}\n",
       "\n",
       "#sk-container-id-2 label.sk-toggleable__label-arrow:hover:before {\n",
       "  color: var(--sklearn-color-text);\n",
       "}\n",
       "\n",
       "/* Toggleable content - dropdown */\n",
       "\n",
       "#sk-container-id-2 div.sk-toggleable__content {\n",
       "  max-height: 0;\n",
       "  max-width: 0;\n",
       "  overflow: hidden;\n",
       "  text-align: left;\n",
       "  /* unfitted */\n",
       "  background-color: var(--sklearn-color-unfitted-level-0);\n",
       "}\n",
       "\n",
       "#sk-container-id-2 div.sk-toggleable__content.fitted {\n",
       "  /* fitted */\n",
       "  background-color: var(--sklearn-color-fitted-level-0);\n",
       "}\n",
       "\n",
       "#sk-container-id-2 div.sk-toggleable__content pre {\n",
       "  margin: 0.2em;\n",
       "  border-radius: 0.25em;\n",
       "  color: var(--sklearn-color-text);\n",
       "  /* unfitted */\n",
       "  background-color: var(--sklearn-color-unfitted-level-0);\n",
       "}\n",
       "\n",
       "#sk-container-id-2 div.sk-toggleable__content.fitted pre {\n",
       "  /* unfitted */\n",
       "  background-color: var(--sklearn-color-fitted-level-0);\n",
       "}\n",
       "\n",
       "#sk-container-id-2 input.sk-toggleable__control:checked~div.sk-toggleable__content {\n",
       "  /* Expand drop-down */\n",
       "  max-height: 200px;\n",
       "  max-width: 100%;\n",
       "  overflow: auto;\n",
       "}\n",
       "\n",
       "#sk-container-id-2 input.sk-toggleable__control:checked~label.sk-toggleable__label-arrow:before {\n",
       "  content: \"▾\";\n",
       "}\n",
       "\n",
       "/* Pipeline/ColumnTransformer-specific style */\n",
       "\n",
       "#sk-container-id-2 div.sk-label input.sk-toggleable__control:checked~label.sk-toggleable__label {\n",
       "  color: var(--sklearn-color-text);\n",
       "  background-color: var(--sklearn-color-unfitted-level-2);\n",
       "}\n",
       "\n",
       "#sk-container-id-2 div.sk-label.fitted input.sk-toggleable__control:checked~label.sk-toggleable__label {\n",
       "  background-color: var(--sklearn-color-fitted-level-2);\n",
       "}\n",
       "\n",
       "/* Estimator-specific style */\n",
       "\n",
       "/* Colorize estimator box */\n",
       "#sk-container-id-2 div.sk-estimator input.sk-toggleable__control:checked~label.sk-toggleable__label {\n",
       "  /* unfitted */\n",
       "  background-color: var(--sklearn-color-unfitted-level-2);\n",
       "}\n",
       "\n",
       "#sk-container-id-2 div.sk-estimator.fitted input.sk-toggleable__control:checked~label.sk-toggleable__label {\n",
       "  /* fitted */\n",
       "  background-color: var(--sklearn-color-fitted-level-2);\n",
       "}\n",
       "\n",
       "#sk-container-id-2 div.sk-label label.sk-toggleable__label,\n",
       "#sk-container-id-2 div.sk-label label {\n",
       "  /* The background is the default theme color */\n",
       "  color: var(--sklearn-color-text-on-default-background);\n",
       "}\n",
       "\n",
       "/* On hover, darken the color of the background */\n",
       "#sk-container-id-2 div.sk-label:hover label.sk-toggleable__label {\n",
       "  color: var(--sklearn-color-text);\n",
       "  background-color: var(--sklearn-color-unfitted-level-2);\n",
       "}\n",
       "\n",
       "/* Label box, darken color on hover, fitted */\n",
       "#sk-container-id-2 div.sk-label.fitted:hover label.sk-toggleable__label.fitted {\n",
       "  color: var(--sklearn-color-text);\n",
       "  background-color: var(--sklearn-color-fitted-level-2);\n",
       "}\n",
       "\n",
       "/* Estimator label */\n",
       "\n",
       "#sk-container-id-2 div.sk-label label {\n",
       "  font-family: monospace;\n",
       "  font-weight: bold;\n",
       "  display: inline-block;\n",
       "  line-height: 1.2em;\n",
       "}\n",
       "\n",
       "#sk-container-id-2 div.sk-label-container {\n",
       "  text-align: center;\n",
       "}\n",
       "\n",
       "/* Estimator-specific */\n",
       "#sk-container-id-2 div.sk-estimator {\n",
       "  font-family: monospace;\n",
       "  border: 1px dotted var(--sklearn-color-border-box);\n",
       "  border-radius: 0.25em;\n",
       "  box-sizing: border-box;\n",
       "  margin-bottom: 0.5em;\n",
       "  /* unfitted */\n",
       "  background-color: var(--sklearn-color-unfitted-level-0);\n",
       "}\n",
       "\n",
       "#sk-container-id-2 div.sk-estimator.fitted {\n",
       "  /* fitted */\n",
       "  background-color: var(--sklearn-color-fitted-level-0);\n",
       "}\n",
       "\n",
       "/* on hover */\n",
       "#sk-container-id-2 div.sk-estimator:hover {\n",
       "  /* unfitted */\n",
       "  background-color: var(--sklearn-color-unfitted-level-2);\n",
       "}\n",
       "\n",
       "#sk-container-id-2 div.sk-estimator.fitted:hover {\n",
       "  /* fitted */\n",
       "  background-color: var(--sklearn-color-fitted-level-2);\n",
       "}\n",
       "\n",
       "/* Specification for estimator info (e.g. \"i\" and \"?\") */\n",
       "\n",
       "/* Common style for \"i\" and \"?\" */\n",
       "\n",
       ".sk-estimator-doc-link,\n",
       "a:link.sk-estimator-doc-link,\n",
       "a:visited.sk-estimator-doc-link {\n",
       "  float: right;\n",
       "  font-size: smaller;\n",
       "  line-height: 1em;\n",
       "  font-family: monospace;\n",
       "  background-color: var(--sklearn-color-background);\n",
       "  border-radius: 1em;\n",
       "  height: 1em;\n",
       "  width: 1em;\n",
       "  text-decoration: none !important;\n",
       "  margin-left: 1ex;\n",
       "  /* unfitted */\n",
       "  border: var(--sklearn-color-unfitted-level-1) 1pt solid;\n",
       "  color: var(--sklearn-color-unfitted-level-1);\n",
       "}\n",
       "\n",
       ".sk-estimator-doc-link.fitted,\n",
       "a:link.sk-estimator-doc-link.fitted,\n",
       "a:visited.sk-estimator-doc-link.fitted {\n",
       "  /* fitted */\n",
       "  border: var(--sklearn-color-fitted-level-1) 1pt solid;\n",
       "  color: var(--sklearn-color-fitted-level-1);\n",
       "}\n",
       "\n",
       "/* On hover */\n",
       "div.sk-estimator:hover .sk-estimator-doc-link:hover,\n",
       ".sk-estimator-doc-link:hover,\n",
       "div.sk-label-container:hover .sk-estimator-doc-link:hover,\n",
       ".sk-estimator-doc-link:hover {\n",
       "  /* unfitted */\n",
       "  background-color: var(--sklearn-color-unfitted-level-3);\n",
       "  color: var(--sklearn-color-background);\n",
       "  text-decoration: none;\n",
       "}\n",
       "\n",
       "div.sk-estimator.fitted:hover .sk-estimator-doc-link.fitted:hover,\n",
       ".sk-estimator-doc-link.fitted:hover,\n",
       "div.sk-label-container:hover .sk-estimator-doc-link.fitted:hover,\n",
       ".sk-estimator-doc-link.fitted:hover {\n",
       "  /* fitted */\n",
       "  background-color: var(--sklearn-color-fitted-level-3);\n",
       "  color: var(--sklearn-color-background);\n",
       "  text-decoration: none;\n",
       "}\n",
       "\n",
       "/* Span, style for the box shown on hovering the info icon */\n",
       ".sk-estimator-doc-link span {\n",
       "  display: none;\n",
       "  z-index: 9999;\n",
       "  position: relative;\n",
       "  font-weight: normal;\n",
       "  right: .2ex;\n",
       "  padding: .5ex;\n",
       "  margin: .5ex;\n",
       "  width: min-content;\n",
       "  min-width: 20ex;\n",
       "  max-width: 50ex;\n",
       "  color: var(--sklearn-color-text);\n",
       "  box-shadow: 2pt 2pt 4pt #999;\n",
       "  /* unfitted */\n",
       "  background: var(--sklearn-color-unfitted-level-0);\n",
       "  border: .5pt solid var(--sklearn-color-unfitted-level-3);\n",
       "}\n",
       "\n",
       ".sk-estimator-doc-link.fitted span {\n",
       "  /* fitted */\n",
       "  background: var(--sklearn-color-fitted-level-0);\n",
       "  border: var(--sklearn-color-fitted-level-3);\n",
       "}\n",
       "\n",
       ".sk-estimator-doc-link:hover span {\n",
       "  display: block;\n",
       "}\n",
       "\n",
       "/* \"?\"-specific style due to the `<a>` HTML tag */\n",
       "\n",
       "#sk-container-id-2 a.estimator_doc_link {\n",
       "  float: right;\n",
       "  font-size: 1rem;\n",
       "  line-height: 1em;\n",
       "  font-family: monospace;\n",
       "  background-color: var(--sklearn-color-background);\n",
       "  border-radius: 1rem;\n",
       "  height: 1rem;\n",
       "  width: 1rem;\n",
       "  text-decoration: none;\n",
       "  /* unfitted */\n",
       "  color: var(--sklearn-color-unfitted-level-1);\n",
       "  border: var(--sklearn-color-unfitted-level-1) 1pt solid;\n",
       "}\n",
       "\n",
       "#sk-container-id-2 a.estimator_doc_link.fitted {\n",
       "  /* fitted */\n",
       "  border: var(--sklearn-color-fitted-level-1) 1pt solid;\n",
       "  color: var(--sklearn-color-fitted-level-1);\n",
       "}\n",
       "\n",
       "/* On hover */\n",
       "#sk-container-id-2 a.estimator_doc_link:hover {\n",
       "  /* unfitted */\n",
       "  background-color: var(--sklearn-color-unfitted-level-3);\n",
       "  color: var(--sklearn-color-background);\n",
       "  text-decoration: none;\n",
       "}\n",
       "\n",
       "#sk-container-id-2 a.estimator_doc_link.fitted:hover {\n",
       "  /* fitted */\n",
       "  background-color: var(--sklearn-color-fitted-level-3);\n",
       "}\n",
       "</style><div id=\"sk-container-id-2\" class=\"sk-top-container\"><div class=\"sk-text-repr-fallback\"><pre>AveragingModel(models=[KernelRidge(coef0=31, gamma=0.001, kernel=&#x27;polynomial&#x27;),\n",
       "                       GradientBoostingRegressor(learning_rate=0.05,\n",
       "                                                 min_samples_leaf=3,\n",
       "                                                 min_samples_split=3,\n",
       "                                                 n_estimators=600),\n",
       "                       XGBRegressor(alpha=0, base_score=None, booster=None,\n",
       "                                    callbacks=None, colsample_bylevel=None,\n",
       "                                    colsample_bynode=None, colsample_bytree=0.8,\n",
       "                                    device=None, early_stopping_rounds=None,\n",
       "                                    e...\n",
       "                                    min_child_weight=2, missing=nan,\n",
       "                                    monotone_constraints=None,\n",
       "                                    multi_strategy=None, n_estimators=250,\n",
       "                                    n_jobs=None, num_parallel_tree=None, ...),\n",
       "                       LGBMRegressor(colsample_bytree=0.8, gamma=0.4,\n",
       "                                     learning_rate=0.05, max_bin=1023,\n",
       "                                     max_depth=9, min_child_weight=2,\n",
       "                                     min_samples_leaf=3, n_estimators=500,\n",
       "                                     objective=&#x27;regression&#x27;, reg_alpha=0.001,\n",
       "                                     subsample=0.8, subsample_freq=2)])</pre><b>In a Jupyter environment, please rerun this cell to show the HTML representation or trust the notebook. <br />On GitHub, the HTML representation is unable to render, please try loading this page with nbviewer.org.</b></div><div class=\"sk-container\" hidden><div class=\"sk-item\"><div class=\"sk-estimator fitted sk-toggleable\"><input class=\"sk-toggleable__control sk-hidden--visually\" id=\"sk-estimator-id-2\" type=\"checkbox\" checked><label for=\"sk-estimator-id-2\" class=\"sk-toggleable__label fitted sk-toggleable__label-arrow fitted\">&nbsp;AveragingModel<span class=\"sk-estimator-doc-link fitted\">i<span>Fitted</span></span></label><div class=\"sk-toggleable__content fitted\"><pre>AveragingModel(models=[KernelRidge(coef0=31, gamma=0.001, kernel=&#x27;polynomial&#x27;),\n",
       "                       GradientBoostingRegressor(learning_rate=0.05,\n",
       "                                                 min_samples_leaf=3,\n",
       "                                                 min_samples_split=3,\n",
       "                                                 n_estimators=600),\n",
       "                       XGBRegressor(alpha=0, base_score=None, booster=None,\n",
       "                                    callbacks=None, colsample_bylevel=None,\n",
       "                                    colsample_bynode=None, colsample_bytree=0.8,\n",
       "                                    device=None, early_stopping_rounds=None,\n",
       "                                    e...\n",
       "                                    min_child_weight=2, missing=nan,\n",
       "                                    monotone_constraints=None,\n",
       "                                    multi_strategy=None, n_estimators=250,\n",
       "                                    n_jobs=None, num_parallel_tree=None, ...),\n",
       "                       LGBMRegressor(colsample_bytree=0.8, gamma=0.4,\n",
       "                                     learning_rate=0.05, max_bin=1023,\n",
       "                                     max_depth=9, min_child_weight=2,\n",
       "                                     min_samples_leaf=3, n_estimators=500,\n",
       "                                     objective=&#x27;regression&#x27;, reg_alpha=0.001,\n",
       "                                     subsample=0.8, subsample_freq=2)])</pre></div> </div></div></div></div>"
      ]
     },
     "execution_count": 53,
     "metadata": {},
     "output_type": "execute_result"
    }
   ],
   "execution_count": 53
  },
  {
   "metadata": {
    "ExecuteTime": {
     "end_time": "2024-07-25T12:09:22.993695Z",
     "start_time": "2024-07-25T12:09:22.868569Z"
    }
   },
   "cell_type": "code",
   "source": [
    "regression_metrics(av_model.predict(X_train), y_train)\n",
    "print('=' * 25)\n",
    "regression_metrics(av_model.predict(X_test), y_test)"
   ],
   "id": "9b6528c0cab7c250",
   "outputs": [
    {
     "name": "stdout",
     "output_type": "stream",
     "text": [
      "[LightGBM] [Warning] Unknown parameter: gamma\n",
      "[LightGBM] [Warning] min_data_in_leaf is set with min_child_samples=20, will be overridden by min_samples_leaf=3. Current value: min_data_in_leaf=3\n",
      "RMSE: 3736211.3061936176\n",
      "Normalized RMSE: 0.0415365348103793\n",
      "log RMSE: 0.4722946028632217\n",
      "MAPE: 0.38423777946404475\n",
      "R2 score: 0.9395166831794177\n",
      "=========================\n",
      "[LightGBM] [Warning] Unknown parameter: gamma\n",
      "[LightGBM] [Warning] min_data_in_leaf is set with min_child_samples=20, will be overridden by min_samples_leaf=3. Current value: min_data_in_leaf=3\n",
      "RMSE: 6689582.352995455\n",
      "Normalized RMSE: 0.0894927405083004\n",
      "log RMSE: 0.6177580957238272\n",
      "MAPE: 0.5698716517993325\n",
      "R2 score: 0.7695213874486447\n"
     ]
    }
   ],
   "execution_count": 56
  },
  {
   "metadata": {
    "ExecuteTime": {
     "end_time": "2024-07-25T12:09:37.808259Z",
     "start_time": "2024-07-25T12:09:37.760840Z"
    }
   },
   "cell_type": "code",
   "source": [
    "pred = show_predictions(av_model)\n",
    "pred[abs(pred['Test value'] - pred['Predicted value']) > 5000000]"
   ],
   "id": "f34553c8b5097e4f",
   "outputs": [
    {
     "name": "stdout",
     "output_type": "stream",
     "text": [
      "[LightGBM] [Warning] Unknown parameter: gamma\n",
      "[LightGBM] [Warning] min_data_in_leaf is set with min_child_samples=20, will be overridden by min_samples_leaf=3. Current value: min_data_in_leaf=3\n"
     ]
    },
    {
     "data": {
      "text/plain": [
       "                       Name Test value  Predicted value\n",
       "0              Paulo Dybala   20000000  27136633.509738\n",
       "1          Pervis Estupiñán   30000000   24621461.86845\n",
       "2                Aimar Oroz   15000000   7063245.031612\n",
       "3    Maximilian Mittelstädt   17000000  25665437.145351\n",
       "8                João Félix   30000000  47477395.497802\n",
       "..                      ...        ...              ...\n",
       "281           Harry Maguire   18000000  28861748.385563\n",
       "285              Robin Hack    8000000  25856235.785819\n",
       "288            Nathan Tella   23000000  17122851.174799\n",
       "291   Dominic Calvert-Lewin   22000000  30732803.638824\n",
       "294    Giorgi Mamardashvili   35000000  25994089.731215\n",
       "\n",
       "[82 rows x 3 columns]"
      ],
      "text/html": [
       "<div>\n",
       "<style scoped>\n",
       "    .dataframe tbody tr th:only-of-type {\n",
       "        vertical-align: middle;\n",
       "    }\n",
       "\n",
       "    .dataframe tbody tr th {\n",
       "        vertical-align: top;\n",
       "    }\n",
       "\n",
       "    .dataframe thead th {\n",
       "        text-align: right;\n",
       "    }\n",
       "</style>\n",
       "<table border=\"1\" class=\"dataframe\">\n",
       "  <thead>\n",
       "    <tr style=\"text-align: right;\">\n",
       "      <th></th>\n",
       "      <th>Name</th>\n",
       "      <th>Test value</th>\n",
       "      <th>Predicted value</th>\n",
       "    </tr>\n",
       "  </thead>\n",
       "  <tbody>\n",
       "    <tr>\n",
       "      <th>0</th>\n",
       "      <td>Paulo Dybala</td>\n",
       "      <td>20000000</td>\n",
       "      <td>27136633.509738</td>\n",
       "    </tr>\n",
       "    <tr>\n",
       "      <th>1</th>\n",
       "      <td>Pervis Estupiñán</td>\n",
       "      <td>30000000</td>\n",
       "      <td>24621461.86845</td>\n",
       "    </tr>\n",
       "    <tr>\n",
       "      <th>2</th>\n",
       "      <td>Aimar Oroz</td>\n",
       "      <td>15000000</td>\n",
       "      <td>7063245.031612</td>\n",
       "    </tr>\n",
       "    <tr>\n",
       "      <th>3</th>\n",
       "      <td>Maximilian Mittelstädt</td>\n",
       "      <td>17000000</td>\n",
       "      <td>25665437.145351</td>\n",
       "    </tr>\n",
       "    <tr>\n",
       "      <th>8</th>\n",
       "      <td>João Félix</td>\n",
       "      <td>30000000</td>\n",
       "      <td>47477395.497802</td>\n",
       "    </tr>\n",
       "    <tr>\n",
       "      <th>...</th>\n",
       "      <td>...</td>\n",
       "      <td>...</td>\n",
       "      <td>...</td>\n",
       "    </tr>\n",
       "    <tr>\n",
       "      <th>281</th>\n",
       "      <td>Harry Maguire</td>\n",
       "      <td>18000000</td>\n",
       "      <td>28861748.385563</td>\n",
       "    </tr>\n",
       "    <tr>\n",
       "      <th>285</th>\n",
       "      <td>Robin Hack</td>\n",
       "      <td>8000000</td>\n",
       "      <td>25856235.785819</td>\n",
       "    </tr>\n",
       "    <tr>\n",
       "      <th>288</th>\n",
       "      <td>Nathan Tella</td>\n",
       "      <td>23000000</td>\n",
       "      <td>17122851.174799</td>\n",
       "    </tr>\n",
       "    <tr>\n",
       "      <th>291</th>\n",
       "      <td>Dominic Calvert-Lewin</td>\n",
       "      <td>22000000</td>\n",
       "      <td>30732803.638824</td>\n",
       "    </tr>\n",
       "    <tr>\n",
       "      <th>294</th>\n",
       "      <td>Giorgi Mamardashvili</td>\n",
       "      <td>35000000</td>\n",
       "      <td>25994089.731215</td>\n",
       "    </tr>\n",
       "  </tbody>\n",
       "</table>\n",
       "<p>82 rows × 3 columns</p>\n",
       "</div>"
      ]
     },
     "execution_count": 57,
     "metadata": {},
     "output_type": "execute_result"
    }
   ],
   "execution_count": 57
  },
  {
   "metadata": {
    "ExecuteTime": {
     "end_time": "2024-07-25T12:09:47.223944Z",
     "start_time": "2024-07-25T12:09:46.839423Z"
    }
   },
   "cell_type": "code",
   "source": [
    "with open('page/final_model.pkl', 'wb') as file:\n",
    "    dill.dump(av_model, file)"
   ],
   "id": "61b8e0e6b68ebc8e",
   "outputs": [],
   "execution_count": 58
  },
  {
   "metadata": {},
   "cell_type": "code",
   "source": "dataframe = pd.DataFrame(columns=feature_names)",
   "id": "33e3050c4f6f5510",
   "outputs": [],
   "execution_count": null
  },
  {
   "metadata": {},
   "cell_type": "code",
   "source": "dataframe.to_csv(r'./page/online_data.csv', index=False)",
   "id": "b3725d63db1fa77e",
   "outputs": [],
   "execution_count": null
  }
 ],
 "metadata": {
  "kernelspec": {
   "display_name": "Python 3",
   "language": "python",
   "name": "python3"
  },
  "language_info": {
   "codemirror_mode": {
    "name": "ipython",
    "version": 2
   },
   "file_extension": ".py",
   "mimetype": "text/x-python",
   "name": "python",
   "nbconvert_exporter": "python",
   "pygments_lexer": "ipython2",
   "version": "2.7.6"
  }
 },
 "nbformat": 4,
 "nbformat_minor": 5
}
