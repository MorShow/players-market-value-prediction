{
 "cells": [
  {
   "cell_type": "code",
   "id": "initial_id",
   "metadata": {
    "collapsed": true,
    "ExecuteTime": {
     "end_time": "2024-07-12T15:31:29.686848Z",
     "start_time": "2024-07-12T15:31:29.671232Z"
    }
   },
   "source": [
    "import pandas as pd\n",
    "import numpy as np\n",
    "import matplotlib.pyplot as plt\n",
    "import seaborn as sns\n",
    "\n",
    "from python.mappings import FOOTBALL_LEAGUES_MAPPING\n",
    "\n",
    "%matplotlib inline"
   ],
   "outputs": [],
   "execution_count": 432
  },
  {
   "metadata": {
    "ExecuteTime": {
     "end_time": "2024-07-12T15:31:29.805286Z",
     "start_time": "2024-07-12T15:31:29.789660Z"
    }
   },
   "cell_type": "code",
   "source": [
    "# Constant variables\n",
    "TABLE_SIZE = 1546\n",
    "TRAIN_RATIO = 0.8"
   ],
   "id": "2818bb8829f00756",
   "outputs": [],
   "execution_count": 433
  },
  {
   "metadata": {
    "ExecuteTime": {
     "end_time": "2024-07-12T15:31:29.852148Z",
     "start_time": "2024-07-12T15:31:29.820899Z"
    }
   },
   "cell_type": "code",
   "source": [
    "# Joins train and test datasets together to simplify the process\n",
    "def concat_df(df1, df2):\n",
    "    return pd.concat([df1, df2], ignore_index=True)\n",
    "\n",
    "# Divides the overall dataset into train and test \n",
    "def divide_df(df):\n",
    "    train_size = int(TABLE_SIZE*TRAIN_RATIO)\n",
    "    \n",
    "    return df.loc[:train_size - 1], df.loc[train_size:] "
   ],
   "id": "41abdab83c09eeb1",
   "outputs": [],
   "execution_count": 434
  },
  {
   "metadata": {
    "ExecuteTime": {
     "end_time": "2024-07-12T15:31:29.914646Z",
     "start_time": "2024-07-12T15:31:29.867787Z"
    }
   },
   "cell_type": "code",
   "source": [
    "train_data = pd.read_csv('data/train_stats.csv')\n",
    "test_data = pd.read_csv('data/test_stats.csv')\n",
    "all_data = concat_df(train_data, test_data)"
   ],
   "id": "2f025158010be507",
   "outputs": [],
   "execution_count": 435
  },
  {
   "metadata": {},
   "cell_type": "markdown",
   "source": "**1. PREPARATION STEP: Cleaning the data**",
   "id": "1af9a8029a956c85"
  },
  {
   "metadata": {
    "ExecuteTime": {
     "end_time": "2024-07-12T15:31:29.930612Z",
     "start_time": "2024-07-12T15:31:29.914646Z"
    }
   },
   "cell_type": "code",
   "source": "all_data.drop(['Player_URL', 'Team_URL'], axis=1, inplace=True)",
   "id": "b3a0af773bfea435",
   "outputs": [],
   "execution_count": 436
  },
  {
   "metadata": {
    "ExecuteTime": {
     "end_time": "2024-07-12T15:31:29.961227Z",
     "start_time": "2024-07-12T15:31:29.944822Z"
    }
   },
   "cell_type": "code",
   "source": [
    "# Cleans the columns containing commas \n",
    "def clean_comma(column):\n",
    "    column = column.strip()\n",
    "    column = column[:column.find(',')] + '' + column[column.find(',') + 1:]\n",
    "    return column\n",
    "\n",
    "# Cleans the columns containing '\\t' symbol\n",
    "def clean_tab(column):\n",
    "    return column.strip().replace('\\t', '')"
   ],
   "id": "e2ce9576f1801e26",
   "outputs": [],
   "execution_count": 437
  },
  {
   "metadata": {
    "ExecuteTime": {
     "end_time": "2024-07-12T15:31:30.023452Z",
     "start_time": "2024-07-12T15:31:29.993370Z"
    }
   },
   "cell_type": "code",
   "source": [
    "comma_columns = ['Team', 'Position']\n",
    "tab_columns = ['Goals', 'Assists', 'Yel', 'Red', 'SpG', 'AerialsWon', 'MotM', 'Tackles',\n",
    "               'Inter', 'Fouls', 'Offsides', 'Clear', 'Drb_x', 'Blocks', 'OwnG', 'KeyP',\n",
    "               'Drb_y', 'Fouled', 'Off', 'Disp', 'UnsTch', 'Crosses', 'LongB', 'ThrB']\n",
    "\n",
    "for column in comma_columns:\n",
    "    all_data[column] = all_data[column].apply(clean_comma)\n",
    "    \n",
    "for column in tab_columns:\n",
    "    all_data[column] = all_data[column].apply(clean_tab)"
   ],
   "id": "a9fe95d7fdef3339",
   "outputs": [],
   "execution_count": 438
  },
  {
   "metadata": {
    "ExecuteTime": {
     "end_time": "2024-07-12T15:31:30.054722Z",
     "start_time": "2024-07-12T15:31:30.039079Z"
    }
   },
   "cell_type": "code",
   "source": [
    "# Some columns with integer values contain symbol '-' instead of 0. The function fixes it\n",
    "def remove_dashes(column):\n",
    "    if column == '-':\n",
    "        return 0\n",
    "    return column"
   ],
   "id": "1b0a0d2a9cc68810",
   "outputs": [],
   "execution_count": 439
  },
  {
   "metadata": {
    "ExecuteTime": {
     "end_time": "2024-07-12T15:31:30.086716Z",
     "start_time": "2024-07-12T15:31:30.056185Z"
    }
   },
   "cell_type": "code",
   "source": [
    "dash_columns = ['Goals', 'Assists', 'Yel', 'Red', 'SpG', 'AerialsWon', 'MotM', 'Tackles',\n",
    "                'Inter', 'Fouls', 'Offsides', 'Clear', 'Drb_x', 'Drb_y', 'Blocks', 'OwnG', 'KeyP',\n",
    "                'Fouled', 'Off', 'Disp', 'UnsTch', 'Crosses', 'LongB', 'ThrB']\n",
    "\n",
    "for column in dash_columns:\n",
    "    all_data[column] = all_data[column].apply(remove_dashes)"
   ],
   "id": "8fdb80d5819a47c8",
   "outputs": [],
   "execution_count": 440
  },
  {
   "metadata": {
    "ExecuteTime": {
     "end_time": "2024-07-12T15:31:30.102528Z",
     "start_time": "2024-07-12T15:31:30.088516Z"
    }
   },
   "cell_type": "code",
   "source": [
    "# Now we have 'Value' variable containing market values in thousands or millions, but we want to get just an integer\n",
    "def value_scaling(value):\n",
    "    value = value.strip()\n",
    "    \n",
    "    if value.endswith('k'):\n",
    "        return int(float(value[value.find('€')+1:value.find('k')]) * 10**3)\n",
    "    elif value.endswith('m'):\n",
    "        return int(float(value[value.find('€')+1:value.find('m')]) * 10**6)"
   ],
   "id": "57fb37a3c75b3cd3",
   "outputs": [],
   "execution_count": 441
  },
  {
   "metadata": {
    "ExecuteTime": {
     "end_time": "2024-07-12T15:31:30.134219Z",
     "start_time": "2024-07-12T15:31:30.103171Z"
    }
   },
   "cell_type": "code",
   "source": "all_data['Value'] = all_data['Value'].apply(value_scaling)",
   "id": "64e1dcb14595efdc",
   "outputs": [],
   "execution_count": 442
  },
  {
   "metadata": {
    "ExecuteTime": {
     "end_time": "2024-07-12T15:31:30.149857Z",
     "start_time": "2024-07-12T15:31:30.134219Z"
    }
   },
   "cell_type": "code",
   "source": [
    "# We can divide 'Apps' variable because the number of appearances in starting squad is demonstrated in parentheses \n",
    "def appearances_division(apps):\n",
    "    return apps[:apps.find('(')], apps[apps.find('(')+1:apps.find(')')]"
   ],
   "id": "a5a85156ab2cbb55",
   "outputs": [],
   "execution_count": 443
  },
  {
   "metadata": {
    "ExecuteTime": {
     "end_time": "2024-07-12T15:31:30.165493Z",
     "start_time": "2024-07-12T15:31:30.149857Z"
    }
   },
   "cell_type": "code",
   "source": "all_data['Overall_Apps'], all_data['Start_Apps'] = zip(*all_data['Apps'].apply(appearances_division))",
   "id": "28939733a047976e",
   "outputs": [],
   "execution_count": 444
  },
  {
   "metadata": {
    "ExecuteTime": {
     "end_time": "2024-07-12T15:31:30.196946Z",
     "start_time": "2024-07-12T15:31:30.172126Z"
    }
   },
   "cell_type": "code",
   "source": "all_data.drop(['Apps'], axis=1, inplace=True)",
   "id": "550aa9989664a4d6",
   "outputs": [],
   "execution_count": 445
  },
  {
   "metadata": {
    "ExecuteTime": {
     "end_time": "2024-07-12T15:31:30.243713Z",
     "start_time": "2024-07-12T15:31:30.228649Z"
    }
   },
   "cell_type": "code",
   "source": [
    "# It would be better if we replace 'Forward', 'Midfielder' with their short forms (FW, M)\n",
    "\n",
    "#all_data['Position'].value_counts()\n",
    "\n",
    "def position_mapping(position):\n",
    "    position = position.strip()\n",
    "    \n",
    "    if position == 'Forward': \n",
    "        return 'FW'\n",
    "    elif position == 'Midfielder': \n",
    "        return 'M(C)'\n",
    "    return position\n",
    "\n",
    "all_data['Position'] = all_data['Position'].apply(position_mapping)"
   ],
   "id": "ecc867c0b9fc4c35",
   "outputs": [],
   "execution_count": 446
  },
  {
   "metadata": {
    "ExecuteTime": {
     "end_time": "2024-07-12T15:31:30.274972Z",
     "start_time": "2024-07-12T15:31:30.259359Z"
    }
   },
   "cell_type": "code",
   "source": [
    "# We can divide 'Position' column into two positions (if some player has only one position, he`ll get NaN value for the second one).\n",
    "def position_division(position):\n",
    "    \n",
    "    # only two main positions, that`s enough\n",
    "    if position.count(',') >= 2:\n",
    "        while position.count(',') != 1:\n",
    "            position = position[:position.rfind(',')]\n",
    "          \n",
    "    if position.find(',') != -1:\n",
    "        return pd.Series([position[:position.find(',')].strip(), position[position.find(',')+1:]]).values\n",
    "    return pd.Series([position.strip(), np.nan]).values\n",
    "\n",
    "# Center (C), Right (R) or Left (L)? This information is contained in parentheses\n",
    "def position_side(position):\n",
    "    \n",
    "    # np.nan has 'float' type\n",
    "    if type(position) != float:\n",
    "        if position.find('(') != -1:\n",
    "            sides = tuple(position[position.find('(')+1:position.find(')')])\n",
    "            position = position[:position.find('(')].strip(),\n",
    "            \n",
    "            return position + sides + tuple([np.nan] * (3 - len(sides)))\n",
    "        else:\n",
    "            position = position.strip(),\n",
    "\n",
    "            return position + tuple([np.nan] * 3)\n",
    "    else:\n",
    "        return tuple([np.nan] * 4)"
   ],
   "id": "9eed717308b39305",
   "outputs": [],
   "execution_count": 447
  },
  {
   "metadata": {
    "ExecuteTime": {
     "end_time": "2024-07-12T15:31:30.371610Z",
     "start_time": "2024-07-12T15:31:30.290602Z"
    }
   },
   "cell_type": "code",
   "source": "all_data['Position_1'], all_data['Position_2'] = zip(*all_data['Position'].apply(position_division))",
   "id": "58b0e67a125d99b9",
   "outputs": [],
   "execution_count": 448
  },
  {
   "metadata": {
    "ExecuteTime": {
     "end_time": "2024-07-12T15:31:30.387232Z",
     "start_time": "2024-07-12T15:31:30.371610Z"
    }
   },
   "cell_type": "code",
   "source": [
    "all_data['Position_1'], all_data['Side_11'], all_data['Side_12'], all_data['Side_13'] = zip(*all_data['Position_1'].apply(position_side))\n",
    "all_data['Position_2'], all_data['Side_21'], all_data['Side_22'], all_data['Side_23'] = zip(*all_data['Position_2'].apply(position_side))"
   ],
   "id": "c3e20f6012e4fcbf",
   "outputs": [],
   "execution_count": 449
  },
  {
   "metadata": {
    "ExecuteTime": {
     "end_time": "2024-07-12T15:31:30.402869Z",
     "start_time": "2024-07-12T15:31:30.387232Z"
    }
   },
   "cell_type": "code",
   "source": "all_data.drop(['Position'], axis=1, inplace=True)",
   "id": "4081793d41f8c74d",
   "outputs": [],
   "execution_count": 450
  },
  {
   "metadata": {
    "ExecuteTime": {
     "end_time": "2024-07-12T15:31:30.433942Z",
     "start_time": "2024-07-12T15:31:30.402869Z"
    }
   },
   "cell_type": "code",
   "source": [
    "# Time to change column types\n",
    "float_type = ['SpG', 'AerialsWon', 'Tackles', 'Inter', 'Fouls', 'Offsides',\n",
    "              'Clear', 'Drb_x', 'Blocks', 'KeyP', 'Drb_y', 'Fouled', 'Off',\n",
    "              'Disp', 'UnsTch', 'Crosses', 'LongB', 'ThrB']\n",
    "int_type = ['Goals', 'Assists', 'Yel', 'Red', 'MotM', 'OwnG', 'Overall_Apps', 'Start_Apps']\n",
    "\n",
    "all_data[float_type] = all_data[float_type].astype('float')\n",
    "all_data[int_type] = all_data[int_type].astype('int64')"
   ],
   "id": "646799740da9446c",
   "outputs": [],
   "execution_count": 451
  },
  {
   "metadata": {
    "ExecuteTime": {
     "end_time": "2024-07-12T15:31:30.449370Z",
     "start_time": "2024-07-12T15:31:30.436005Z"
    }
   },
   "cell_type": "code",
   "source": [
    "# Insert 'Value' variable at the end of the dataset\n",
    "value_column = all_data.pop('Value')\n",
    "all_data['Value'] = value_column\n",
    "\n",
    "# Insert 'Position_2' variable before the variable 'Side_21'\n",
    "pos2_column = all_data.pop('Position_2')\n",
    "index = all_data.columns.get_loc('Side_21')\n",
    "all_data.insert(index, 'Position_2', pos2_column)"
   ],
   "id": "590a7339f2c0608a",
   "outputs": [],
   "execution_count": 452
  },
  {
   "metadata": {},
   "cell_type": "markdown",
   "source": [
    "**GLOSSARY. DESCRIPTION OF THE VARIABLES**\n",
    "\n",
    "- SpG - Shots per game\n",
    "- PS(%) - Percentage of successful passes\n",
    "- AerialsWon, Aerial - Header in a direct contest with an opponent\n",
    "- MotM - Man of the Match\n",
    "- Tackle - Dispossessing an opponent, whether the tackling player comes away with the ball or not\n",
    "- Interception (Inter) - Preventing an opponent's pass from reaching their teammates\n",
    "- Fouls - How often a player commits a foul\n",
    "  Fouled - How often a player gets fouled\n",
    "- Offsides - It`s referred to \"offside won\" - the last man to step up to catch an opponent in an offside position\n",
    "  Off - How often a player gets in offside position\n",
    "- Clearance (Clear) - Action by a defending player that temporarily removes the attacking threat on their goal/that effectively alleviate pressure on their goal\n",
    "- Drb_x - How often a player gets dribbled (being dribbled past by an opponent without winning a tackle)\n",
    "  Drb_y - Frequency of successful dribbles\n",
    "- Blocks - The number of blocked shots per game\n",
    "- OwnG - Own goal\n",
    "- KeyP - Key passes (the final pass leading to a shot at goal from a teammate)\n",
    "- Dispossessed (Disp) - How often a player gets tackled by an opponent without attempting to dribble past them\n",
    "- UnsTch - ???\n",
    "- Average Passes (AvgP) - Average number of passes attempted (short passes, long balls, through balls, crosses)\n",
    "- Cross - An attempted/accurate pass from a wide position to a central attacking area\n",
    "- Long Ball (LongB) - An attempted/accurate pass of 25 yards or more\n",
    "- Through Ball (ThrB) - An attempted/accurate pass between opposition players in their defensive line to find an onrushing teammate (running through on goal)\n",
    "- Apps - appearances on the football field"
   ],
   "id": "f6dabc626a7a0d6d"
  },
  {
   "metadata": {
    "ExecuteTime": {
     "end_time": "2024-07-12T15:31:30.464555Z",
     "start_time": "2024-07-12T15:31:30.451402Z"
    }
   },
   "cell_type": "code",
   "source": "#all_data.info()",
   "id": "4858bfe07258b28f",
   "outputs": [],
   "execution_count": 453
  },
  {
   "metadata": {},
   "cell_type": "markdown",
   "source": "We see that there are a lot of missing values for 'Side_2X' and 'Side_13' variables (>80%). It describes where a player is located on a football pinch (left, right or center). But it can be useful to create a variable that shows how much place some player \"occupies\", on how many sides he is able to play. If it isn`t shown (all three variables are NaN values), then we will set 1.",
   "id": "77d98156930e0900"
  },
  {
   "metadata": {
    "ExecuteTime": {
     "end_time": "2024-07-12T15:31:30.495509Z",
     "start_time": "2024-07-12T15:31:30.480861Z"
    }
   },
   "cell_type": "code",
   "source": [
    "def position_sides(s1, s2, s3):\n",
    "    sides_list = [s1, s2, s3]\n",
    "    \n",
    "    while np.nan in sides_list:\n",
    "        sides_list.remove(np.nan)\n",
    "    \n",
    "    if len(sides_list) == 0:\n",
    "        return 1\n",
    "    return len(sides_list)"
   ],
   "id": "fd43cb7596ddf029",
   "outputs": [],
   "execution_count": 454
  },
  {
   "metadata": {
    "ExecuteTime": {
     "end_time": "2024-07-12T15:31:30.557055Z",
     "start_time": "2024-07-12T15:31:30.512920Z"
    }
   },
   "cell_type": "code",
   "source": [
    "all_data['Position_1_Sides'] = all_data.apply(lambda x: position_sides(x['Side_11'], x['Side_12'], x['Side_13']), axis=1)\n",
    "all_data['Position_2_Sides'] = all_data.apply(lambda x: position_sides(x['Side_21'], x['Side_22'], x['Side_23']), axis=1)"
   ],
   "id": "5acd90ae108608c2",
   "outputs": [],
   "execution_count": 455
  },
  {
   "metadata": {},
   "cell_type": "markdown",
   "source": "Other variables have no missing values so we can continue in research and exploratory analysis",
   "id": "5d75691699c32e7f"
  },
  {
   "metadata": {},
   "cell_type": "markdown",
   "source": "**2. EXPLORATORY DATA ANALYSIS AND FEATURE ENGINEERING**",
   "id": "dfd50d03d57051a5"
  },
  {
   "metadata": {},
   "cell_type": "markdown",
   "source": "'Team' variable can be very useful: we can extract a league in which a football player competes, and it is somehow influences his market value. For instance, we expect that in Premier League players cost more because of higher level of this championship and some other aspects. For this task we will use our mapping",
   "id": "837ee8503b20709c"
  },
  {
   "metadata": {
    "ExecuteTime": {
     "end_time": "2024-07-12T15:31:30.588311Z",
     "start_time": "2024-07-12T15:31:30.557055Z"
    }
   },
   "cell_type": "code",
   "source": "all_data['League'] = all_data['Team'].map(FOOTBALL_LEAGUES_MAPPING)",
   "id": "41e12515b83de6ab",
   "outputs": [],
   "execution_count": 456
  },
  {
   "metadata": {
    "ExecuteTime": {
     "end_time": "2024-07-12T15:32:09.605162Z",
     "start_time": "2024-07-12T15:32:09.573751Z"
    }
   },
   "cell_type": "code",
   "source": "all_data.info()",
   "id": "f7612a2a775d5a3a",
   "outputs": [
    {
     "name": "stdout",
     "output_type": "stream",
     "text": [
      "<class 'pandas.core.frame.DataFrame'>\n",
      "RangeIndex: 1546 entries, 0 to 1545\n",
      "Data columns (total 45 columns):\n",
      " #   Column            Non-Null Count  Dtype  \n",
      "---  ------            --------------  -----  \n",
      " 0   Name              1546 non-null   object \n",
      " 1   Team              1546 non-null   object \n",
      " 2   Age               1546 non-null   int64  \n",
      " 3   Mins              1546 non-null   int64  \n",
      " 4   Goals             1546 non-null   int64  \n",
      " 5   Assists           1546 non-null   int64  \n",
      " 6   Yel               1546 non-null   int64  \n",
      " 7   Red               1546 non-null   int64  \n",
      " 8   SpG               1546 non-null   float64\n",
      " 9   PS                1546 non-null   float64\n",
      " 10  AerialsWon        1546 non-null   float64\n",
      " 11  MotM              1546 non-null   int64  \n",
      " 12  Rating            1546 non-null   float64\n",
      " 13  Tackles           1546 non-null   float64\n",
      " 14  Inter             1546 non-null   float64\n",
      " 15  Fouls             1546 non-null   float64\n",
      " 16  Offsides          1546 non-null   float64\n",
      " 17  Clear             1546 non-null   float64\n",
      " 18  Drb_x             1546 non-null   float64\n",
      " 19  Blocks            1546 non-null   float64\n",
      " 20  OwnG              1546 non-null   int64  \n",
      " 21  KeyP              1546 non-null   float64\n",
      " 22  Drb_y             1546 non-null   float64\n",
      " 23  Fouled            1546 non-null   float64\n",
      " 24  Off               1546 non-null   float64\n",
      " 25  Disp              1546 non-null   float64\n",
      " 26  UnsTch            1546 non-null   float64\n",
      " 27  AvgP              1546 non-null   float64\n",
      " 28  Crosses           1546 non-null   float64\n",
      " 29  LongB             1546 non-null   float64\n",
      " 30  ThrB              1546 non-null   float64\n",
      " 31  Overall_Apps      1546 non-null   int64  \n",
      " 32  Start_Apps        1546 non-null   int64  \n",
      " 33  Position_1        1546 non-null   object \n",
      " 34  Side_11           1233 non-null   object \n",
      " 35  Side_12           602 non-null    object \n",
      " 36  Side_13           269 non-null    object \n",
      " 37  Position_2        650 non-null    object \n",
      " 38  Side_21           273 non-null    object \n",
      " 39  Side_22           92 non-null     object \n",
      " 40  Side_23           28 non-null     object \n",
      " 41  Value             1546 non-null   int64  \n",
      " 42  Position_1_Sides  1546 non-null   int64  \n",
      " 43  Position_2_Sides  1546 non-null   int64  \n",
      " 44  League            1531 non-null   object \n",
      "dtypes: float64(21), int64(13), object(11)\n",
      "memory usage: 543.6+ KB\n"
     ]
    }
   ],
   "execution_count": 463
  },
  {
   "metadata": {
    "ExecuteTime": {
     "end_time": "2024-07-12T15:31:30.665811Z",
     "start_time": "2024-07-12T15:31:30.650173Z"
    }
   },
   "cell_type": "code",
   "source": "all_data['Team'].unique()",
   "id": "26313d7d100acc72",
   "outputs": [
    {
     "data": {
      "text/plain": [
       "array(['Nice', 'Cagliari', 'Sheff Utd', 'Borussia M.Gladbach', 'Inter',\n",
       "       'Wolfsburg', 'Darmstadt', 'Nantes', 'Monaco', 'Valencia',\n",
       "       'Toulouse', 'Union Berlin', 'Brighton', 'Almeria', 'Roma',\n",
       "       'Atletico', 'Wolves', 'Fulham', 'Reims', 'Lecce', 'Genoa',\n",
       "       'Osasuna', 'Crystal Palace', 'Man Utd', 'Frosinone',\n",
       "       'Rayo Vallecano', 'Napoli', 'Empoli', 'FC Koln', 'Clermont Foot',\n",
       "       'Arsenal', 'Bochum', 'Villarreal', 'Nottingham Forest',\n",
       "       'Liverpool', 'Leverkusen', 'Marseille', 'Lyon', 'Chelsea',\n",
       "       'Granada', 'Real Betis', 'Mallorca', 'Deportivo Alaves',\n",
       "       'Juventus', 'AC Milan', 'Udinese', 'Celta Vigo', 'Brentford',\n",
       "       'Brest', 'Bayern', 'Torino', 'Atalanta', 'Fiorentina',\n",
       "       'Borussia Dortmund', 'Tottenham', 'Strasbourg', 'Bologna',\n",
       "       'Aston Villa', 'Luton', 'Lille', 'Man City', 'Stuttgart',\n",
       "       'Real Madrid', 'Newcastle', 'Hoffenheim', 'FC Heidenheim', 'PSG',\n",
       "       'Metz', 'Lazio', 'Real Sociedad', 'West Ham', 'Freiburg', 'Verona',\n",
       "       'Mainz', 'Getafe', 'Everton', 'Monza', 'Girona', 'Barcelona',\n",
       "       'Burnley', 'Werder Bremen', 'Le Havre', 'Sevilla', 'RBL',\n",
       "       'Athletic Club', 'Rennes', 'Eintracht Frankfurt', 'Salernitana',\n",
       "       'Cadiz', 'Lens', 'Augsburg', 'Bournemouth', 'Las Palmas',\n",
       "       'Sassuolo', 'Lorient', 'Montpellier'], dtype=object)"
      ]
     },
     "execution_count": 459,
     "metadata": {},
     "output_type": "execute_result"
    }
   ],
   "execution_count": 459
  },
  {
   "metadata": {
    "ExecuteTime": {
     "end_time": "2024-07-12T15:31:30.697075Z",
     "start_time": "2024-07-12T15:31:30.665811Z"
    }
   },
   "cell_type": "code",
   "source": "all_data.sample(10)",
   "id": "6422d5883f68d8",
   "outputs": [
    {
     "data": {
      "text/plain": [
       "                     Name            Team  Age  Mins  Goals  Assists  Yel  \\\n",
       "29           Jens Cajuste          Napoli   24  1009      0        2    7   \n",
       "1122          Lloyd Kelly     Bournemouth   25  1558      0        1    2   \n",
       "785       Florian Lejeune  Rayo Vallecano   33  3328      3        1    5   \n",
       "1442            Marc Roca      Real Betis   27  1988      2        2    5   \n",
       "1097  Andreas Christensen       Barcelona   28  1999      2        2    4   \n",
       "2           William Osula       Sheff Utd   20   785      0        0    4   \n",
       "599          Anthony Jung   Werder Bremen   32  2584      1        0    4   \n",
       "504         Mads Pedersen        Augsburg   27  1784      1        1    5   \n",
       "921           Tommy Doyle          Wolves   22  1216      0        0    2   \n",
       "1432      Nicolas Pallois          Nantes   36  1586      0        1    5   \n",
       "\n",
       "      Red  SpG    PS  ...  Side_12  Side_13  Position_2  Side_21  Side_22  \\\n",
       "29      0  0.6  86.0  ...      NaN      NaN         NaN      NaN      NaN   \n",
       "1122    0  0.2  77.6  ...        L      NaN         NaN      NaN      NaN   \n",
       "785     0  1.8  81.3  ...      NaN      NaN         NaN      NaN      NaN   \n",
       "1442    0  0.8  85.5  ...      NaN      NaN         DMC      NaN      NaN   \n",
       "1097    0  0.4  94.3  ...      NaN      NaN         DMC      NaN      NaN   \n",
       "2       0  1.0  53.3  ...      NaN      NaN         NaN      NaN      NaN   \n",
       "599     1  0.2  87.8  ...        L      NaN           M        L      NaN   \n",
       "504     1  0.5  81.3  ...        R      NaN           M        C        L   \n",
       "921     0  0.5  86.4  ...      NaN      NaN         NaN      NaN      NaN   \n",
       "1432    0  0.2  81.4  ...      NaN      NaN         NaN      NaN      NaN   \n",
       "\n",
       "      Side_23     Value  Position_1_Sides  Position_2_Sides          League  \n",
       "29        NaN  10000000                 1                 1         Serie A  \n",
       "1122      NaN  18000000                 2                 1  Premier League  \n",
       "785       NaN   3000000                 1                 1          LaLiga  \n",
       "1442      NaN   9000000                 1                 1          LaLiga  \n",
       "1097      NaN  40000000                 1                 1          LaLiga  \n",
       "2         NaN   3000000                 1                 1  Premier League  \n",
       "599       NaN   1000000                 2                 1      Bundesliga  \n",
       "504       NaN   2500000                 2                 2      Bundesliga  \n",
       "921       NaN  10000000                 1                 1  Premier League  \n",
       "1432      NaN    600000                 1                 1         Ligue 1  \n",
       "\n",
       "[10 rows x 45 columns]"
      ],
      "text/html": [
       "<div>\n",
       "<style scoped>\n",
       "    .dataframe tbody tr th:only-of-type {\n",
       "        vertical-align: middle;\n",
       "    }\n",
       "\n",
       "    .dataframe tbody tr th {\n",
       "        vertical-align: top;\n",
       "    }\n",
       "\n",
       "    .dataframe thead th {\n",
       "        text-align: right;\n",
       "    }\n",
       "</style>\n",
       "<table border=\"1\" class=\"dataframe\">\n",
       "  <thead>\n",
       "    <tr style=\"text-align: right;\">\n",
       "      <th></th>\n",
       "      <th>Name</th>\n",
       "      <th>Team</th>\n",
       "      <th>Age</th>\n",
       "      <th>Mins</th>\n",
       "      <th>Goals</th>\n",
       "      <th>Assists</th>\n",
       "      <th>Yel</th>\n",
       "      <th>Red</th>\n",
       "      <th>SpG</th>\n",
       "      <th>PS</th>\n",
       "      <th>...</th>\n",
       "      <th>Side_12</th>\n",
       "      <th>Side_13</th>\n",
       "      <th>Position_2</th>\n",
       "      <th>Side_21</th>\n",
       "      <th>Side_22</th>\n",
       "      <th>Side_23</th>\n",
       "      <th>Value</th>\n",
       "      <th>Position_1_Sides</th>\n",
       "      <th>Position_2_Sides</th>\n",
       "      <th>League</th>\n",
       "    </tr>\n",
       "  </thead>\n",
       "  <tbody>\n",
       "    <tr>\n",
       "      <th>29</th>\n",
       "      <td>Jens Cajuste</td>\n",
       "      <td>Napoli</td>\n",
       "      <td>24</td>\n",
       "      <td>1009</td>\n",
       "      <td>0</td>\n",
       "      <td>2</td>\n",
       "      <td>7</td>\n",
       "      <td>0</td>\n",
       "      <td>0.6</td>\n",
       "      <td>86.0</td>\n",
       "      <td>...</td>\n",
       "      <td>NaN</td>\n",
       "      <td>NaN</td>\n",
       "      <td>NaN</td>\n",
       "      <td>NaN</td>\n",
       "      <td>NaN</td>\n",
       "      <td>NaN</td>\n",
       "      <td>10000000</td>\n",
       "      <td>1</td>\n",
       "      <td>1</td>\n",
       "      <td>Serie A</td>\n",
       "    </tr>\n",
       "    <tr>\n",
       "      <th>1122</th>\n",
       "      <td>Lloyd Kelly</td>\n",
       "      <td>Bournemouth</td>\n",
       "      <td>25</td>\n",
       "      <td>1558</td>\n",
       "      <td>0</td>\n",
       "      <td>1</td>\n",
       "      <td>2</td>\n",
       "      <td>0</td>\n",
       "      <td>0.2</td>\n",
       "      <td>77.6</td>\n",
       "      <td>...</td>\n",
       "      <td>L</td>\n",
       "      <td>NaN</td>\n",
       "      <td>NaN</td>\n",
       "      <td>NaN</td>\n",
       "      <td>NaN</td>\n",
       "      <td>NaN</td>\n",
       "      <td>18000000</td>\n",
       "      <td>2</td>\n",
       "      <td>1</td>\n",
       "      <td>Premier League</td>\n",
       "    </tr>\n",
       "    <tr>\n",
       "      <th>785</th>\n",
       "      <td>Florian Lejeune</td>\n",
       "      <td>Rayo Vallecano</td>\n",
       "      <td>33</td>\n",
       "      <td>3328</td>\n",
       "      <td>3</td>\n",
       "      <td>1</td>\n",
       "      <td>5</td>\n",
       "      <td>0</td>\n",
       "      <td>1.8</td>\n",
       "      <td>81.3</td>\n",
       "      <td>...</td>\n",
       "      <td>NaN</td>\n",
       "      <td>NaN</td>\n",
       "      <td>NaN</td>\n",
       "      <td>NaN</td>\n",
       "      <td>NaN</td>\n",
       "      <td>NaN</td>\n",
       "      <td>3000000</td>\n",
       "      <td>1</td>\n",
       "      <td>1</td>\n",
       "      <td>LaLiga</td>\n",
       "    </tr>\n",
       "    <tr>\n",
       "      <th>1442</th>\n",
       "      <td>Marc Roca</td>\n",
       "      <td>Real Betis</td>\n",
       "      <td>27</td>\n",
       "      <td>1988</td>\n",
       "      <td>2</td>\n",
       "      <td>2</td>\n",
       "      <td>5</td>\n",
       "      <td>0</td>\n",
       "      <td>0.8</td>\n",
       "      <td>85.5</td>\n",
       "      <td>...</td>\n",
       "      <td>NaN</td>\n",
       "      <td>NaN</td>\n",
       "      <td>DMC</td>\n",
       "      <td>NaN</td>\n",
       "      <td>NaN</td>\n",
       "      <td>NaN</td>\n",
       "      <td>9000000</td>\n",
       "      <td>1</td>\n",
       "      <td>1</td>\n",
       "      <td>LaLiga</td>\n",
       "    </tr>\n",
       "    <tr>\n",
       "      <th>1097</th>\n",
       "      <td>Andreas Christensen</td>\n",
       "      <td>Barcelona</td>\n",
       "      <td>28</td>\n",
       "      <td>1999</td>\n",
       "      <td>2</td>\n",
       "      <td>2</td>\n",
       "      <td>4</td>\n",
       "      <td>0</td>\n",
       "      <td>0.4</td>\n",
       "      <td>94.3</td>\n",
       "      <td>...</td>\n",
       "      <td>NaN</td>\n",
       "      <td>NaN</td>\n",
       "      <td>DMC</td>\n",
       "      <td>NaN</td>\n",
       "      <td>NaN</td>\n",
       "      <td>NaN</td>\n",
       "      <td>40000000</td>\n",
       "      <td>1</td>\n",
       "      <td>1</td>\n",
       "      <td>LaLiga</td>\n",
       "    </tr>\n",
       "    <tr>\n",
       "      <th>2</th>\n",
       "      <td>William Osula</td>\n",
       "      <td>Sheff Utd</td>\n",
       "      <td>20</td>\n",
       "      <td>785</td>\n",
       "      <td>0</td>\n",
       "      <td>0</td>\n",
       "      <td>4</td>\n",
       "      <td>0</td>\n",
       "      <td>1.0</td>\n",
       "      <td>53.3</td>\n",
       "      <td>...</td>\n",
       "      <td>NaN</td>\n",
       "      <td>NaN</td>\n",
       "      <td>NaN</td>\n",
       "      <td>NaN</td>\n",
       "      <td>NaN</td>\n",
       "      <td>NaN</td>\n",
       "      <td>3000000</td>\n",
       "      <td>1</td>\n",
       "      <td>1</td>\n",
       "      <td>Premier League</td>\n",
       "    </tr>\n",
       "    <tr>\n",
       "      <th>599</th>\n",
       "      <td>Anthony Jung</td>\n",
       "      <td>Werder Bremen</td>\n",
       "      <td>32</td>\n",
       "      <td>2584</td>\n",
       "      <td>1</td>\n",
       "      <td>0</td>\n",
       "      <td>4</td>\n",
       "      <td>1</td>\n",
       "      <td>0.2</td>\n",
       "      <td>87.8</td>\n",
       "      <td>...</td>\n",
       "      <td>L</td>\n",
       "      <td>NaN</td>\n",
       "      <td>M</td>\n",
       "      <td>L</td>\n",
       "      <td>NaN</td>\n",
       "      <td>NaN</td>\n",
       "      <td>1000000</td>\n",
       "      <td>2</td>\n",
       "      <td>1</td>\n",
       "      <td>Bundesliga</td>\n",
       "    </tr>\n",
       "    <tr>\n",
       "      <th>504</th>\n",
       "      <td>Mads Pedersen</td>\n",
       "      <td>Augsburg</td>\n",
       "      <td>27</td>\n",
       "      <td>1784</td>\n",
       "      <td>1</td>\n",
       "      <td>1</td>\n",
       "      <td>5</td>\n",
       "      <td>1</td>\n",
       "      <td>0.5</td>\n",
       "      <td>81.3</td>\n",
       "      <td>...</td>\n",
       "      <td>R</td>\n",
       "      <td>NaN</td>\n",
       "      <td>M</td>\n",
       "      <td>C</td>\n",
       "      <td>L</td>\n",
       "      <td>NaN</td>\n",
       "      <td>2500000</td>\n",
       "      <td>2</td>\n",
       "      <td>2</td>\n",
       "      <td>Bundesliga</td>\n",
       "    </tr>\n",
       "    <tr>\n",
       "      <th>921</th>\n",
       "      <td>Tommy Doyle</td>\n",
       "      <td>Wolves</td>\n",
       "      <td>22</td>\n",
       "      <td>1216</td>\n",
       "      <td>0</td>\n",
       "      <td>0</td>\n",
       "      <td>2</td>\n",
       "      <td>0</td>\n",
       "      <td>0.5</td>\n",
       "      <td>86.4</td>\n",
       "      <td>...</td>\n",
       "      <td>NaN</td>\n",
       "      <td>NaN</td>\n",
       "      <td>NaN</td>\n",
       "      <td>NaN</td>\n",
       "      <td>NaN</td>\n",
       "      <td>NaN</td>\n",
       "      <td>10000000</td>\n",
       "      <td>1</td>\n",
       "      <td>1</td>\n",
       "      <td>Premier League</td>\n",
       "    </tr>\n",
       "    <tr>\n",
       "      <th>1432</th>\n",
       "      <td>Nicolas Pallois</td>\n",
       "      <td>Nantes</td>\n",
       "      <td>36</td>\n",
       "      <td>1586</td>\n",
       "      <td>0</td>\n",
       "      <td>1</td>\n",
       "      <td>5</td>\n",
       "      <td>0</td>\n",
       "      <td>0.2</td>\n",
       "      <td>81.4</td>\n",
       "      <td>...</td>\n",
       "      <td>NaN</td>\n",
       "      <td>NaN</td>\n",
       "      <td>NaN</td>\n",
       "      <td>NaN</td>\n",
       "      <td>NaN</td>\n",
       "      <td>NaN</td>\n",
       "      <td>600000</td>\n",
       "      <td>1</td>\n",
       "      <td>1</td>\n",
       "      <td>Ligue 1</td>\n",
       "    </tr>\n",
       "  </tbody>\n",
       "</table>\n",
       "<p>10 rows × 45 columns</p>\n",
       "</div>"
      ]
     },
     "execution_count": 460,
     "metadata": {},
     "output_type": "execute_result"
    }
   ],
   "execution_count": 460
  },
  {
   "metadata": {
    "ExecuteTime": {
     "end_time": "2024-07-12T15:31:30.712694Z",
     "start_time": "2024-07-12T15:31:30.697075Z"
    }
   },
   "cell_type": "code",
   "source": "all_data.columns",
   "id": "1483d0c056f1f70b",
   "outputs": [
    {
     "data": {
      "text/plain": [
       "Index(['Name', 'Team', 'Age', 'Mins', 'Goals', 'Assists', 'Yel', 'Red', 'SpG',\n",
       "       'PS', 'AerialsWon', 'MotM', 'Rating', 'Tackles', 'Inter', 'Fouls',\n",
       "       'Offsides', 'Clear', 'Drb_x', 'Blocks', 'OwnG', 'KeyP', 'Drb_y',\n",
       "       'Fouled', 'Off', 'Disp', 'UnsTch', 'AvgP', 'Crosses', 'LongB', 'ThrB',\n",
       "       'Overall_Apps', 'Start_Apps', 'Position_1', 'Side_11', 'Side_12',\n",
       "       'Side_13', 'Position_2', 'Side_21', 'Side_22', 'Side_23', 'Value',\n",
       "       'Position_1_Sides', 'Position_2_Sides', 'League'],\n",
       "      dtype='object')"
      ]
     },
     "execution_count": 461,
     "metadata": {},
     "output_type": "execute_result"
    }
   ],
   "execution_count": 461
  },
  {
   "metadata": {
    "ExecuteTime": {
     "end_time": "2024-07-12T15:31:30.775190Z",
     "start_time": "2024-07-12T15:31:30.743935Z"
    }
   },
   "cell_type": "code",
   "source": "all_data.sample(5)",
   "id": "28dc7bb1b4fe835a",
   "outputs": [
    {
     "data": {
      "text/plain": [
       "                 Name           Team  Age  Mins  Goals  Assists  Yel  Red  \\\n",
       "203     Lucas Ocampos        Sevilla   29  2887      4        3    9    0   \n",
       "673  Chiedozie Ogbene          Luton   27  1994      4        1    1    0   \n",
       "620        Paulo Azzi       Cagliari   29   940      0        0    1    0   \n",
       "285   Matteo Politano         Napoli   30  2387      8        7    2    1   \n",
       "299    Justin Njinmah  Werder Bremen   23  1013      6        2    1    0   \n",
       "\n",
       "     SpG    PS  ...  Side_12  Side_13  Position_2  Side_21  Side_22  Side_23  \\\n",
       "203  1.8  73.6  ...        L        R          FW      NaN      NaN      NaN   \n",
       "673  1.2  81.6  ...        L        R          FW      NaN      NaN      NaN   \n",
       "620  0.8  71.7  ...      NaN      NaN         NaN      NaN      NaN      NaN   \n",
       "285  2.0  83.0  ...        L        R          FW      NaN      NaN      NaN   \n",
       "299  1.4  69.8  ...      NaN      NaN         NaN      NaN      NaN      NaN   \n",
       "\n",
       "        Value  Position_1_Sides  Position_2_Sides          League  \n",
       "203   9000000                 3                 1          LaLiga  \n",
       "673   8000000                 3                 1  Premier League  \n",
       "620   1000000                 1                 1         Serie A  \n",
       "285  13000000                 3                 1         Serie A  \n",
       "299   9000000                 1                 1      Bundesliga  \n",
       "\n",
       "[5 rows x 45 columns]"
      ],
      "text/html": [
       "<div>\n",
       "<style scoped>\n",
       "    .dataframe tbody tr th:only-of-type {\n",
       "        vertical-align: middle;\n",
       "    }\n",
       "\n",
       "    .dataframe tbody tr th {\n",
       "        vertical-align: top;\n",
       "    }\n",
       "\n",
       "    .dataframe thead th {\n",
       "        text-align: right;\n",
       "    }\n",
       "</style>\n",
       "<table border=\"1\" class=\"dataframe\">\n",
       "  <thead>\n",
       "    <tr style=\"text-align: right;\">\n",
       "      <th></th>\n",
       "      <th>Name</th>\n",
       "      <th>Team</th>\n",
       "      <th>Age</th>\n",
       "      <th>Mins</th>\n",
       "      <th>Goals</th>\n",
       "      <th>Assists</th>\n",
       "      <th>Yel</th>\n",
       "      <th>Red</th>\n",
       "      <th>SpG</th>\n",
       "      <th>PS</th>\n",
       "      <th>...</th>\n",
       "      <th>Side_12</th>\n",
       "      <th>Side_13</th>\n",
       "      <th>Position_2</th>\n",
       "      <th>Side_21</th>\n",
       "      <th>Side_22</th>\n",
       "      <th>Side_23</th>\n",
       "      <th>Value</th>\n",
       "      <th>Position_1_Sides</th>\n",
       "      <th>Position_2_Sides</th>\n",
       "      <th>League</th>\n",
       "    </tr>\n",
       "  </thead>\n",
       "  <tbody>\n",
       "    <tr>\n",
       "      <th>203</th>\n",
       "      <td>Lucas Ocampos</td>\n",
       "      <td>Sevilla</td>\n",
       "      <td>29</td>\n",
       "      <td>2887</td>\n",
       "      <td>4</td>\n",
       "      <td>3</td>\n",
       "      <td>9</td>\n",
       "      <td>0</td>\n",
       "      <td>1.8</td>\n",
       "      <td>73.6</td>\n",
       "      <td>...</td>\n",
       "      <td>L</td>\n",
       "      <td>R</td>\n",
       "      <td>FW</td>\n",
       "      <td>NaN</td>\n",
       "      <td>NaN</td>\n",
       "      <td>NaN</td>\n",
       "      <td>9000000</td>\n",
       "      <td>3</td>\n",
       "      <td>1</td>\n",
       "      <td>LaLiga</td>\n",
       "    </tr>\n",
       "    <tr>\n",
       "      <th>673</th>\n",
       "      <td>Chiedozie Ogbene</td>\n",
       "      <td>Luton</td>\n",
       "      <td>27</td>\n",
       "      <td>1994</td>\n",
       "      <td>4</td>\n",
       "      <td>1</td>\n",
       "      <td>1</td>\n",
       "      <td>0</td>\n",
       "      <td>1.2</td>\n",
       "      <td>81.6</td>\n",
       "      <td>...</td>\n",
       "      <td>L</td>\n",
       "      <td>R</td>\n",
       "      <td>FW</td>\n",
       "      <td>NaN</td>\n",
       "      <td>NaN</td>\n",
       "      <td>NaN</td>\n",
       "      <td>8000000</td>\n",
       "      <td>3</td>\n",
       "      <td>1</td>\n",
       "      <td>Premier League</td>\n",
       "    </tr>\n",
       "    <tr>\n",
       "      <th>620</th>\n",
       "      <td>Paulo Azzi</td>\n",
       "      <td>Cagliari</td>\n",
       "      <td>29</td>\n",
       "      <td>940</td>\n",
       "      <td>0</td>\n",
       "      <td>0</td>\n",
       "      <td>1</td>\n",
       "      <td>0</td>\n",
       "      <td>0.8</td>\n",
       "      <td>71.7</td>\n",
       "      <td>...</td>\n",
       "      <td>NaN</td>\n",
       "      <td>NaN</td>\n",
       "      <td>NaN</td>\n",
       "      <td>NaN</td>\n",
       "      <td>NaN</td>\n",
       "      <td>NaN</td>\n",
       "      <td>1000000</td>\n",
       "      <td>1</td>\n",
       "      <td>1</td>\n",
       "      <td>Serie A</td>\n",
       "    </tr>\n",
       "    <tr>\n",
       "      <th>285</th>\n",
       "      <td>Matteo Politano</td>\n",
       "      <td>Napoli</td>\n",
       "      <td>30</td>\n",
       "      <td>2387</td>\n",
       "      <td>8</td>\n",
       "      <td>7</td>\n",
       "      <td>2</td>\n",
       "      <td>1</td>\n",
       "      <td>2.0</td>\n",
       "      <td>83.0</td>\n",
       "      <td>...</td>\n",
       "      <td>L</td>\n",
       "      <td>R</td>\n",
       "      <td>FW</td>\n",
       "      <td>NaN</td>\n",
       "      <td>NaN</td>\n",
       "      <td>NaN</td>\n",
       "      <td>13000000</td>\n",
       "      <td>3</td>\n",
       "      <td>1</td>\n",
       "      <td>Serie A</td>\n",
       "    </tr>\n",
       "    <tr>\n",
       "      <th>299</th>\n",
       "      <td>Justin Njinmah</td>\n",
       "      <td>Werder Bremen</td>\n",
       "      <td>23</td>\n",
       "      <td>1013</td>\n",
       "      <td>6</td>\n",
       "      <td>2</td>\n",
       "      <td>1</td>\n",
       "      <td>0</td>\n",
       "      <td>1.4</td>\n",
       "      <td>69.8</td>\n",
       "      <td>...</td>\n",
       "      <td>NaN</td>\n",
       "      <td>NaN</td>\n",
       "      <td>NaN</td>\n",
       "      <td>NaN</td>\n",
       "      <td>NaN</td>\n",
       "      <td>NaN</td>\n",
       "      <td>9000000</td>\n",
       "      <td>1</td>\n",
       "      <td>1</td>\n",
       "      <td>Bundesliga</td>\n",
       "    </tr>\n",
       "  </tbody>\n",
       "</table>\n",
       "<p>5 rows × 45 columns</p>\n",
       "</div>"
      ]
     },
     "execution_count": 462,
     "metadata": {},
     "output_type": "execute_result"
    }
   ],
   "execution_count": 462
  }
 ],
 "metadata": {
  "kernelspec": {
   "display_name": "Python 3",
   "language": "python",
   "name": "python3"
  },
  "language_info": {
   "codemirror_mode": {
    "name": "ipython",
    "version": 2
   },
   "file_extension": ".py",
   "mimetype": "text/x-python",
   "name": "python",
   "nbconvert_exporter": "python",
   "pygments_lexer": "ipython2",
   "version": "2.7.6"
  }
 },
 "nbformat": 4,
 "nbformat_minor": 5
}
