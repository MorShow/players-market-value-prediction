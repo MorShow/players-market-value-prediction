{
 "cells": [
  {
   "cell_type": "code",
   "id": "initial_id",
   "metadata": {
    "collapsed": true,
    "ExecuteTime": {
     "end_time": "2024-07-11T13:09:58.231113Z",
     "start_time": "2024-07-11T13:09:58.153044Z"
    }
   },
   "source": [
    "import pandas as pd\n",
    "import numpy as np\n",
    "import matplotlib.pyplot as plt\n",
    "import seaborn as sns\n",
    "\n",
    "%matplotlib inline"
   ],
   "outputs": [],
   "execution_count": 1
  },
  {
   "metadata": {
    "ExecuteTime": {
     "end_time": "2024-07-11T13:18:06.192103Z",
     "start_time": "2024-07-11T13:18:06.176399Z"
    }
   },
   "cell_type": "code",
   "source": [
    "# Constant variables\n",
    "TABLE_SIZE = 1546\n",
    "TRAIN_RATIO = 0.8"
   ],
   "id": "2818bb8829f00756",
   "outputs": [],
   "execution_count": 31
  },
  {
   "metadata": {
    "ExecuteTime": {
     "end_time": "2024-07-11T14:24:50.178318Z",
     "start_time": "2024-07-11T14:24:50.147119Z"
    }
   },
   "cell_type": "code",
   "source": [
    "# Joins train and test datasets together to simplify the process\n",
    "def concat_df(df1, df2):\n",
    "    return pd.concat([df1, df2], ignore_index=True)\n",
    "\n",
    "# Divides the overall dataset into train and test \n",
    "def divide_df(df):\n",
    "    train_size = int(TABLE_SIZE*TRAIN_RATIO)\n",
    "    \n",
    "    return df.loc[:train_size - 1], df.loc[train_size:] "
   ],
   "id": "41abdab83c09eeb1",
   "outputs": [],
   "execution_count": 155
  },
  {
   "metadata": {
    "ExecuteTime": {
     "end_time": "2024-07-11T14:25:13.362202Z",
     "start_time": "2024-07-11T14:25:13.318300Z"
    }
   },
   "cell_type": "code",
   "source": [
    "train_data = pd.read_csv('data/train_stats.csv')\n",
    "test_data = pd.read_csv('data/test_stats.csv')\n",
    "all_data = concat_df(train_data, test_data)"
   ],
   "id": "2f025158010be507",
   "outputs": [],
   "execution_count": 158
  },
  {
   "metadata": {
    "ExecuteTime": {
     "end_time": "2024-07-11T14:25:15.855662Z",
     "start_time": "2024-07-11T14:25:15.826371Z"
    }
   },
   "cell_type": "code",
   "source": "all_data.drop(['Player_URL', 'Team_URL'], axis=1, inplace=True)",
   "id": "b3a0af773bfea435",
   "outputs": [],
   "execution_count": 159
  },
  {
   "metadata": {
    "ExecuteTime": {
     "end_time": "2024-07-11T14:25:17.333004Z",
     "start_time": "2024-07-11T14:25:17.317342Z"
    }
   },
   "cell_type": "code",
   "source": [
    "# Cleans the columns containing commas \n",
    "def clean_comma(column):\n",
    "    column = column.strip()\n",
    "    column = column[:column.find(',')] + '' + column[column.find(',') + 1:]\n",
    "    return column\n",
    "\n",
    "# Cleans the columns containing '\\t' symbol\n",
    "def clean_tab(column):\n",
    "    return column.strip().replace('\\t', '')"
   ],
   "id": "e2ce9576f1801e26",
   "outputs": [],
   "execution_count": 160
  },
  {
   "metadata": {
    "ExecuteTime": {
     "end_time": "2024-07-11T14:25:18.652870Z",
     "start_time": "2024-07-11T14:25:18.610064Z"
    }
   },
   "cell_type": "code",
   "source": [
    "comma_columns = ['Team', 'Position']\n",
    "tab_columns = ['Goals', 'Assists', 'Yel', 'Red', 'SpG', 'AerialsWon', 'MotM', 'Tackles',\n",
    "               'Inter', 'Fouls', 'Offsides', 'Clear', 'Drb_x', 'Blocks', 'OwnG', 'KeyP',\n",
    "               'Drb_y', 'Fouled', 'Off', 'Disp', 'UnsTch', 'Crosses', 'LongB', 'ThrB']\n",
    "\n",
    "for column in comma_columns:\n",
    "    all_data[column] = all_data[column].apply(clean_comma)\n",
    "    \n",
    "for column in tab_columns:\n",
    "    all_data[column] = all_data[column].apply(clean_tab)"
   ],
   "id": "a9fe95d7fdef3339",
   "outputs": [],
   "execution_count": 161
  },
  {
   "metadata": {
    "ExecuteTime": {
     "end_time": "2024-07-11T14:25:19.442268Z",
     "start_time": "2024-07-11T14:25:19.426473Z"
    }
   },
   "cell_type": "code",
   "source": [
    "# Some columns with integer values contain symbol '-' instead of 0. The function fixes it\n",
    "def remove_dashes(column):\n",
    "    if column == '-':\n",
    "        return 0\n",
    "    return column"
   ],
   "id": "1b0a0d2a9cc68810",
   "outputs": [],
   "execution_count": 162
  },
  {
   "metadata": {
    "ExecuteTime": {
     "end_time": "2024-07-11T14:25:19.988378Z",
     "start_time": "2024-07-11T14:25:19.972723Z"
    }
   },
   "cell_type": "code",
   "source": [
    "dash_columns = ['Goals', 'Assists', 'Yel', 'Red', 'SpG', 'AerialsWon', 'MotM', 'Tackles',\n",
    "                'Inter', 'Fouls', 'Offsides', 'Clear', 'Drb_x', 'Drb_y', 'Blocks', 'OwnG', 'KeyP',\n",
    "                'Fouled', 'Off', 'Disp', 'UnsTch', 'Crosses', 'LongB', 'ThrB']\n",
    "\n",
    "for column in dash_columns:\n",
    "    all_data[column] = all_data[column].apply(remove_dashes)"
   ],
   "id": "8fdb80d5819a47c8",
   "outputs": [],
   "execution_count": 163
  },
  {
   "metadata": {
    "ExecuteTime": {
     "end_time": "2024-07-11T14:25:20.417131Z",
     "start_time": "2024-07-11T14:25:20.403620Z"
    }
   },
   "cell_type": "code",
   "source": [
    "# Now we have 'Value' variable containing market values in thousands or millions, but we want to get just an integer\n",
    "def value_scaling(value):\n",
    "    value = value.strip()\n",
    "    \n",
    "    if value.endswith('k'):\n",
    "        return int(float(value[value.find('€')+1:value.find('k')]) * 10**3)\n",
    "    elif value.endswith('m'):\n",
    "        return int(float(value[value.find('€')+1:value.find('m')]) * 10**6)"
   ],
   "id": "57fb37a3c75b3cd3",
   "outputs": [],
   "execution_count": 164
  },
  {
   "metadata": {
    "ExecuteTime": {
     "end_time": "2024-07-11T14:25:21.971604Z",
     "start_time": "2024-07-11T14:25:21.955963Z"
    }
   },
   "cell_type": "code",
   "source": "all_data['Value'] = all_data['Value'].apply(value_scaling)",
   "id": "64e1dcb14595efdc",
   "outputs": [],
   "execution_count": 165
  },
  {
   "metadata": {
    "ExecuteTime": {
     "end_time": "2024-07-11T14:33:05.826974Z",
     "start_time": "2024-07-11T14:33:05.811335Z"
    }
   },
   "cell_type": "code",
   "source": [
    "# We can divide 'Apps' variable because the number of appearances in starting squad is demonstrated in parentheses \n",
    "def appearances_division(apps):\n",
    "    return apps[:apps.find('(')], apps[apps.find('(')+1:apps.find(')')]"
   ],
   "id": "a5a85156ab2cbb55",
   "outputs": [],
   "execution_count": 169
  },
  {
   "metadata": {
    "ExecuteTime": {
     "end_time": "2024-07-11T14:33:06.926022Z",
     "start_time": "2024-07-11T14:33:06.894768Z"
    }
   },
   "cell_type": "code",
   "source": "all_data['Overall_Apps'], all_data['Start_Apps'] = all_data['Apps'].apply(appearances_division)",
   "id": "28939733a047976e",
   "outputs": [
    {
     "ename": "ValueError",
     "evalue": "too many values to unpack (expected 2)",
     "output_type": "error",
     "traceback": [
      "\u001B[1;31m---------------------------------------------------------------------------\u001B[0m",
      "\u001B[1;31mValueError\u001B[0m                                Traceback (most recent call last)",
      "Cell \u001B[1;32mIn[170], line 1\u001B[0m\n\u001B[1;32m----> 1\u001B[0m all_data[\u001B[38;5;124m'\u001B[39m\u001B[38;5;124mOverall_Apps\u001B[39m\u001B[38;5;124m'\u001B[39m], all_data[\u001B[38;5;124m'\u001B[39m\u001B[38;5;124mStart_Apps\u001B[39m\u001B[38;5;124m'\u001B[39m] \u001B[38;5;241m=\u001B[39m all_data[\u001B[38;5;124m'\u001B[39m\u001B[38;5;124mApps\u001B[39m\u001B[38;5;124m'\u001B[39m]\u001B[38;5;241m.\u001B[39mapply(appearances_division)\n",
      "\u001B[1;31mValueError\u001B[0m: too many values to unpack (expected 2)"
     ]
    }
   ],
   "execution_count": 170
  },
  {
   "metadata": {
    "ExecuteTime": {
     "end_time": "2024-07-11T14:25:22.932598Z",
     "start_time": "2024-07-11T14:25:22.841256Z"
    }
   },
   "cell_type": "code",
   "source": [
    "df = all_data.sample(3)\n",
    "\n",
    "for column in df.columns:\n",
    "    print(f'Column: {column}')\n",
    "    display(df[column])"
   ],
   "id": "a6e866e0e7d33cb",
   "outputs": [
    {
     "name": "stdout",
     "output_type": "stream",
     "text": [
      "Column: Name\n"
     ]
    },
    {
     "data": {
      "text/plain": [
       "1278     Raúl Jiménez\n",
       "500       Jon Pacheco\n",
       "112     Daichi Kamada\n",
       "Name: Name, dtype: object"
      ]
     },
     "metadata": {},
     "output_type": "display_data"
    },
    {
     "name": "stdout",
     "output_type": "stream",
     "text": [
      "Column: Team\n"
     ]
    },
    {
     "data": {
      "text/plain": [
       "1278           Fulham\n",
       "500     Real Sociedad\n",
       "112             Lazio\n",
       "Name: Team, dtype: object"
      ]
     },
     "metadata": {},
     "output_type": "display_data"
    },
    {
     "name": "stdout",
     "output_type": "stream",
     "text": [
      "Column: Age\n"
     ]
    },
    {
     "data": {
      "text/plain": [
       "1278    33\n",
       "500     23\n",
       "112     27\n",
       "Name: Age, dtype: int64"
      ]
     },
     "metadata": {},
     "output_type": "display_data"
    },
    {
     "name": "stdout",
     "output_type": "stream",
     "text": [
      "Column: Position\n"
     ]
    },
    {
     "data": {
      "text/plain": [
       "1278              FW\n",
       "500             D(C)\n",
       "112       AM(CLR),FW\n",
       "Name: Position, dtype: object"
      ]
     },
     "metadata": {},
     "output_type": "display_data"
    },
    {
     "name": "stdout",
     "output_type": "stream",
     "text": [
      "Column: Apps\n"
     ]
    },
    {
     "data": {
      "text/plain": [
       "1278     18(6)\n",
       "500      16(7)\n",
       "112     17(12)\n",
       "Name: Apps, dtype: object"
      ]
     },
     "metadata": {},
     "output_type": "display_data"
    },
    {
     "name": "stdout",
     "output_type": "stream",
     "text": [
      "Column: Mins\n"
     ]
    },
    {
     "data": {
      "text/plain": [
       "1278    1404\n",
       "500     1521\n",
       "112     1546\n",
       "Name: Mins, dtype: int64"
      ]
     },
     "metadata": {},
     "output_type": "display_data"
    },
    {
     "name": "stdout",
     "output_type": "stream",
     "text": [
      "Column: Goals\n"
     ]
    },
    {
     "data": {
      "text/plain": [
       "1278    7\n",
       "500     1\n",
       "112     2\n",
       "Name: Goals, dtype: object"
      ]
     },
     "metadata": {},
     "output_type": "display_data"
    },
    {
     "name": "stdout",
     "output_type": "stream",
     "text": [
      "Column: Assists\n"
     ]
    },
    {
     "data": {
      "text/plain": [
       "1278    0\n",
       "500     1\n",
       "112     2\n",
       "Name: Assists, dtype: object"
      ]
     },
     "metadata": {},
     "output_type": "display_data"
    },
    {
     "name": "stdout",
     "output_type": "stream",
     "text": [
      "Column: Yel\n"
     ]
    },
    {
     "data": {
      "text/plain": [
       "1278    3\n",
       "500     8\n",
       "112     3\n",
       "Name: Yel, dtype: object"
      ]
     },
     "metadata": {},
     "output_type": "display_data"
    },
    {
     "name": "stdout",
     "output_type": "stream",
     "text": [
      "Column: Red\n"
     ]
    },
    {
     "data": {
      "text/plain": [
       "1278    1\n",
       "500     0\n",
       "112     0\n",
       "Name: Red, dtype: object"
      ]
     },
     "metadata": {},
     "output_type": "display_data"
    },
    {
     "name": "stdout",
     "output_type": "stream",
     "text": [
      "Column: SpG\n"
     ]
    },
    {
     "data": {
      "text/plain": [
       "1278    1.7\n",
       "500     0.3\n",
       "112       1\n",
       "Name: SpG, dtype: object"
      ]
     },
     "metadata": {},
     "output_type": "display_data"
    },
    {
     "name": "stdout",
     "output_type": "stream",
     "text": [
      "Column: PS\n"
     ]
    },
    {
     "data": {
      "text/plain": [
       "1278    69.7\n",
       "500     87.3\n",
       "112     89.0\n",
       "Name: PS, dtype: float64"
      ]
     },
     "metadata": {},
     "output_type": "display_data"
    },
    {
     "name": "stdout",
     "output_type": "stream",
     "text": [
      "Column: AerialsWon\n"
     ]
    },
    {
     "data": {
      "text/plain": [
       "1278    1.8\n",
       "500     2.5\n",
       "112     0.1\n",
       "Name: AerialsWon, dtype: object"
      ]
     },
     "metadata": {},
     "output_type": "display_data"
    },
    {
     "name": "stdout",
     "output_type": "stream",
     "text": [
      "Column: MotM\n"
     ]
    },
    {
     "data": {
      "text/plain": [
       "1278    1\n",
       "500     2\n",
       "112     1\n",
       "Name: MotM, dtype: object"
      ]
     },
     "metadata": {},
     "output_type": "display_data"
    },
    {
     "name": "stdout",
     "output_type": "stream",
     "text": [
      "Column: Rating\n"
     ]
    },
    {
     "data": {
      "text/plain": [
       "1278    6.67\n",
       "500     6.61\n",
       "112     6.62\n",
       "Name: Rating, dtype: float64"
      ]
     },
     "metadata": {},
     "output_type": "display_data"
    },
    {
     "name": "stdout",
     "output_type": "stream",
     "text": [
      "Column: Tackles\n"
     ]
    },
    {
     "data": {
      "text/plain": [
       "1278    0.8\n",
       "500     1.1\n",
       "112     1.8\n",
       "Name: Tackles, dtype: object"
      ]
     },
     "metadata": {},
     "output_type": "display_data"
    },
    {
     "name": "stdout",
     "output_type": "stream",
     "text": [
      "Column: Inter\n"
     ]
    },
    {
     "data": {
      "text/plain": [
       "1278    0.2\n",
       "500     0.4\n",
       "112     0.6\n",
       "Name: Inter, dtype: object"
      ]
     },
     "metadata": {},
     "output_type": "display_data"
    },
    {
     "name": "stdout",
     "output_type": "stream",
     "text": [
      "Column: Fouls\n"
     ]
    },
    {
     "data": {
      "text/plain": [
       "1278    0.7\n",
       "500     1.3\n",
       "112     1.3\n",
       "Name: Fouls, dtype: object"
      ]
     },
     "metadata": {},
     "output_type": "display_data"
    },
    {
     "name": "stdout",
     "output_type": "stream",
     "text": [
      "Column: Offsides\n"
     ]
    },
    {
     "data": {
      "text/plain": [
       "1278      0\n",
       "500     0.9\n",
       "112       0\n",
       "Name: Offsides, dtype: object"
      ]
     },
     "metadata": {},
     "output_type": "display_data"
    },
    {
     "name": "stdout",
     "output_type": "stream",
     "text": [
      "Column: Clear\n"
     ]
    },
    {
     "data": {
      "text/plain": [
       "1278    0.5\n",
       "500     2.3\n",
       "112     0.2\n",
       "Name: Clear, dtype: object"
      ]
     },
     "metadata": {},
     "output_type": "display_data"
    },
    {
     "name": "stdout",
     "output_type": "stream",
     "text": [
      "Column: Drb_x\n"
     ]
    },
    {
     "data": {
      "text/plain": [
       "1278    0.5\n",
       "500     0.3\n",
       "112     0.8\n",
       "Name: Drb_x, dtype: object"
      ]
     },
     "metadata": {},
     "output_type": "display_data"
    },
    {
     "name": "stdout",
     "output_type": "stream",
     "text": [
      "Column: Blocks\n"
     ]
    },
    {
     "data": {
      "text/plain": [
       "1278    0.1\n",
       "500     0.3\n",
       "112     0.2\n",
       "Name: Blocks, dtype: object"
      ]
     },
     "metadata": {},
     "output_type": "display_data"
    },
    {
     "name": "stdout",
     "output_type": "stream",
     "text": [
      "Column: OwnG\n"
     ]
    },
    {
     "data": {
      "text/plain": [
       "1278    0\n",
       "500     0\n",
       "112     0\n",
       "Name: OwnG, dtype: object"
      ]
     },
     "metadata": {},
     "output_type": "display_data"
    },
    {
     "name": "stdout",
     "output_type": "stream",
     "text": [
      "Column: KeyP\n"
     ]
    },
    {
     "data": {
      "text/plain": [
       "1278    0.5\n",
       "500     0.1\n",
       "112     0.8\n",
       "Name: KeyP, dtype: object"
      ]
     },
     "metadata": {},
     "output_type": "display_data"
    },
    {
     "name": "stdout",
     "output_type": "stream",
     "text": [
      "Column: Drb_y\n"
     ]
    },
    {
     "data": {
      "text/plain": [
       "1278    0.4\n",
       "500     0.2\n",
       "112     0.5\n",
       "Name: Drb_y, dtype: object"
      ]
     },
     "metadata": {},
     "output_type": "display_data"
    },
    {
     "name": "stdout",
     "output_type": "stream",
     "text": [
      "Column: Fouled\n"
     ]
    },
    {
     "data": {
      "text/plain": [
       "1278    0.9\n",
       "500       0\n",
       "112     0.4\n",
       "Name: Fouled, dtype: object"
      ]
     },
     "metadata": {},
     "output_type": "display_data"
    },
    {
     "name": "stdout",
     "output_type": "stream",
     "text": [
      "Column: Off\n"
     ]
    },
    {
     "data": {
      "text/plain": [
       "1278    0.5\n",
       "500       0\n",
       "112     0.1\n",
       "Name: Off, dtype: object"
      ]
     },
     "metadata": {},
     "output_type": "display_data"
    },
    {
     "name": "stdout",
     "output_type": "stream",
     "text": [
      "Column: Disp\n"
     ]
    },
    {
     "data": {
      "text/plain": [
       "1278    1.3\n",
       "500     0.1\n",
       "112     0.5\n",
       "Name: Disp, dtype: object"
      ]
     },
     "metadata": {},
     "output_type": "display_data"
    },
    {
     "name": "stdout",
     "output_type": "stream",
     "text": [
      "Column: UnsTch\n"
     ]
    },
    {
     "data": {
      "text/plain": [
       "1278    1.8\n",
       "500     0.3\n",
       "112     0.9\n",
       "Name: UnsTch, dtype: object"
      ]
     },
     "metadata": {},
     "output_type": "display_data"
    },
    {
     "name": "stdout",
     "output_type": "stream",
     "text": [
      "Column: AvgP\n"
     ]
    },
    {
     "data": {
      "text/plain": [
       "1278    15.5\n",
       "500     50.6\n",
       "112     31.2\n",
       "Name: AvgP, dtype: float64"
      ]
     },
     "metadata": {},
     "output_type": "display_data"
    },
    {
     "name": "stdout",
     "output_type": "stream",
     "text": [
      "Column: Crosses\n"
     ]
    },
    {
     "data": {
      "text/plain": [
       "1278    0.1\n",
       "500       0\n",
       "112       0\n",
       "Name: Crosses, dtype: object"
      ]
     },
     "metadata": {},
     "output_type": "display_data"
    },
    {
     "name": "stdout",
     "output_type": "stream",
     "text": [
      "Column: LongB\n"
     ]
    },
    {
     "data": {
      "text/plain": [
       "1278    0.5\n",
       "500     2.4\n",
       "112     0.9\n",
       "Name: LongB, dtype: object"
      ]
     },
     "metadata": {},
     "output_type": "display_data"
    },
    {
     "name": "stdout",
     "output_type": "stream",
     "text": [
      "Column: ThrB\n"
     ]
    },
    {
     "data": {
      "text/plain": [
       "1278    0.1\n",
       "500       0\n",
       "112     0.1\n",
       "Name: ThrB, dtype: object"
      ]
     },
     "metadata": {},
     "output_type": "display_data"
    },
    {
     "name": "stdout",
     "output_type": "stream",
     "text": [
      "Column: Value\n"
     ]
    },
    {
     "data": {
      "text/plain": [
       "1278     5000000\n",
       "500     15000000\n",
       "112     18000000\n",
       "Name: Value, dtype: int64"
      ]
     },
     "metadata": {},
     "output_type": "display_data"
    }
   ],
   "execution_count": 166
  },
  {
   "metadata": {
    "ExecuteTime": {
     "end_time": "2024-07-11T14:25:27.384962Z",
     "start_time": "2024-07-11T14:25:27.345135Z"
    }
   },
   "cell_type": "code",
   "source": "display(all_data.sample(30))",
   "id": "469e377e208b4993",
   "outputs": [
    {
     "data": {
      "text/plain": [
       "                      Name           Team  Age          Position    Apps  \\\n",
       "195     Samuele Birindelli          Monza   24         D(R),M(R)  22(13)   \n",
       "888        Youri Tielemans    Aston Villa   27              M(C)  17(15)   \n",
       "226         Bilal Boutobba  Clermont Foot   25             AM(R)  10(17)   \n",
       "746             Mama Baldé           Lyon   28    D(R),M(CLR),FW   4(16)   \n",
       "89         Thomas Kaminski          Luton   31                GK      38   \n",
       "443             Danny Ings       West Ham   31          AM(C),FW   3(17)   \n",
       "1124         Jay Rodríguez        Burnley   34        AM(CLR),FW   7(14)   \n",
       "910           Brajan Gruda          Mainz   20             AM(C)   19(9)   \n",
       "294      Alessio Romagnoli          Lazio   29             D(CL)   26(3)   \n",
       "189     Lorenzo Pellegrini           Roma   28             M(CL)   20(9)   \n",
       "1415         Ander Herrera  Athletic Club   34              M(C)  10(13)   \n",
       "1353                Joselu    Real Madrid   34                FW  15(19)   \n",
       "599           Anthony Jung  Werder Bremen   32        D(CL),M(L)   30(1)   \n",
       "442    Aurélien Tchouaméni    Real Madrid   24          D(C),DMC   22(5)   \n",
       "677                  Portu         Girona   32         M(CLR),FW  11(22)   \n",
       "1481           Yunus Musah       AC Milan   21             M(CR)  13(17)   \n",
       "1516         Benno Schmitz        FC Koln   29            D(CLR)   13(9)   \n",
       "1369  Raúl García Escudero  Athletic Club   37         M(CLR),FW   1(19)   \n",
       "1064           Arthur Atta           Metz   21              M(C)  10(11)   \n",
       "909          Jordy Makengo       Freiburg   22              D(L)  10(10)   \n",
       "1268                  Iago       Augsburg   27         D(L),M(L)   18(5)   \n",
       "1076        Ruan Tressoldi       Sassuolo   25              D(C)  16(10)   \n",
       "1452      Yannick Gerhardt      Wolfsburg   30        D(L),M(CL)   18(7)   \n",
       "391            Jacob Brown          Luton   26         M(CLR),FW   12(7)   \n",
       "1251        Berat Djimsiti       Atalanta   31              D(C)   32(5)   \n",
       "583          Ferland Mendy    Real Madrid   29         D(L),M(L)   21(2)   \n",
       "1434        Ylber Ramadani          Lecce   28               DMC      34   \n",
       "429          Gédéon Kalulu        Lorient   26         D(R),M(R)   11(8)   \n",
       "528          Nikola Vlasic         Torino   26        AM(CLR),FW   30(3)   \n",
       "177           João Cancelo      Barcelona   30       D(LR),M(LR)   29(3)   \n",
       "\n",
       "      Mins Goals Assists Yel Red  ... Drb_y  Fouled  Off Disp  UnsTch  AvgP  \\\n",
       "195   2016     0       2   7   0  ...   0.3     0.9    0  0.3       1  25.6   \n",
       "888   1622     2       6   3   0  ...   0.5     0.9    0  0.7     0.5  28.3   \n",
       "226    921     1       1   1   0  ...   0.6       1  0.1  0.6       1  12.3   \n",
       "746    543     2       3   1   0  ...   0.6     0.5  0.2  0.6     1.4   6.5   \n",
       "89    3406     0       0   3   0  ...   0.1     0.1    0    0       0  34.5   \n",
       "443    392     1       0   1   0  ...   0.3     0.3  0.1  0.2     0.5   5.3   \n",
       "1124   815     2       1   0   0  ...   0.3     0.3  0.3  0.2       1  10.2   \n",
       "910   1652     4       3   5   0  ...   2.5     1.7  0.3  1.8     2.5  19.0   \n",
       "294   2410     0       0   9   0  ...     0     0.7    0    0     0.3  60.3   \n",
       "189   1867     8       3   7   0  ...   0.7     1.2  0.1  0.7     1.4  26.6   \n",
       "1415  1023     0       3   4   0  ...   0.2     0.5    0  0.3     0.3  32.0   \n",
       "1353  1676    10       2   1   0  ...   0.2     0.4  0.5  0.3     0.9  10.2   \n",
       "599   2584     1       0   4   1  ...   0.2     0.5    0  0.1     0.4  56.0   \n",
       "442   1987     3       1   7   0  ...   0.2     0.8    0  0.4     0.5  55.2   \n",
       "677   1180     7       5   3   0  ...   0.1     0.5  0.3  0.5     0.7   8.7   \n",
       "1481  1468     0       2   5   0  ...   0.7     0.7  0.1  0.5     1.1  20.0   \n",
       "1516  1155     0       1   5   0  ...   0.2     0.5    0    0     0.3  24.1   \n",
       "1369   404     1       0   4   0  ...   0.1     0.5  0.3  0.3     0.5   6.5   \n",
       "1064   922     1       2   0   0  ...   0.6     0.6  0.2  0.8     0.8  18.2   \n",
       "909   1021     0       0   1   0  ...   0.6     0.6  0.1  0.3     0.7  23.3   \n",
       "1268  1625     1       1   4   0  ...   0.8       1  0.2  0.4       1  25.2   \n",
       "1076  1517     0       0   5   1  ...   0.1     0.5    0  0.1     0.2  26.1   \n",
       "1452  1636     2       1   5   0  ...     0     0.6  0.1  0.4     0.5  28.2   \n",
       "391   1020     2       0   4   0  ...   0.3       1  0.3  1.3     1.3  12.1   \n",
       "1251  2832     0       1   4   0  ...     0     0.3    0  0.1     0.2  44.2   \n",
       "583   1727     0       0   5   0  ...   0.6     0.7    0  0.6     0.9  49.3   \n",
       "1434  2976     1       0  13   0  ...   0.7     1.1    0  0.7       1  36.2   \n",
       "429    969     0       1   0   0  ...   0.2     0.4    0  0.4     0.5  23.3   \n",
       "528   2615     3       2   3   0  ...   0.8     1.1  0.3  1.1     1.7  28.9   \n",
       "177   2506     2       4   7   0  ...   1.9     0.8  0.1  0.8     1.7  48.7   \n",
       "\n",
       "     Crosses LongB ThrB      Value  \n",
       "195      0.5   1.4    0    3500000  \n",
       "888      0.1   1.1  0.2   25000000  \n",
       "226      0.6   0.2  0.1    1800000  \n",
       "746        0   0.2  0.1    4000000  \n",
       "89         0   8.2    0    3000000  \n",
       "443        0   0.1    0    8000000  \n",
       "1124       0   0.3    0    1000000  \n",
       "910      0.4   0.4  0.1   20000000  \n",
       "294        0   1.7    0   15000000  \n",
       "189      0.9   0.5  0.1   25000000  \n",
       "1415     0.2   1.2  0.1    2000000  \n",
       "1353       0   0.1    0    5000000  \n",
       "599      0.1   2.8    0    1000000  \n",
       "442      0.1   1.9    0  100000000  \n",
       "677      0.1     0  0.1    3500000  \n",
       "1481     0.2   0.5    0   22000000  \n",
       "1516     0.3     1    0    1500000  \n",
       "1369       0   0.3  0.1    4000000  \n",
       "1064     0.2   1.3    0    1000000  \n",
       "909      0.3   0.8    0    3500000  \n",
       "1268     0.9   1.8    0    4000000  \n",
       "1076       0   1.7    0    2500000  \n",
       "1452     0.2   0.8    0    4000000  \n",
       "391      0.2   0.2    0    4000000  \n",
       "1251       0     2    0   10000000  \n",
       "583      0.1     1    0   22000000  \n",
       "1434     0.1   2.2    0    4000000  \n",
       "429      0.4   0.7    0    3500000  \n",
       "528      0.4   0.6  0.1   10000000  \n",
       "177      0.6   2.2  0.1   25000000  \n",
       "\n",
       "[30 rows x 34 columns]"
      ],
      "text/html": [
       "<div>\n",
       "<style scoped>\n",
       "    .dataframe tbody tr th:only-of-type {\n",
       "        vertical-align: middle;\n",
       "    }\n",
       "\n",
       "    .dataframe tbody tr th {\n",
       "        vertical-align: top;\n",
       "    }\n",
       "\n",
       "    .dataframe thead th {\n",
       "        text-align: right;\n",
       "    }\n",
       "</style>\n",
       "<table border=\"1\" class=\"dataframe\">\n",
       "  <thead>\n",
       "    <tr style=\"text-align: right;\">\n",
       "      <th></th>\n",
       "      <th>Name</th>\n",
       "      <th>Team</th>\n",
       "      <th>Age</th>\n",
       "      <th>Position</th>\n",
       "      <th>Apps</th>\n",
       "      <th>Mins</th>\n",
       "      <th>Goals</th>\n",
       "      <th>Assists</th>\n",
       "      <th>Yel</th>\n",
       "      <th>Red</th>\n",
       "      <th>...</th>\n",
       "      <th>Drb_y</th>\n",
       "      <th>Fouled</th>\n",
       "      <th>Off</th>\n",
       "      <th>Disp</th>\n",
       "      <th>UnsTch</th>\n",
       "      <th>AvgP</th>\n",
       "      <th>Crosses</th>\n",
       "      <th>LongB</th>\n",
       "      <th>ThrB</th>\n",
       "      <th>Value</th>\n",
       "    </tr>\n",
       "  </thead>\n",
       "  <tbody>\n",
       "    <tr>\n",
       "      <th>195</th>\n",
       "      <td>Samuele Birindelli</td>\n",
       "      <td>Monza</td>\n",
       "      <td>24</td>\n",
       "      <td>D(R),M(R)</td>\n",
       "      <td>22(13)</td>\n",
       "      <td>2016</td>\n",
       "      <td>0</td>\n",
       "      <td>2</td>\n",
       "      <td>7</td>\n",
       "      <td>0</td>\n",
       "      <td>...</td>\n",
       "      <td>0.3</td>\n",
       "      <td>0.9</td>\n",
       "      <td>0</td>\n",
       "      <td>0.3</td>\n",
       "      <td>1</td>\n",
       "      <td>25.6</td>\n",
       "      <td>0.5</td>\n",
       "      <td>1.4</td>\n",
       "      <td>0</td>\n",
       "      <td>3500000</td>\n",
       "    </tr>\n",
       "    <tr>\n",
       "      <th>888</th>\n",
       "      <td>Youri Tielemans</td>\n",
       "      <td>Aston Villa</td>\n",
       "      <td>27</td>\n",
       "      <td>M(C)</td>\n",
       "      <td>17(15)</td>\n",
       "      <td>1622</td>\n",
       "      <td>2</td>\n",
       "      <td>6</td>\n",
       "      <td>3</td>\n",
       "      <td>0</td>\n",
       "      <td>...</td>\n",
       "      <td>0.5</td>\n",
       "      <td>0.9</td>\n",
       "      <td>0</td>\n",
       "      <td>0.7</td>\n",
       "      <td>0.5</td>\n",
       "      <td>28.3</td>\n",
       "      <td>0.1</td>\n",
       "      <td>1.1</td>\n",
       "      <td>0.2</td>\n",
       "      <td>25000000</td>\n",
       "    </tr>\n",
       "    <tr>\n",
       "      <th>226</th>\n",
       "      <td>Bilal Boutobba</td>\n",
       "      <td>Clermont Foot</td>\n",
       "      <td>25</td>\n",
       "      <td>AM(R)</td>\n",
       "      <td>10(17)</td>\n",
       "      <td>921</td>\n",
       "      <td>1</td>\n",
       "      <td>1</td>\n",
       "      <td>1</td>\n",
       "      <td>0</td>\n",
       "      <td>...</td>\n",
       "      <td>0.6</td>\n",
       "      <td>1</td>\n",
       "      <td>0.1</td>\n",
       "      <td>0.6</td>\n",
       "      <td>1</td>\n",
       "      <td>12.3</td>\n",
       "      <td>0.6</td>\n",
       "      <td>0.2</td>\n",
       "      <td>0.1</td>\n",
       "      <td>1800000</td>\n",
       "    </tr>\n",
       "    <tr>\n",
       "      <th>746</th>\n",
       "      <td>Mama Baldé</td>\n",
       "      <td>Lyon</td>\n",
       "      <td>28</td>\n",
       "      <td>D(R),M(CLR),FW</td>\n",
       "      <td>4(16)</td>\n",
       "      <td>543</td>\n",
       "      <td>2</td>\n",
       "      <td>3</td>\n",
       "      <td>1</td>\n",
       "      <td>0</td>\n",
       "      <td>...</td>\n",
       "      <td>0.6</td>\n",
       "      <td>0.5</td>\n",
       "      <td>0.2</td>\n",
       "      <td>0.6</td>\n",
       "      <td>1.4</td>\n",
       "      <td>6.5</td>\n",
       "      <td>0</td>\n",
       "      <td>0.2</td>\n",
       "      <td>0.1</td>\n",
       "      <td>4000000</td>\n",
       "    </tr>\n",
       "    <tr>\n",
       "      <th>89</th>\n",
       "      <td>Thomas Kaminski</td>\n",
       "      <td>Luton</td>\n",
       "      <td>31</td>\n",
       "      <td>GK</td>\n",
       "      <td>38</td>\n",
       "      <td>3406</td>\n",
       "      <td>0</td>\n",
       "      <td>0</td>\n",
       "      <td>3</td>\n",
       "      <td>0</td>\n",
       "      <td>...</td>\n",
       "      <td>0.1</td>\n",
       "      <td>0.1</td>\n",
       "      <td>0</td>\n",
       "      <td>0</td>\n",
       "      <td>0</td>\n",
       "      <td>34.5</td>\n",
       "      <td>0</td>\n",
       "      <td>8.2</td>\n",
       "      <td>0</td>\n",
       "      <td>3000000</td>\n",
       "    </tr>\n",
       "    <tr>\n",
       "      <th>443</th>\n",
       "      <td>Danny Ings</td>\n",
       "      <td>West Ham</td>\n",
       "      <td>31</td>\n",
       "      <td>AM(C),FW</td>\n",
       "      <td>3(17)</td>\n",
       "      <td>392</td>\n",
       "      <td>1</td>\n",
       "      <td>0</td>\n",
       "      <td>1</td>\n",
       "      <td>0</td>\n",
       "      <td>...</td>\n",
       "      <td>0.3</td>\n",
       "      <td>0.3</td>\n",
       "      <td>0.1</td>\n",
       "      <td>0.2</td>\n",
       "      <td>0.5</td>\n",
       "      <td>5.3</td>\n",
       "      <td>0</td>\n",
       "      <td>0.1</td>\n",
       "      <td>0</td>\n",
       "      <td>8000000</td>\n",
       "    </tr>\n",
       "    <tr>\n",
       "      <th>1124</th>\n",
       "      <td>Jay Rodríguez</td>\n",
       "      <td>Burnley</td>\n",
       "      <td>34</td>\n",
       "      <td>AM(CLR),FW</td>\n",
       "      <td>7(14)</td>\n",
       "      <td>815</td>\n",
       "      <td>2</td>\n",
       "      <td>1</td>\n",
       "      <td>0</td>\n",
       "      <td>0</td>\n",
       "      <td>...</td>\n",
       "      <td>0.3</td>\n",
       "      <td>0.3</td>\n",
       "      <td>0.3</td>\n",
       "      <td>0.2</td>\n",
       "      <td>1</td>\n",
       "      <td>10.2</td>\n",
       "      <td>0</td>\n",
       "      <td>0.3</td>\n",
       "      <td>0</td>\n",
       "      <td>1000000</td>\n",
       "    </tr>\n",
       "    <tr>\n",
       "      <th>910</th>\n",
       "      <td>Brajan Gruda</td>\n",
       "      <td>Mainz</td>\n",
       "      <td>20</td>\n",
       "      <td>AM(C)</td>\n",
       "      <td>19(9)</td>\n",
       "      <td>1652</td>\n",
       "      <td>4</td>\n",
       "      <td>3</td>\n",
       "      <td>5</td>\n",
       "      <td>0</td>\n",
       "      <td>...</td>\n",
       "      <td>2.5</td>\n",
       "      <td>1.7</td>\n",
       "      <td>0.3</td>\n",
       "      <td>1.8</td>\n",
       "      <td>2.5</td>\n",
       "      <td>19.0</td>\n",
       "      <td>0.4</td>\n",
       "      <td>0.4</td>\n",
       "      <td>0.1</td>\n",
       "      <td>20000000</td>\n",
       "    </tr>\n",
       "    <tr>\n",
       "      <th>294</th>\n",
       "      <td>Alessio Romagnoli</td>\n",
       "      <td>Lazio</td>\n",
       "      <td>29</td>\n",
       "      <td>D(CL)</td>\n",
       "      <td>26(3)</td>\n",
       "      <td>2410</td>\n",
       "      <td>0</td>\n",
       "      <td>0</td>\n",
       "      <td>9</td>\n",
       "      <td>0</td>\n",
       "      <td>...</td>\n",
       "      <td>0</td>\n",
       "      <td>0.7</td>\n",
       "      <td>0</td>\n",
       "      <td>0</td>\n",
       "      <td>0.3</td>\n",
       "      <td>60.3</td>\n",
       "      <td>0</td>\n",
       "      <td>1.7</td>\n",
       "      <td>0</td>\n",
       "      <td>15000000</td>\n",
       "    </tr>\n",
       "    <tr>\n",
       "      <th>189</th>\n",
       "      <td>Lorenzo Pellegrini</td>\n",
       "      <td>Roma</td>\n",
       "      <td>28</td>\n",
       "      <td>M(CL)</td>\n",
       "      <td>20(9)</td>\n",
       "      <td>1867</td>\n",
       "      <td>8</td>\n",
       "      <td>3</td>\n",
       "      <td>7</td>\n",
       "      <td>0</td>\n",
       "      <td>...</td>\n",
       "      <td>0.7</td>\n",
       "      <td>1.2</td>\n",
       "      <td>0.1</td>\n",
       "      <td>0.7</td>\n",
       "      <td>1.4</td>\n",
       "      <td>26.6</td>\n",
       "      <td>0.9</td>\n",
       "      <td>0.5</td>\n",
       "      <td>0.1</td>\n",
       "      <td>25000000</td>\n",
       "    </tr>\n",
       "    <tr>\n",
       "      <th>1415</th>\n",
       "      <td>Ander Herrera</td>\n",
       "      <td>Athletic Club</td>\n",
       "      <td>34</td>\n",
       "      <td>M(C)</td>\n",
       "      <td>10(13)</td>\n",
       "      <td>1023</td>\n",
       "      <td>0</td>\n",
       "      <td>3</td>\n",
       "      <td>4</td>\n",
       "      <td>0</td>\n",
       "      <td>...</td>\n",
       "      <td>0.2</td>\n",
       "      <td>0.5</td>\n",
       "      <td>0</td>\n",
       "      <td>0.3</td>\n",
       "      <td>0.3</td>\n",
       "      <td>32.0</td>\n",
       "      <td>0.2</td>\n",
       "      <td>1.2</td>\n",
       "      <td>0.1</td>\n",
       "      <td>2000000</td>\n",
       "    </tr>\n",
       "    <tr>\n",
       "      <th>1353</th>\n",
       "      <td>Joselu</td>\n",
       "      <td>Real Madrid</td>\n",
       "      <td>34</td>\n",
       "      <td>FW</td>\n",
       "      <td>15(19)</td>\n",
       "      <td>1676</td>\n",
       "      <td>10</td>\n",
       "      <td>2</td>\n",
       "      <td>1</td>\n",
       "      <td>0</td>\n",
       "      <td>...</td>\n",
       "      <td>0.2</td>\n",
       "      <td>0.4</td>\n",
       "      <td>0.5</td>\n",
       "      <td>0.3</td>\n",
       "      <td>0.9</td>\n",
       "      <td>10.2</td>\n",
       "      <td>0</td>\n",
       "      <td>0.1</td>\n",
       "      <td>0</td>\n",
       "      <td>5000000</td>\n",
       "    </tr>\n",
       "    <tr>\n",
       "      <th>599</th>\n",
       "      <td>Anthony Jung</td>\n",
       "      <td>Werder Bremen</td>\n",
       "      <td>32</td>\n",
       "      <td>D(CL),M(L)</td>\n",
       "      <td>30(1)</td>\n",
       "      <td>2584</td>\n",
       "      <td>1</td>\n",
       "      <td>0</td>\n",
       "      <td>4</td>\n",
       "      <td>1</td>\n",
       "      <td>...</td>\n",
       "      <td>0.2</td>\n",
       "      <td>0.5</td>\n",
       "      <td>0</td>\n",
       "      <td>0.1</td>\n",
       "      <td>0.4</td>\n",
       "      <td>56.0</td>\n",
       "      <td>0.1</td>\n",
       "      <td>2.8</td>\n",
       "      <td>0</td>\n",
       "      <td>1000000</td>\n",
       "    </tr>\n",
       "    <tr>\n",
       "      <th>442</th>\n",
       "      <td>Aurélien Tchouaméni</td>\n",
       "      <td>Real Madrid</td>\n",
       "      <td>24</td>\n",
       "      <td>D(C),DMC</td>\n",
       "      <td>22(5)</td>\n",
       "      <td>1987</td>\n",
       "      <td>3</td>\n",
       "      <td>1</td>\n",
       "      <td>7</td>\n",
       "      <td>0</td>\n",
       "      <td>...</td>\n",
       "      <td>0.2</td>\n",
       "      <td>0.8</td>\n",
       "      <td>0</td>\n",
       "      <td>0.4</td>\n",
       "      <td>0.5</td>\n",
       "      <td>55.2</td>\n",
       "      <td>0.1</td>\n",
       "      <td>1.9</td>\n",
       "      <td>0</td>\n",
       "      <td>100000000</td>\n",
       "    </tr>\n",
       "    <tr>\n",
       "      <th>677</th>\n",
       "      <td>Portu</td>\n",
       "      <td>Girona</td>\n",
       "      <td>32</td>\n",
       "      <td>M(CLR),FW</td>\n",
       "      <td>11(22)</td>\n",
       "      <td>1180</td>\n",
       "      <td>7</td>\n",
       "      <td>5</td>\n",
       "      <td>3</td>\n",
       "      <td>0</td>\n",
       "      <td>...</td>\n",
       "      <td>0.1</td>\n",
       "      <td>0.5</td>\n",
       "      <td>0.3</td>\n",
       "      <td>0.5</td>\n",
       "      <td>0.7</td>\n",
       "      <td>8.7</td>\n",
       "      <td>0.1</td>\n",
       "      <td>0</td>\n",
       "      <td>0.1</td>\n",
       "      <td>3500000</td>\n",
       "    </tr>\n",
       "    <tr>\n",
       "      <th>1481</th>\n",
       "      <td>Yunus Musah</td>\n",
       "      <td>AC Milan</td>\n",
       "      <td>21</td>\n",
       "      <td>M(CR)</td>\n",
       "      <td>13(17)</td>\n",
       "      <td>1468</td>\n",
       "      <td>0</td>\n",
       "      <td>2</td>\n",
       "      <td>5</td>\n",
       "      <td>0</td>\n",
       "      <td>...</td>\n",
       "      <td>0.7</td>\n",
       "      <td>0.7</td>\n",
       "      <td>0.1</td>\n",
       "      <td>0.5</td>\n",
       "      <td>1.1</td>\n",
       "      <td>20.0</td>\n",
       "      <td>0.2</td>\n",
       "      <td>0.5</td>\n",
       "      <td>0</td>\n",
       "      <td>22000000</td>\n",
       "    </tr>\n",
       "    <tr>\n",
       "      <th>1516</th>\n",
       "      <td>Benno Schmitz</td>\n",
       "      <td>FC Koln</td>\n",
       "      <td>29</td>\n",
       "      <td>D(CLR)</td>\n",
       "      <td>13(9)</td>\n",
       "      <td>1155</td>\n",
       "      <td>0</td>\n",
       "      <td>1</td>\n",
       "      <td>5</td>\n",
       "      <td>0</td>\n",
       "      <td>...</td>\n",
       "      <td>0.2</td>\n",
       "      <td>0.5</td>\n",
       "      <td>0</td>\n",
       "      <td>0</td>\n",
       "      <td>0.3</td>\n",
       "      <td>24.1</td>\n",
       "      <td>0.3</td>\n",
       "      <td>1</td>\n",
       "      <td>0</td>\n",
       "      <td>1500000</td>\n",
       "    </tr>\n",
       "    <tr>\n",
       "      <th>1369</th>\n",
       "      <td>Raúl García Escudero</td>\n",
       "      <td>Athletic Club</td>\n",
       "      <td>37</td>\n",
       "      <td>M(CLR),FW</td>\n",
       "      <td>1(19)</td>\n",
       "      <td>404</td>\n",
       "      <td>1</td>\n",
       "      <td>0</td>\n",
       "      <td>4</td>\n",
       "      <td>0</td>\n",
       "      <td>...</td>\n",
       "      <td>0.1</td>\n",
       "      <td>0.5</td>\n",
       "      <td>0.3</td>\n",
       "      <td>0.3</td>\n",
       "      <td>0.5</td>\n",
       "      <td>6.5</td>\n",
       "      <td>0</td>\n",
       "      <td>0.3</td>\n",
       "      <td>0.1</td>\n",
       "      <td>4000000</td>\n",
       "    </tr>\n",
       "    <tr>\n",
       "      <th>1064</th>\n",
       "      <td>Arthur Atta</td>\n",
       "      <td>Metz</td>\n",
       "      <td>21</td>\n",
       "      <td>M(C)</td>\n",
       "      <td>10(11)</td>\n",
       "      <td>922</td>\n",
       "      <td>1</td>\n",
       "      <td>2</td>\n",
       "      <td>0</td>\n",
       "      <td>0</td>\n",
       "      <td>...</td>\n",
       "      <td>0.6</td>\n",
       "      <td>0.6</td>\n",
       "      <td>0.2</td>\n",
       "      <td>0.8</td>\n",
       "      <td>0.8</td>\n",
       "      <td>18.2</td>\n",
       "      <td>0.2</td>\n",
       "      <td>1.3</td>\n",
       "      <td>0</td>\n",
       "      <td>1000000</td>\n",
       "    </tr>\n",
       "    <tr>\n",
       "      <th>909</th>\n",
       "      <td>Jordy Makengo</td>\n",
       "      <td>Freiburg</td>\n",
       "      <td>22</td>\n",
       "      <td>D(L)</td>\n",
       "      <td>10(10)</td>\n",
       "      <td>1021</td>\n",
       "      <td>0</td>\n",
       "      <td>0</td>\n",
       "      <td>1</td>\n",
       "      <td>0</td>\n",
       "      <td>...</td>\n",
       "      <td>0.6</td>\n",
       "      <td>0.6</td>\n",
       "      <td>0.1</td>\n",
       "      <td>0.3</td>\n",
       "      <td>0.7</td>\n",
       "      <td>23.3</td>\n",
       "      <td>0.3</td>\n",
       "      <td>0.8</td>\n",
       "      <td>0</td>\n",
       "      <td>3500000</td>\n",
       "    </tr>\n",
       "    <tr>\n",
       "      <th>1268</th>\n",
       "      <td>Iago</td>\n",
       "      <td>Augsburg</td>\n",
       "      <td>27</td>\n",
       "      <td>D(L),M(L)</td>\n",
       "      <td>18(5)</td>\n",
       "      <td>1625</td>\n",
       "      <td>1</td>\n",
       "      <td>1</td>\n",
       "      <td>4</td>\n",
       "      <td>0</td>\n",
       "      <td>...</td>\n",
       "      <td>0.8</td>\n",
       "      <td>1</td>\n",
       "      <td>0.2</td>\n",
       "      <td>0.4</td>\n",
       "      <td>1</td>\n",
       "      <td>25.2</td>\n",
       "      <td>0.9</td>\n",
       "      <td>1.8</td>\n",
       "      <td>0</td>\n",
       "      <td>4000000</td>\n",
       "    </tr>\n",
       "    <tr>\n",
       "      <th>1076</th>\n",
       "      <td>Ruan Tressoldi</td>\n",
       "      <td>Sassuolo</td>\n",
       "      <td>25</td>\n",
       "      <td>D(C)</td>\n",
       "      <td>16(10)</td>\n",
       "      <td>1517</td>\n",
       "      <td>0</td>\n",
       "      <td>0</td>\n",
       "      <td>5</td>\n",
       "      <td>1</td>\n",
       "      <td>...</td>\n",
       "      <td>0.1</td>\n",
       "      <td>0.5</td>\n",
       "      <td>0</td>\n",
       "      <td>0.1</td>\n",
       "      <td>0.2</td>\n",
       "      <td>26.1</td>\n",
       "      <td>0</td>\n",
       "      <td>1.7</td>\n",
       "      <td>0</td>\n",
       "      <td>2500000</td>\n",
       "    </tr>\n",
       "    <tr>\n",
       "      <th>1452</th>\n",
       "      <td>Yannick Gerhardt</td>\n",
       "      <td>Wolfsburg</td>\n",
       "      <td>30</td>\n",
       "      <td>D(L),M(CL)</td>\n",
       "      <td>18(7)</td>\n",
       "      <td>1636</td>\n",
       "      <td>2</td>\n",
       "      <td>1</td>\n",
       "      <td>5</td>\n",
       "      <td>0</td>\n",
       "      <td>...</td>\n",
       "      <td>0</td>\n",
       "      <td>0.6</td>\n",
       "      <td>0.1</td>\n",
       "      <td>0.4</td>\n",
       "      <td>0.5</td>\n",
       "      <td>28.2</td>\n",
       "      <td>0.2</td>\n",
       "      <td>0.8</td>\n",
       "      <td>0</td>\n",
       "      <td>4000000</td>\n",
       "    </tr>\n",
       "    <tr>\n",
       "      <th>391</th>\n",
       "      <td>Jacob Brown</td>\n",
       "      <td>Luton</td>\n",
       "      <td>26</td>\n",
       "      <td>M(CLR),FW</td>\n",
       "      <td>12(7)</td>\n",
       "      <td>1020</td>\n",
       "      <td>2</td>\n",
       "      <td>0</td>\n",
       "      <td>4</td>\n",
       "      <td>0</td>\n",
       "      <td>...</td>\n",
       "      <td>0.3</td>\n",
       "      <td>1</td>\n",
       "      <td>0.3</td>\n",
       "      <td>1.3</td>\n",
       "      <td>1.3</td>\n",
       "      <td>12.1</td>\n",
       "      <td>0.2</td>\n",
       "      <td>0.2</td>\n",
       "      <td>0</td>\n",
       "      <td>4000000</td>\n",
       "    </tr>\n",
       "    <tr>\n",
       "      <th>1251</th>\n",
       "      <td>Berat Djimsiti</td>\n",
       "      <td>Atalanta</td>\n",
       "      <td>31</td>\n",
       "      <td>D(C)</td>\n",
       "      <td>32(5)</td>\n",
       "      <td>2832</td>\n",
       "      <td>0</td>\n",
       "      <td>1</td>\n",
       "      <td>4</td>\n",
       "      <td>0</td>\n",
       "      <td>...</td>\n",
       "      <td>0</td>\n",
       "      <td>0.3</td>\n",
       "      <td>0</td>\n",
       "      <td>0.1</td>\n",
       "      <td>0.2</td>\n",
       "      <td>44.2</td>\n",
       "      <td>0</td>\n",
       "      <td>2</td>\n",
       "      <td>0</td>\n",
       "      <td>10000000</td>\n",
       "    </tr>\n",
       "    <tr>\n",
       "      <th>583</th>\n",
       "      <td>Ferland Mendy</td>\n",
       "      <td>Real Madrid</td>\n",
       "      <td>29</td>\n",
       "      <td>D(L),M(L)</td>\n",
       "      <td>21(2)</td>\n",
       "      <td>1727</td>\n",
       "      <td>0</td>\n",
       "      <td>0</td>\n",
       "      <td>5</td>\n",
       "      <td>0</td>\n",
       "      <td>...</td>\n",
       "      <td>0.6</td>\n",
       "      <td>0.7</td>\n",
       "      <td>0</td>\n",
       "      <td>0.6</td>\n",
       "      <td>0.9</td>\n",
       "      <td>49.3</td>\n",
       "      <td>0.1</td>\n",
       "      <td>1</td>\n",
       "      <td>0</td>\n",
       "      <td>22000000</td>\n",
       "    </tr>\n",
       "    <tr>\n",
       "      <th>1434</th>\n",
       "      <td>Ylber Ramadani</td>\n",
       "      <td>Lecce</td>\n",
       "      <td>28</td>\n",
       "      <td>DMC</td>\n",
       "      <td>34</td>\n",
       "      <td>2976</td>\n",
       "      <td>1</td>\n",
       "      <td>0</td>\n",
       "      <td>13</td>\n",
       "      <td>0</td>\n",
       "      <td>...</td>\n",
       "      <td>0.7</td>\n",
       "      <td>1.1</td>\n",
       "      <td>0</td>\n",
       "      <td>0.7</td>\n",
       "      <td>1</td>\n",
       "      <td>36.2</td>\n",
       "      <td>0.1</td>\n",
       "      <td>2.2</td>\n",
       "      <td>0</td>\n",
       "      <td>4000000</td>\n",
       "    </tr>\n",
       "    <tr>\n",
       "      <th>429</th>\n",
       "      <td>Gédéon Kalulu</td>\n",
       "      <td>Lorient</td>\n",
       "      <td>26</td>\n",
       "      <td>D(R),M(R)</td>\n",
       "      <td>11(8)</td>\n",
       "      <td>969</td>\n",
       "      <td>0</td>\n",
       "      <td>1</td>\n",
       "      <td>0</td>\n",
       "      <td>0</td>\n",
       "      <td>...</td>\n",
       "      <td>0.2</td>\n",
       "      <td>0.4</td>\n",
       "      <td>0</td>\n",
       "      <td>0.4</td>\n",
       "      <td>0.5</td>\n",
       "      <td>23.3</td>\n",
       "      <td>0.4</td>\n",
       "      <td>0.7</td>\n",
       "      <td>0</td>\n",
       "      <td>3500000</td>\n",
       "    </tr>\n",
       "    <tr>\n",
       "      <th>528</th>\n",
       "      <td>Nikola Vlasic</td>\n",
       "      <td>Torino</td>\n",
       "      <td>26</td>\n",
       "      <td>AM(CLR),FW</td>\n",
       "      <td>30(3)</td>\n",
       "      <td>2615</td>\n",
       "      <td>3</td>\n",
       "      <td>2</td>\n",
       "      <td>3</td>\n",
       "      <td>0</td>\n",
       "      <td>...</td>\n",
       "      <td>0.8</td>\n",
       "      <td>1.1</td>\n",
       "      <td>0.3</td>\n",
       "      <td>1.1</td>\n",
       "      <td>1.7</td>\n",
       "      <td>28.9</td>\n",
       "      <td>0.4</td>\n",
       "      <td>0.6</td>\n",
       "      <td>0.1</td>\n",
       "      <td>10000000</td>\n",
       "    </tr>\n",
       "    <tr>\n",
       "      <th>177</th>\n",
       "      <td>João Cancelo</td>\n",
       "      <td>Barcelona</td>\n",
       "      <td>30</td>\n",
       "      <td>D(LR),M(LR)</td>\n",
       "      <td>29(3)</td>\n",
       "      <td>2506</td>\n",
       "      <td>2</td>\n",
       "      <td>4</td>\n",
       "      <td>7</td>\n",
       "      <td>0</td>\n",
       "      <td>...</td>\n",
       "      <td>1.9</td>\n",
       "      <td>0.8</td>\n",
       "      <td>0.1</td>\n",
       "      <td>0.8</td>\n",
       "      <td>1.7</td>\n",
       "      <td>48.7</td>\n",
       "      <td>0.6</td>\n",
       "      <td>2.2</td>\n",
       "      <td>0.1</td>\n",
       "      <td>25000000</td>\n",
       "    </tr>\n",
       "  </tbody>\n",
       "</table>\n",
       "<p>30 rows × 34 columns</p>\n",
       "</div>"
      ]
     },
     "metadata": {},
     "output_type": "display_data"
    }
   ],
   "execution_count": 167
  },
  {
   "metadata": {},
   "cell_type": "code",
   "outputs": [],
   "execution_count": null,
   "source": "",
   "id": "28dc7bb1b4fe835a"
  }
 ],
 "metadata": {
  "kernelspec": {
   "display_name": "Python 3",
   "language": "python",
   "name": "python3"
  },
  "language_info": {
   "codemirror_mode": {
    "name": "ipython",
    "version": 2
   },
   "file_extension": ".py",
   "mimetype": "text/x-python",
   "name": "python",
   "nbconvert_exporter": "python",
   "pygments_lexer": "ipython2",
   "version": "2.7.6"
  }
 },
 "nbformat": 4,
 "nbformat_minor": 5
}
